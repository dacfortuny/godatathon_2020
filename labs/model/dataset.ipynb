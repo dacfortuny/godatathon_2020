{
 "cells": [
  {
   "cell_type": "code",
   "execution_count": 1,
   "metadata": {},
   "outputs": [
    {
     "name": "stdout",
     "output_type": "stream",
     "text": [
      "/home/xavier/projects/godatathon_2020\n"
     ]
    }
   ],
   "source": [
    "cd ../.."
   ]
  },
  {
   "cell_type": "code",
   "execution_count": 11,
   "metadata": {},
   "outputs": [],
   "source": [
    "import pandas as pd\n",
    "import torch\n",
    "from torch import nn\n",
    "from torch.utils.data import Dataset, DataLoader\n",
    "\n",
    "from src.model.nets import Encoder, Decoder, Seq2Seq"
   ]
  },
  {
   "cell_type": "code",
   "execution_count": 3,
   "metadata": {},
   "outputs": [],
   "source": [
    "volume = pd.read_csv(\"data/raw/gx_volume.csv\", index_col=0)\n",
    "submissions = pd.read_csv(\"data/raw/submission_template.csv\")\n"
   ]
  },
  {
   "cell_type": "code",
   "execution_count": 4,
   "metadata": {},
   "outputs": [],
   "source": [
    "volume[\"country_brand\"] = volume[\"country\"] + \"-\" + volume[\"brand\"]\n",
    "submissions[\"country_brand\"] = submissions[\"country\"] + \"-\" + submissions[\"brand\"]"
   ]
  },
  {
   "cell_type": "code",
   "execution_count": 5,
   "metadata": {},
   "outputs": [],
   "source": [
    "# Filter out country/brand in submissions\n",
    "volume = volume[~volume[\"country_brand\"].isin(submissions[\"country_brand\"])]"
   ]
  },
  {
   "cell_type": "code",
   "execution_count": 6,
   "metadata": {},
   "outputs": [],
   "source": [
    "volume = volume.sort_values([\"country\", \"brand\", \"month_num\"])"
   ]
  },
  {
   "cell_type": "markdown",
   "metadata": {},
   "source": [
    "### Post-processing"
   ]
  },
  {
   "cell_type": "code",
   "execution_count": 7,
   "metadata": {},
   "outputs": [],
   "source": [
    "# Note: In the future, we will compute the loss only on data that we have available for each country/mont\n",
    "# i.e. If a country only has volume until mont 20, we will pad/ignore the loss of months 21-24\n",
    "country_brand_post_count = volume[volume[\"month_num\"] >= 0].groupby(\"country_brand\").size()\n",
    "idx_post_volume_full = country_brand_post_count[country_brand_post_count == 24].index\n",
    "volume = volume[volume[\"country_brand\"].isin(idx_post_volume_full)]"
   ]
  },
  {
   "cell_type": "markdown",
   "metadata": {},
   "source": [
    "### Grouping"
   ]
  },
  {
   "cell_type": "code",
   "execution_count": 8,
   "metadata": {},
   "outputs": [],
   "source": [
    "g = volume.groupby([\"country\", \"brand\"])"
   ]
  },
  {
   "cell_type": "code",
   "execution_count": 9,
   "metadata": {},
   "outputs": [],
   "source": [
    "for idx, df in g:\n",
    "    df_pre = df[df[\"month_num\"] < 0]\n",
    "    df_post = df[df[\"month_num\"] >= 0]\n",
    "    \n",
    "    # TODO: Take into consideration scaling\n",
    "    \n",
    "    X = df_pre[\"volume\"]\n",
    "    y = df_post[\"volume\"] # Todo: Add shift (take up to month -1)\n",
    "    break"
   ]
  },
  {
   "cell_type": "markdown",
   "metadata": {},
   "source": [
    "# Dataset"
   ]
  },
  {
   "cell_type": "code",
   "execution_count": 38,
   "metadata": {},
   "outputs": [],
   "source": [
    "class NovartisDataset(Dataset):\n",
    "    def __init__(self, volume_df):\n",
    "        self.data = volume_df\n",
    "        self.Xs = list()\n",
    "        self.ys = list()\n",
    "        \n",
    "        volume_grouped = self.data.groupby([\"country\", \"brand\"])\n",
    "        for _, df in volume_grouped:\n",
    "            self.Xs.append(df[\"volume\"][df[\"month_num\"] < 0].values)\n",
    "            self.ys.append(df[\"volume\"][df[\"month_num\"] >= 0].values)\n",
    "    \n",
    "    def __len__(self):\n",
    "        return len(self.Xs)\n",
    "    \n",
    "    def __getitem__(self, index):\n",
    "        return self.Xs[index], self.ys[index]"
   ]
  },
  {
   "cell_type": "code",
   "execution_count": 56,
   "metadata": {},
   "outputs": [],
   "source": [
    "g = volume.groupby([\"country\", \"brand\"])"
   ]
  },
  {
   "cell_type": "code",
   "execution_count": 39,
   "metadata": {},
   "outputs": [],
   "source": [
    "ds = NovartisDataset(volume)"
   ]
  },
  {
   "cell_type": "code",
   "execution_count": 46,
   "metadata": {},
   "outputs": [],
   "source": [
    "for a, b in ds:\n",
    "    assert len(b) == 24"
   ]
  },
  {
   "cell_type": "code",
   "execution_count": 53,
   "metadata": {},
   "outputs": [],
   "source": [
    "dl = DataLoader(ds, batch_size=1, num_workers=2)"
   ]
  },
  {
   "cell_type": "code",
   "execution_count": 54,
   "metadata": {},
   "outputs": [],
   "source": [
    "for x in dl:\n",
    "    pass"
   ]
  },
  {
   "cell_type": "code",
   "execution_count": 55,
   "metadata": {},
   "outputs": [
    {
     "data": {
      "text/plain": [
       "[tensor([[11308.0000, 15420.0000, 10280.0000, 16448.0000, 13364.0000, 12336.0000,\n",
       "          20560.0000, 16448.0000, 15420.0000, 14392.0000, 20560.0000, 17476.0000,\n",
       "          15420.0000, 15420.0000, 20560.0000, 19737.6000, 19737.6000, 15420.0000,\n",
       "          25905.6000, 18915.2000, 19737.6000, 18709.6000, 25905.6000, 25905.6000,\n",
       "          18709.6000, 30223.2000, 23438.4000, 21773.0400, 25905.6000, 25288.8000,\n",
       "          23849.6000, 32484.8000, 21588.0000, 34335.2000, 25905.6000, 24507.5200,\n",
       "          31703.5200, 31456.8000, 32443.6800, 27632.6400, 28619.5200, 25761.6800,\n",
       "          30593.2800, 28619.5200, 20724.4800, 27632.6400, 35527.6800, 29935.3600,\n",
       "          32567.0400, 35774.4000, 17763.8400, 26645.7600, 39475.2000]],\n",
       "        dtype=torch.float64),\n",
       " tensor([[27632.6400, 25658.8800, 26645.7600, 26645.7600, 25843.9200, 20724.4800,\n",
       "          16776.9600, 29606.4000, 18750.7200,  3947.5200, 13816.3200, 11102.4000,\n",
       "           9868.8000,  7154.8800, 12829.4400,  6908.1600,  9868.8000,  6908.1600,\n",
       "          15790.0800, 10752.8800,  9868.8000,  6908.1600,  3947.5200,  7895.0400]],\n",
       "        dtype=torch.float64)]"
      ]
     },
     "execution_count": 55,
     "metadata": {},
     "output_type": "execute_result"
    }
   ],
   "source": [
    "x"
   ]
  }
 ],
 "metadata": {
  "kernelspec": {
   "display_name": "Python 3",
   "language": "python",
   "name": "python3"
  },
  "language_info": {
   "codemirror_mode": {
    "name": "ipython",
    "version": 3
   },
   "file_extension": ".py",
   "mimetype": "text/x-python",
   "name": "python",
   "nbconvert_exporter": "python",
   "pygments_lexer": "ipython3",
   "version": "3.8.6"
  }
 },
 "nbformat": 4,
 "nbformat_minor": 4
}
