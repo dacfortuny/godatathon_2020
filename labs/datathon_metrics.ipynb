{
 "cells": [
  {
   "cell_type": "markdown",
   "metadata": {},
   "source": [
    "# Datathon metric implementation using Python"
   ]
  },
  {
   "cell_type": "code",
   "execution_count": 1,
   "metadata": {},
   "outputs": [],
   "source": [
    "import pandas as pd\n",
    "import numpy as np"
   ]
  },
  {
   "cell_type": "markdown",
   "metadata": {},
   "source": [
    "Custom uncertainty metric (forecast intervals metric)"
   ]
  },
  {
   "cell_type": "code",
   "execution_count": 2,
   "metadata": {},
   "outputs": [],
   "source": [
    "def uncertainty_metric(actuals, upper_bound, lower_bound, avg_volume):\n",
    "    \"\"\"\n",
    "    This function aims to compute the Uncertainty Metric for the\n",
    "    Novartis Datathon, 3rd edition.\n",
    "\n",
    "    Given the actuals followed by the upper_bound and lower_bound intervals and the\n",
    "    average volume, it will compute the metric score.\n",
    "\n",
    "    Keyword parameters:\n",
    "        actuals (float vector): Real value of Y\n",
    "        upper_bound (float vector): upper_bound forecast interval (percentile 95)\n",
    "        lower_bound (float vector): lower_bound forecast interval (percentile 5)\n",
    "        avg_volume (float): Average monthly volume of the 12 months\n",
    "                            prior to the generic entry.\n",
    "\n",
    "    Returns:\n",
    "        error_metric: Uncertainty Metric score (%)\n",
    "    \"\"\"\n",
    "    # Assert that all the sizes are OK\n",
    "    assert (len(lower_bound) == len(upper_bound)) == (len(actuals) == 24), \\\n",
    "        \"We should have 24 sorted actuals, upper_bound and lower_bound intervals\"\n",
    "\n",
    "    uncertainty_first6 = (\n",
    "        # Wide intervals are penalized\n",
    "        0.85 * sum(abs(upper_bound[:6] - lower_bound[:6])) +\n",
    "        0.15 * 2 / 0.05 * (\n",
    "            # If actuals are outside of the intervals, it adds error\n",
    "            sum((lower_bound[:6] - actuals[:6]) * (actuals[:6] < lower_bound[:6])) +\n",
    "            sum((actuals[:6] - upper_bound[:6]) * (actuals[:6] > upper_bound[:6]))\n",
    "        )\n",
    "    ) / (6 * avg_volume) * 100\n",
    "\n",
    "    uncertainty_last18 = (\n",
    "        0.85 * sum(abs(upper_bound[6:] - lower_bound[6:])) +\n",
    "        0.15 * 2 / 0.05 * (\n",
    "            sum((lower_bound[6:] - actuals[6:]) * (actuals[6:] < lower_bound[6:])) +\n",
    "            sum((actuals[6:] - upper_bound[6:]) * (actuals[6:] > upper_bound[6:]))\n",
    "        )\n",
    "    ) / (18 * avg_volume) * 100\n",
    "\n",
    "    return (0.6 * uncertainty_first6 + 0.4 * uncertainty_last18)"
   ]
  },
  {
   "cell_type": "code",
   "execution_count": 3,
   "metadata": {},
   "outputs": [],
   "source": [
    "def custom_metric(actuals, forecast, avg_volume):\n",
    "    \"\"\"\n",
    "    This function aims to compute the Custom Accuracy Metric\n",
    "    for the Novartis Datathon, 3rd edition.\n",
    "\n",
    "    Given the actuals followed by the forecast and the avg_volume\n",
    "    of the brand, it will compute the metric score.\n",
    "\n",
    "    Keyword parameters:\n",
    "        actuals (float vector): Real value of Y\n",
    "        forecast (float vector): Volume forecast\n",
    "        avg_volume (float): Average monthly volume of the 12 months\n",
    "                            prior to the generic entry.\n",
    "\n",
    "    Returns:\n",
    "        custom_metric: Uncertainty Metric score (%)\n",
    "    \"\"\"\n",
    "\n",
    "    # Compute the first part of the equation\n",
    "    # (custom MAPE with Average volume)\n",
    "    custom_mape = sum(abs(actuals - forecast)) / (24 * avg_volume)\n",
    "\n",
    "    # Compute the second part of the equation\n",
    "    # (custom 6-first-months MAPE with Average volume)\n",
    "    six_month_mape = \\\n",
    "        abs(sum(actuals[:6]) - sum(forecast[:6])) / (6 * avg_volume)\n",
    "\n",
    "    # Compute the third part of the equation\n",
    "    # (custom 6-months MAPE with Average volume)\n",
    "    twelve_month_mape = \\\n",
    "        abs(sum(actuals[6:12]) - sum(forecast[6:12])) / (6 * avg_volume)\n",
    "\n",
    "    # Compute the fourth part of the equation\n",
    "    # (custom 12-months MAPE with Average volume)\n",
    "    last_month_mape = \\\n",
    "        abs(sum(actuals[12:]) - sum(forecast[12:])) / (12 * avg_volume)\n",
    "\n",
    "    # Compute the custom metric\n",
    "    custom_metric = 0.5 * custom_mape + 0.3 * six_month_mape + \\\n",
    "        0.1 * (twelve_month_mape + last_month_mape)\n",
    "\n",
    "    return custom_metric * 100"
   ]
  },
  {
   "cell_type": "code",
   "execution_count": 4,
   "metadata": {},
   "outputs": [],
   "source": [
    "def apply_metrics(x):\n",
    "    \"\"\"\n",
    "    We are going to apply both metrics to the dataset.\n",
    "    We need to group the pandas DataFrame by id in order to calculate it.\n",
    "    IMPORTANT FACT: The metric should only be computed on id's with\n",
    "                    24 months of data.\n",
    "\n",
    "    Keyword parameters:\n",
    "        x (grouped pd.DataFrame): grouped dataset with actuals, forecast,\n",
    "                                  upper_bound, lower_bound, avg_vol\n",
    "\n",
    "    Returns:\n",
    "        pd.Series with metric results\n",
    "\n",
    "    Example use:\n",
    "        your_dataframe.groupby(id_col).apply(apply_metrics)\n",
    "    \"\"\"\n",
    "    d = {}\n",
    "    d[\"custom_metric\"] = custom_metric(\n",
    "        x[\"actuals\"], x[\"forecast\"], x[\"avg_vol\"].values[0]\n",
    "    )\n",
    "    d[\"uncertainty_metric\"] = uncertainty_metric(\n",
    "        x[\"actuals\"], x[\"upper_bound\"], x[\"lower_bound\"], x[\"avg_vol\"].values[0]\n",
    "    )\n",
    "\n",
    "    return pd.Series(d, index=[\"custom_metric\", \"uncertainty_metric\"])"
   ]
  },
  {
   "cell_type": "markdown",
   "metadata": {},
   "source": [
    "An example on a mock dataframe (to get used to the metric)"
   ]
  },
  {
   "cell_type": "code",
   "execution_count": 5,
   "metadata": {},
   "outputs": [],
   "source": [
    "data_dict = {\"country\": [str(1)] * 24,\n",
    "             \"brand\": [str(1)] * 24,\n",
    "             \"actuals\": [float(1000)] * 24,\n",
    "             \"forecast\": [float(950)] * 24,\n",
    "             \"avg_vol\": [10000] * 24,\n",
    "             \"lower_bound\": [800] * 24,\n",
    "             \"upper_bound\": [1200] * 24,\n",
    "             \"month_num\": [i for i in range(24)]}\n",
    "\n",
    "id_cols = [\"country\", \"brand\"]\n",
    "df = pd.DataFrame(data_dict, columns=[key for key in data_dict.keys()])"
   ]
  },
  {
   "cell_type": "code",
   "execution_count": 6,
   "metadata": {},
   "outputs": [
    {
     "data": {
      "text/plain": [
       "custom_metric         0.5\n",
       "uncertainty_metric    3.4\n",
       "dtype: float64"
      ]
     },
     "execution_count": 6,
     "metadata": {},
     "output_type": "execute_result"
    }
   ],
   "source": [
    "# Calculate the metric applying the \"apply_metrics\" function\n",
    "# (mean value of the absolute error values for the whole dataset)\n",
    "np.mean(abs(df.groupby(id_cols).apply(apply_metrics)))"
   ]
  },
  {
   "cell_type": "markdown",
   "metadata": {},
   "source": [
    "Datathon example"
   ]
  },
  {
   "cell_type": "code",
   "execution_count": 7,
   "metadata": {},
   "outputs": [],
   "source": [
    "# Load data\n",
    "df_mock = pd.read_csv(\"gx_volume.csv\", index_col=0)\n",
    "\n",
    "# Define an ID col\n",
    "id_cols = [\"country\", \"brand\"]"
   ]
  },
  {
   "cell_type": "code",
   "execution_count": 8,
   "metadata": {},
   "outputs": [
    {
     "data": {
      "text/html": [
       "<div>\n",
       "<style scoped>\n",
       "    .dataframe tbody tr th:only-of-type {\n",
       "        vertical-align: middle;\n",
       "    }\n",
       "\n",
       "    .dataframe tbody tr th {\n",
       "        vertical-align: top;\n",
       "    }\n",
       "\n",
       "    .dataframe thead th {\n",
       "        text-align: right;\n",
       "    }\n",
       "</style>\n",
       "<table border=\"1\" class=\"dataframe\">\n",
       "  <thead>\n",
       "    <tr style=\"text-align: right;\">\n",
       "      <th></th>\n",
       "      <th>country</th>\n",
       "      <th>brand</th>\n",
       "      <th>volume</th>\n",
       "      <th>month_num</th>\n",
       "      <th>month_name</th>\n",
       "    </tr>\n",
       "  </thead>\n",
       "  <tbody>\n",
       "    <tr>\n",
       "      <th>1</th>\n",
       "      <td>country_1</td>\n",
       "      <td>brand_3</td>\n",
       "      <td>18509088.6</td>\n",
       "      <td>-88</td>\n",
       "      <td>Jul</td>\n",
       "    </tr>\n",
       "    <tr>\n",
       "      <th>2</th>\n",
       "      <td>country_1</td>\n",
       "      <td>brand_3</td>\n",
       "      <td>19697508.0</td>\n",
       "      <td>-87</td>\n",
       "      <td>Aug</td>\n",
       "    </tr>\n",
       "    <tr>\n",
       "      <th>3</th>\n",
       "      <td>country_1</td>\n",
       "      <td>brand_3</td>\n",
       "      <td>18315721.8</td>\n",
       "      <td>-86</td>\n",
       "      <td>Sep</td>\n",
       "    </tr>\n",
       "    <tr>\n",
       "      <th>4</th>\n",
       "      <td>country_1</td>\n",
       "      <td>brand_3</td>\n",
       "      <td>19831199.4</td>\n",
       "      <td>-85</td>\n",
       "      <td>Oct</td>\n",
       "    </tr>\n",
       "    <tr>\n",
       "      <th>5</th>\n",
       "      <td>country_1</td>\n",
       "      <td>brand_3</td>\n",
       "      <td>18593281.8</td>\n",
       "      <td>-84</td>\n",
       "      <td>Nov</td>\n",
       "    </tr>\n",
       "  </tbody>\n",
       "</table>\n",
       "</div>"
      ],
      "text/plain": [
       "     country    brand      volume  month_num month_name\n",
       "1  country_1  brand_3  18509088.6        -88        Jul\n",
       "2  country_1  brand_3  19697508.0        -87        Aug\n",
       "3  country_1  brand_3  18315721.8        -86        Sep\n",
       "4  country_1  brand_3  19831199.4        -85        Oct\n",
       "5  country_1  brand_3  18593281.8        -84        Nov"
      ]
     },
     "execution_count": 8,
     "metadata": {},
     "output_type": "execute_result"
    }
   ],
   "source": [
    "df_mock.head()"
   ]
  },
  {
   "cell_type": "code",
   "execution_count": 9,
   "metadata": {},
   "outputs": [
    {
     "data": {
      "text/html": [
       "<div>\n",
       "<style scoped>\n",
       "    .dataframe tbody tr th:only-of-type {\n",
       "        vertical-align: middle;\n",
       "    }\n",
       "\n",
       "    .dataframe tbody tr th {\n",
       "        vertical-align: top;\n",
       "    }\n",
       "\n",
       "    .dataframe thead th {\n",
       "        text-align: right;\n",
       "    }\n",
       "</style>\n",
       "<table border=\"1\" class=\"dataframe\">\n",
       "  <thead>\n",
       "    <tr style=\"text-align: right;\">\n",
       "      <th></th>\n",
       "      <th>country</th>\n",
       "      <th>brand</th>\n",
       "      <th>volume</th>\n",
       "    </tr>\n",
       "  </thead>\n",
       "  <tbody>\n",
       "    <tr>\n",
       "      <th>0</th>\n",
       "      <td>country_1</td>\n",
       "      <td>brand_10</td>\n",
       "      <td>7.325746e+06</td>\n",
       "    </tr>\n",
       "    <tr>\n",
       "      <th>1</th>\n",
       "      <td>country_1</td>\n",
       "      <td>brand_102</td>\n",
       "      <td>3.073476e+07</td>\n",
       "    </tr>\n",
       "    <tr>\n",
       "      <th>2</th>\n",
       "      <td>country_1</td>\n",
       "      <td>brand_115</td>\n",
       "      <td>4.462947e+07</td>\n",
       "    </tr>\n",
       "    <tr>\n",
       "      <th>3</th>\n",
       "      <td>country_1</td>\n",
       "      <td>brand_117</td>\n",
       "      <td>2.578179e+07</td>\n",
       "    </tr>\n",
       "    <tr>\n",
       "      <th>4</th>\n",
       "      <td>country_1</td>\n",
       "      <td>brand_119</td>\n",
       "      <td>2.027448e+08</td>\n",
       "    </tr>\n",
       "    <tr>\n",
       "      <th>...</th>\n",
       "      <td>...</td>\n",
       "      <td>...</td>\n",
       "      <td>...</td>\n",
       "    </tr>\n",
       "    <tr>\n",
       "      <th>1073</th>\n",
       "      <td>country_8</td>\n",
       "      <td>brand_87</td>\n",
       "      <td>1.653419e+07</td>\n",
       "    </tr>\n",
       "    <tr>\n",
       "      <th>1074</th>\n",
       "      <td>country_8</td>\n",
       "      <td>brand_92</td>\n",
       "      <td>7.195820e+06</td>\n",
       "    </tr>\n",
       "    <tr>\n",
       "      <th>1075</th>\n",
       "      <td>country_9</td>\n",
       "      <td>brand_167</td>\n",
       "      <td>2.941204e+06</td>\n",
       "    </tr>\n",
       "    <tr>\n",
       "      <th>1076</th>\n",
       "      <td>country_9</td>\n",
       "      <td>brand_187</td>\n",
       "      <td>7.768339e+07</td>\n",
       "    </tr>\n",
       "    <tr>\n",
       "      <th>1077</th>\n",
       "      <td>country_9</td>\n",
       "      <td>brand_477</td>\n",
       "      <td>2.925174e+04</td>\n",
       "    </tr>\n",
       "  </tbody>\n",
       "</table>\n",
       "<p>1078 rows × 3 columns</p>\n",
       "</div>"
      ],
      "text/plain": [
       "        country      brand        volume\n",
       "0     country_1   brand_10  7.325746e+06\n",
       "1     country_1  brand_102  3.073476e+07\n",
       "2     country_1  brand_115  4.462947e+07\n",
       "3     country_1  brand_117  2.578179e+07\n",
       "4     country_1  brand_119  2.027448e+08\n",
       "...         ...        ...           ...\n",
       "1073  country_8   brand_87  1.653419e+07\n",
       "1074  country_8   brand_92  7.195820e+06\n",
       "1075  country_9  brand_167  2.941204e+06\n",
       "1076  country_9  brand_187  7.768339e+07\n",
       "1077  country_9  brand_477  2.925174e+04\n",
       "\n",
       "[1078 rows x 3 columns]"
      ]
     },
     "execution_count": 9,
     "metadata": {},
     "output_type": "execute_result"
    }
   ],
   "source": [
    "avg_12_volume = df_mock[\n",
    "    (df_mock.month_num >= -12) & (df_mock.month_num < 0)\n",
    "].groupby(id_cols)[\"volume\"].mean().reset_index()\n",
    "avg_12_volume"
   ]
  },
  {
   "cell_type": "code",
   "execution_count": 10,
   "metadata": {},
   "outputs": [],
   "source": [
    "# Let's get avg_12 months\n",
    "avg_12_volume = df_mock[\n",
    "    (df_mock.month_num >= -12) & (df_mock.month_num < 0)\n",
    "].groupby(id_cols)[\"volume\"].mean().reset_index()\n",
    "avg_12_volume = avg_12_volume.rename(columns={\"volume\": \"avg_vol\"})\n",
    "df_mock = pd.merge(df_mock, avg_12_volume, on=id_cols, how=\"left\")"
   ]
  },
  {
   "cell_type": "code",
   "execution_count": 11,
   "metadata": {},
   "outputs": [
    {
     "data": {
      "text/html": [
       "<div>\n",
       "<style scoped>\n",
       "    .dataframe tbody tr th:only-of-type {\n",
       "        vertical-align: middle;\n",
       "    }\n",
       "\n",
       "    .dataframe tbody tr th {\n",
       "        vertical-align: top;\n",
       "    }\n",
       "\n",
       "    .dataframe thead th {\n",
       "        text-align: right;\n",
       "    }\n",
       "</style>\n",
       "<table border=\"1\" class=\"dataframe\">\n",
       "  <thead>\n",
       "    <tr style=\"text-align: right;\">\n",
       "      <th></th>\n",
       "      <th>country</th>\n",
       "      <th>brand</th>\n",
       "      <th>volume</th>\n",
       "      <th>month_num</th>\n",
       "      <th>month_name</th>\n",
       "      <th>avg_vol</th>\n",
       "    </tr>\n",
       "  </thead>\n",
       "  <tbody>\n",
       "    <tr>\n",
       "      <th>0</th>\n",
       "      <td>country_1</td>\n",
       "      <td>brand_3</td>\n",
       "      <td>18509088.6</td>\n",
       "      <td>-88</td>\n",
       "      <td>Jul</td>\n",
       "      <td>12395405.55</td>\n",
       "    </tr>\n",
       "    <tr>\n",
       "      <th>1</th>\n",
       "      <td>country_1</td>\n",
       "      <td>brand_3</td>\n",
       "      <td>19697508.0</td>\n",
       "      <td>-87</td>\n",
       "      <td>Aug</td>\n",
       "      <td>12395405.55</td>\n",
       "    </tr>\n",
       "    <tr>\n",
       "      <th>2</th>\n",
       "      <td>country_1</td>\n",
       "      <td>brand_3</td>\n",
       "      <td>18315721.8</td>\n",
       "      <td>-86</td>\n",
       "      <td>Sep</td>\n",
       "      <td>12395405.55</td>\n",
       "    </tr>\n",
       "    <tr>\n",
       "      <th>3</th>\n",
       "      <td>country_1</td>\n",
       "      <td>brand_3</td>\n",
       "      <td>19831199.4</td>\n",
       "      <td>-85</td>\n",
       "      <td>Oct</td>\n",
       "      <td>12395405.55</td>\n",
       "    </tr>\n",
       "    <tr>\n",
       "      <th>4</th>\n",
       "      <td>country_1</td>\n",
       "      <td>brand_3</td>\n",
       "      <td>18593281.8</td>\n",
       "      <td>-84</td>\n",
       "      <td>Nov</td>\n",
       "      <td>12395405.55</td>\n",
       "    </tr>\n",
       "  </tbody>\n",
       "</table>\n",
       "</div>"
      ],
      "text/plain": [
       "     country    brand      volume  month_num month_name      avg_vol\n",
       "0  country_1  brand_3  18509088.6        -88        Jul  12395405.55\n",
       "1  country_1  brand_3  19697508.0        -87        Aug  12395405.55\n",
       "2  country_1  brand_3  18315721.8        -86        Sep  12395405.55\n",
       "3  country_1  brand_3  19831199.4        -85        Oct  12395405.55\n",
       "4  country_1  brand_3  18593281.8        -84        Nov  12395405.55"
      ]
     },
     "execution_count": 11,
     "metadata": {},
     "output_type": "execute_result"
    }
   ],
   "source": [
    "df_mock.head()"
   ]
  },
  {
   "cell_type": "code",
   "execution_count": 12,
   "metadata": {},
   "outputs": [],
   "source": [
    "# Using only the future months to make the forecast (mock example)\n",
    "df_metric = df_mock[\n",
    "    (\n",
    "        (\n",
    "            (df_mock[\"country\"] == \"country_8\") &\n",
    "            (df_mock[\"brand\"] == \"brand_117\")\n",
    "        ) | (\n",
    "            (df_mock[\"country\"] == \"country_7\") &\n",
    "            (df_mock[\"brand\"] == \"brand_5\")\n",
    "        )\n",
    "    ) & (df_mock[\"month_num\"] >= 0) & (df_mock[\"month_num\"] < 24)\n",
    "]"
   ]
  },
  {
   "cell_type": "code",
   "execution_count": 13,
   "metadata": {},
   "outputs": [],
   "source": [
    "# Example forecast and renaming columns to names\n",
    "df_metric = df_metric.rename(columns={\"volume\": \"actuals\"})\n",
    "\n",
    "# Create mock forecasts\n",
    "df_metric[\"forecast\"] = \\\n",
    "    df_metric[\"actuals\"] * np.random.normal(1, 0.3, len(df_metric))\n",
    "df_metric[\"lower_bound\"] = df_metric[\"forecast\"] * 0.85\n",
    "df_metric[\"upper_bound\"] = df_metric[\"forecast\"] * 1.15"
   ]
  },
  {
   "cell_type": "markdown",
   "metadata": {},
   "source": [
    "Metric computation (mean of abs in order to get the general dataset metrics)"
   ]
  },
  {
   "cell_type": "code",
   "execution_count": 14,
   "metadata": {},
   "outputs": [
    {
     "data": {
      "text/html": [
       "<div>\n",
       "<style scoped>\n",
       "    .dataframe tbody tr th:only-of-type {\n",
       "        vertical-align: middle;\n",
       "    }\n",
       "\n",
       "    .dataframe tbody tr th {\n",
       "        vertical-align: top;\n",
       "    }\n",
       "\n",
       "    .dataframe thead th {\n",
       "        text-align: right;\n",
       "    }\n",
       "</style>\n",
       "<table border=\"1\" class=\"dataframe\">\n",
       "  <thead>\n",
       "    <tr style=\"text-align: right;\">\n",
       "      <th></th>\n",
       "      <th></th>\n",
       "      <th>custom_metric</th>\n",
       "      <th>uncertainty_metric</th>\n",
       "    </tr>\n",
       "    <tr>\n",
       "      <th>country</th>\n",
       "      <th>brand</th>\n",
       "      <th></th>\n",
       "      <th></th>\n",
       "    </tr>\n",
       "  </thead>\n",
       "  <tbody>\n",
       "    <tr>\n",
       "      <th>country_7</th>\n",
       "      <th>brand_5</th>\n",
       "      <td>11.146665</td>\n",
       "      <td>54.942479</td>\n",
       "    </tr>\n",
       "    <tr>\n",
       "      <th>country_8</th>\n",
       "      <th>brand_117</th>\n",
       "      <td>18.272744</td>\n",
       "      <td>110.959544</td>\n",
       "    </tr>\n",
       "  </tbody>\n",
       "</table>\n",
       "</div>"
      ],
      "text/plain": [
       "                     custom_metric  uncertainty_metric\n",
       "country   brand                                       \n",
       "country_7 brand_5        11.146665           54.942479\n",
       "country_8 brand_117      18.272744          110.959544"
      ]
     },
     "execution_count": 14,
     "metadata": {},
     "output_type": "execute_result"
    }
   ],
   "source": [
    "# Example metric by country brand\n",
    "df_metric.groupby(id_cols).apply(apply_metrics)"
   ]
  },
  {
   "cell_type": "code",
   "execution_count": 15,
   "metadata": {
    "scrolled": true
   },
   "outputs": [
    {
     "data": {
      "text/plain": [
       "custom_metric         14.709705\n",
       "uncertainty_metric    82.951011\n",
       "dtype: float64"
      ]
     },
     "execution_count": 15,
     "metadata": {},
     "output_type": "execute_result"
    }
   ],
   "source": [
    "# Example metric creation with full mock dataset (train set)\n",
    "np.mean(abs(df_metric.groupby(id_cols).apply(apply_metrics)))"
   ]
  },
  {
   "cell_type": "code",
   "execution_count": null,
   "metadata": {},
   "outputs": [],
   "source": []
  }
 ],
 "metadata": {
  "kernelspec": {
   "display_name": "Python 3",
   "language": "python",
   "name": "python3"
  },
  "language_info": {
   "codemirror_mode": {
    "name": "ipython",
    "version": 3
   },
   "file_extension": ".py",
   "mimetype": "text/x-python",
   "name": "python",
   "nbconvert_exporter": "python",
   "pygments_lexer": "ipython3",
   "version": "3.6.9"
  }
 },
 "nbformat": 4,
 "nbformat_minor": 4
}
