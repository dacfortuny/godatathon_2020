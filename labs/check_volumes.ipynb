{
 "cells": [
  {
   "cell_type": "code",
   "execution_count": null,
   "metadata": {},
   "outputs": [],
   "source": [
    "cd .."
   ]
  },
  {
   "cell_type": "code",
   "execution_count": null,
   "metadata": {},
   "outputs": [],
   "source": [
    "import pandas as pd"
   ]
  },
  {
   "cell_type": "markdown",
   "metadata": {},
   "source": [
    "# Settings"
   ]
  },
  {
   "cell_type": "code",
   "execution_count": null,
   "metadata": {},
   "outputs": [],
   "source": [
    "VOLUME_FILE = \"data/raw/gx_volume.csv\"\n",
    "SUBMISSIONS_FILE = \"data/raw/submission_template.csv\"\n",
    "PACKAGES_FILE = \"data/raw/gx_package.csv\""
   ]
  },
  {
   "cell_type": "code",
   "execution_count": null,
   "metadata": {},
   "outputs": [],
   "source": [
    "volume = pd.read_csv(VOLUME_FILE, index_col=0)\n",
    "submissions = pd.read_csv(SUBMISSIONS_FILE)"
   ]
  },
  {
   "cell_type": "markdown",
   "metadata": {},
   "source": [
    "# Create data points"
   ]
  },
  {
   "cell_type": "code",
   "execution_count": null,
   "metadata": {},
   "outputs": [],
   "source": [
    "volume[\"country_brand\"] = volume[\"country\"] + \"-\" + volume[\"brand\"]\n",
    "submissions[\"country_brand\"] = submissions[\"country\"] + \"-\" + submissions[\"brand\"]"
   ]
  },
  {
   "cell_type": "code",
   "execution_count": null,
   "metadata": {},
   "outputs": [],
   "source": [
    "volume_non_submission = volume[~volume[\"country_brand\"].isin(submissions[\"country_brand\"])]\n",
    "volume_non_submission = volume_non_submission.sort_values([\"country\", \"brand\", \"month_num\"])"
   ]
  },
  {
   "cell_type": "code",
   "execution_count": null,
   "metadata": {},
   "outputs": [],
   "source": [
    "country_brand_post_count = volume_non_submission[volume_non_submission[\"month_num\"] >= 0].groupby(\"country_brand\").size()\n",
    "idx_post_volume_full = country_brand_post_count[country_brand_post_count == 24].index\n",
    "volume_non_submission = volume_non_submission[volume_non_submission[\"country_brand\"].isin(idx_post_volume_full)]"
   ]
  },
  {
   "cell_type": "code",
   "execution_count": null,
   "metadata": {},
   "outputs": [],
   "source": [
    "volume_grouped = volume_non_submission.groupby([\"country\", \"brand\"])"
   ]
  },
  {
   "cell_type": "code",
   "execution_count": null,
   "metadata": {},
   "outputs": [],
   "source": [
    "country_list = list()\n",
    "brand_list = list()\n",
    "x_list = list()\n",
    "y_list = list()\n",
    "for group, df in volume_grouped:\n",
    "    country_list.append(group[0])\n",
    "    brand_list.append(group[1])\n",
    "    x_list.append(df[[\"volume\"]][df[\"month_num\"] < 0].values)\n",
    "    y_list.append(df[[\"volume\"]][df[\"month_num\"] >= 0].values)"
   ]
  },
  {
   "cell_type": "markdown",
   "metadata": {},
   "source": [
    "# Check outlier brands"
   ]
  },
  {
   "cell_type": "code",
   "execution_count": null,
   "metadata": {},
   "outputs": [],
   "source": [
    "outlier_brands = [\"brand_102\", \"brand_108\", \"brand_133\", \"brand_163\", \"brand_187\"]"
   ]
  },
  {
   "cell_type": "code",
   "execution_count": null,
   "metadata": {},
   "outputs": [],
   "source": [
    "for brand in outlier_brands:\n",
    "    print(brand)\n",
    "    print(\"Brand in submissions?\", brand in list(submissions[\"brand\"]))\n",
    "    print(\"Brand in volume?\", brand in list(volume[\"brand\"]))\n",
    "    print(\"Brand in volume_non_submission?\", brand in list(volume_non_submission[\"brand\"]))\n",
    "    print(\"Brand's number of countries in submissions\", submissions[\"country\"][submissions[\"brand\"] == brand].nunique())\n",
    "    print(\"Brand size in submissions\", len(submissions[submissions[\"brand\"] == brand]))\n",
    "    print(\"Number of data points with brand:\", sum([b == brand for b in brand_list]), \"/\", len(brand_list))\n",
    "    print(\"\")"
   ]
  },
  {
   "cell_type": "code",
   "execution_count": null,
   "metadata": {},
   "outputs": [],
   "source": [
    "\"brand_163\" in brand_list"
   ]
  },
  {
   "cell_type": "markdown",
   "metadata": {},
   "source": [
    "# Check outlier countrues"
   ]
  },
  {
   "cell_type": "code",
   "execution_count": null,
   "metadata": {},
   "outputs": [],
   "source": [
    "outlier_countries = [\"country_8\", \"country_10\", \"country_12\", \"country_16\"]"
   ]
  },
  {
   "cell_type": "code",
   "execution_count": null,
   "metadata": {},
   "outputs": [],
   "source": [
    "for country in outlier_countries:\n",
    "    print(country)\n",
    "    print(\"Country in submissions?\", country in list(submissions[\"country\"]))\n",
    "    print(\"Country in volume?\", country in list(volume[\"country\"]))\n",
    "    print(\"Country in volume_non_submission?\", country in list(volume_non_submission[\"country\"]))\n",
    "    print(\"Country's number of brands in submissions\", submissions[\"brand\"][submissions[\"country\"] == country].nunique())\n",
    "    print(\"Country size in submissions\", len(submissions[submissions[\"country\"] == country]))\n",
    "    print(\"Number of data points with country:\", sum([c == country for c in country_list]), \"/\", len(country_list))\n",
    "    print(\"\")"
   ]
  },
  {
   "cell_type": "markdown",
   "metadata": {},
   "source": [
    "# Check outlier presentations"
   ]
  },
  {
   "cell_type": "code",
   "execution_count": null,
   "metadata": {},
   "outputs": [],
   "source": [
    "packages = pd.read_csv(PACKAGES_FILE, index_col=0)"
   ]
  },
  {
   "cell_type": "code",
   "execution_count": null,
   "metadata": {},
   "outputs": [],
   "source": [
    "volume_packages = volume.merge(packages, on=[\"country\", \"brand\"], how=\"left\")\n",
    "submissions_packages = submissions.merge(packages, on=[\"country\", \"brand\"], how=\"left\")\n",
    "volume_non_submission_packages = volume_non_submission.merge(packages, on=[\"country\", \"brand\"], how=\"left\")"
   ]
  },
  {
   "cell_type": "code",
   "execution_count": null,
   "metadata": {},
   "outputs": [],
   "source": [
    "outliers_packages = [\"PILL\"]"
   ]
  },
  {
   "cell_type": "code",
   "execution_count": null,
   "metadata": {},
   "outputs": [],
   "source": [
    "for package in outliers_packages:\n",
    "    print(package)\n",
    "    print(\"Package in submissions?\", package in list(submissions_packages[\"presentation\"]))\n",
    "    print(\"Package in volume?\", package in list(volume_packages[\"presentation\"]))\n",
    "    print(\"Package in volume_non_submission?\", package in list(volume_non_submission_packages[\"presentation\"]))\n",
    "    print(\"\")"
   ]
  }
 ],
 "metadata": {
  "kernelspec": {
   "display_name": "Python 3",
   "language": "python",
   "name": "python3"
  },
  "language_info": {
   "codemirror_mode": {
    "name": "ipython",
    "version": 3
   },
   "file_extension": ".py",
   "mimetype": "text/x-python",
   "name": "python",
   "nbconvert_exporter": "python",
   "pygments_lexer": "ipython3",
   "version": "3.8.5"
  }
 },
 "nbformat": 4,
 "nbformat_minor": 4
}
