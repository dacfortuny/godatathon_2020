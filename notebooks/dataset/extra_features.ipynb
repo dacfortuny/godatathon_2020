{
 "cells": [
  {
   "cell_type": "code",
   "execution_count": null,
   "metadata": {},
   "outputs": [],
   "source": [
    "cd ../.."
   ]
  },
  {
   "cell_type": "code",
   "execution_count": null,
   "metadata": {},
   "outputs": [],
   "source": [
    "import datetime\n",
    "import numpy as np\n",
    "import pandas as pd\n",
    "from sklearn.preprocessing import LabelEncoder"
   ]
  },
  {
   "cell_type": "markdown",
   "metadata": {},
   "source": [
    "# Settings"
   ]
  },
  {
   "cell_type": "code",
   "execution_count": null,
   "metadata": {},
   "outputs": [],
   "source": [
    "DATA_RAW_PATH = \"data/raw\"\n",
    "VOLUME_FILE = \"gx_volume.csv\"\n",
    "GENERICS_FILE = \"gx_num_generics.csv\"\n",
    "PACKAGE_FILE = \"gx_package.csv\"\n",
    "CHANNELS_FILE = \"gx_panel.csv\"\n",
    "THERAPEUTIC_FILE = \"gx_therapeutic_area.csv\"\n",
    "OUTPUT_PATH = \"data/features/extra_features.csv\""
   ]
  },
  {
   "cell_type": "markdown",
   "metadata": {},
   "source": [
    "# Retrieve data"
   ]
  },
  {
   "cell_type": "code",
   "execution_count": null,
   "metadata": {},
   "outputs": [],
   "source": [
    "volume = pd.read_csv(f\"{DATA_RAW_PATH}/{VOLUME_FILE}\", index_col=0)\n",
    "volume.head(2)"
   ]
  },
  {
   "cell_type": "code",
   "execution_count": null,
   "metadata": {},
   "outputs": [],
   "source": [
    "generics = pd.read_csv(f\"{DATA_RAW_PATH}/{GENERICS_FILE}\", index_col=0)\n",
    "generics.head(2)"
   ]
  },
  {
   "cell_type": "code",
   "execution_count": null,
   "metadata": {},
   "outputs": [],
   "source": [
    "packages = pd.read_csv(f\"{DATA_RAW_PATH}/{PACKAGE_FILE}\", index_col=0)\n",
    "packages.head(2)"
   ]
  },
  {
   "cell_type": "code",
   "execution_count": null,
   "metadata": {},
   "outputs": [],
   "source": [
    "channels = pd.read_csv(f\"{DATA_RAW_PATH}/{CHANNELS_FILE}\", index_col=0)\n",
    "channels.head(2)"
   ]
  },
  {
   "cell_type": "code",
   "execution_count": null,
   "metadata": {},
   "outputs": [],
   "source": [
    "therapeutic = pd.read_csv(f\"{DATA_RAW_PATH}/{THERAPEUTIC_FILE}\", index_col=0)\n",
    "therapeutic.head(2)"
   ]
  },
  {
   "cell_type": "markdown",
   "metadata": {},
   "source": [
    "# Create base table"
   ]
  },
  {
   "cell_type": "markdown",
   "metadata": {},
   "source": [
    "## List of contries and brands"
   ]
  },
  {
   "cell_type": "code",
   "execution_count": null,
   "metadata": {},
   "outputs": [],
   "source": [
    "dataset = volume[[\"country\", \"brand\"]].drop_duplicates().reset_index(drop=True).copy()\n",
    "dataset.head(2)"
   ]
  },
  {
   "cell_type": "markdown",
   "metadata": {},
   "source": [
    "# Create extra features"
   ]
  },
  {
   "cell_type": "markdown",
   "metadata": {},
   "source": [
    "## Brands in country"
   ]
  },
  {
   "cell_type": "code",
   "execution_count": null,
   "metadata": {},
   "outputs": [],
   "source": [
    "brands_in_country = dataset.groupby(\"country\").size().to_frame(name=\"brands_in_country\").reset_index()\n",
    "brands_in_country[\"brands_in_country\"] = brands_in_country[\"brands_in_country\"] / brands_in_country[\"brands_in_country\"].max()\n",
    "brands_in_country.head(2)"
   ]
  },
  {
   "cell_type": "code",
   "execution_count": null,
   "metadata": {},
   "outputs": [],
   "source": [
    "dataset = dataset.merge(brands_in_country, on=\"country\", how=\"left\")\n",
    "dataset.head(2)"
   ]
  },
  {
   "cell_type": "markdown",
   "metadata": {},
   "source": [
    "## Countries present"
   ]
  },
  {
   "cell_type": "code",
   "execution_count": null,
   "metadata": {},
   "outputs": [],
   "source": [
    "countries_present = dataset.groupby(\"brand\").size().to_frame(name=\"countries_present\").reset_index()\n",
    "countries_present[\"countries_present\"] = countries_present[\"countries_present\"] / countries_present[\"countries_present\"].max()\n",
    "countries_present.head(2)"
   ]
  },
  {
   "cell_type": "code",
   "execution_count": null,
   "metadata": {},
   "outputs": [],
   "source": [
    "dataset = dataset.merge(countries_present, on=\"brand\", how=\"left\")\n",
    "dataset.head(2)"
   ]
  },
  {
   "cell_type": "markdown",
   "metadata": {},
   "source": [
    "## Max volume per country/brand"
   ]
  },
  {
   "cell_type": "code",
   "execution_count": null,
   "metadata": {},
   "outputs": [],
   "source": [
    "volume_max = volume[[\"country\", \"brand\", \"volume\"]].groupby([\"country\", \"brand\"], as_index=False).max()\n",
    "volume_max = volume_max.rename(columns={\"volume\": \"volume_max\"})\n",
    "volume_max[\"volume_max\"] = volume_max[\"volume_max\"] / volume_max[\"volume_max\"].max()\n",
    "volume_max.head(2)"
   ]
  },
  {
   "cell_type": "code",
   "execution_count": null,
   "metadata": {},
   "outputs": [],
   "source": [
    "dataset = dataset.merge(volume_max, on=[\"country\", \"brand\"], how=\"left\")\n",
    "dataset.head(2)"
   ]
  },
  {
   "cell_type": "markdown",
   "metadata": {},
   "source": [
    "## Max volume per package"
   ]
  },
  {
   "cell_type": "code",
   "execution_count": null,
   "metadata": {},
   "outputs": [],
   "source": [
    "packages_max = dataset[[\"country\", \"brand\"]].merge(volume[[\"country\", \"brand\", \"volume\"]], on=[\"country\", \"brand\"], how=\"left\")\n",
    "packages_max = packages_max.merge(packages, on=[\"country\", \"brand\"], how=\"left\")\n",
    "packages_max = packages.merge(packages_max[[\"presentation\", \"volume\"]].groupby([\"presentation\"], as_index=False).max(), on=\"presentation\", how=\"left\")\n",
    "packages_max = packages_max.rename(columns={\"volume\": \"package_max_volume\"})\n",
    "packages_max = packages_max.drop(columns=[\"presentation\"])\n",
    "packages_max[\"package_max_volume\"] = packages_max[\"package_max_volume\"] / packages_max[\"package_max_volume\"].max()\n",
    "packages_max.head(2)"
   ]
  },
  {
   "cell_type": "code",
   "execution_count": null,
   "metadata": {},
   "outputs": [],
   "source": [
    "dataset = dataset.merge(packages_max, on=[\"country\", \"brand\"], how=\"left\")\n",
    "dataset.head(2)"
   ]
  },
  {
   "cell_type": "markdown",
   "metadata": {},
   "source": [
    "## Number of brands for the same therapeutic area in country"
   ]
  },
  {
   "cell_type": "code",
   "execution_count": null,
   "metadata": {},
   "outputs": [],
   "source": [
    "therapeutic_num = dataset[[\"country\", \"brand\"]].merge(therapeutic, on=\"brand\", how=\"left\")\n",
    "therapeutic_num = therapeutic_num.groupby([\"country\", \"therapeutic_area\"]).size().to_frame(name=\"therapeutic_in_country\").reset_index()\n",
    "therapeutic_num[\"therapeutic_in_country\"] = therapeutic_num[\"therapeutic_in_country\"] / therapeutic_num[\"therapeutic_in_country\"].max()\n",
    "therapeutic_num.head(2)"
   ]
  },
  {
   "cell_type": "code",
   "execution_count": null,
   "metadata": {},
   "outputs": [],
   "source": [
    "dataset = dataset.merge(therapeutic, on=\"brand\", how=\"left\")\n",
    "dataset = dataset.merge(therapeutic_num, on=[\"country\", \"therapeutic_area\"], how=\"left\")\n",
    "dataset = dataset.drop(columns=[\"therapeutic_area\"])\n",
    "dataset.head(2)"
   ]
  },
  {
   "cell_type": "markdown",
   "metadata": {},
   "source": [
    "## Volume standard deviation per country/brand"
   ]
  },
  {
   "cell_type": "code",
   "execution_count": null,
   "metadata": {},
   "outputs": [],
   "source": [
    "volume_std = volume[[\"country\", \"brand\", \"volume\"]].groupby([\"country\", \"brand\"], as_index=False).std()\n",
    "volume_std = volume_std.rename(columns={\"volume\": \"volume_std\"})\n",
    "volume_std[\"volume_std\"] = volume_std[\"volume_std\"] / volume_std[\"volume_std\"].max()\n",
    "volume_std.head(2)"
   ]
  },
  {
   "cell_type": "code",
   "execution_count": null,
   "metadata": {},
   "outputs": [],
   "source": [
    "dataset = dataset.merge(volume_std, on=[\"country\", \"brand\"], how=\"left\")\n",
    "dataset.head(2)"
   ]
  },
  {
   "cell_type": "markdown",
   "metadata": {},
   "source": [
    "## Time to generics"
   ]
  },
  {
   "cell_type": "code",
   "execution_count": null,
   "metadata": {},
   "outputs": [],
   "source": [
    "time_to_generics = volume[[\"country\", \"brand\", \"month_num\"]]\n",
    "time_to_generics = time_to_generics[time_to_generics[\"month_num\"] < 0]\n",
    "time_to_generics = time_to_generics.groupby([\"country\", \"brand\"]).size().to_frame(name=\"time_to_generics\").reset_index()\n",
    "time_to_generics[\"time_to_generics\"] = time_to_generics[\"time_to_generics\"] / time_to_generics[\"time_to_generics\"].max()\n",
    "time_to_generics.head(2)"
   ]
  },
  {
   "cell_type": "code",
   "execution_count": null,
   "metadata": {},
   "outputs": [],
   "source": [
    "dataset = dataset.merge(time_to_generics, on=[\"country\", \"brand\"], how=\"left\")\n",
    "dataset.head(2)"
   ]
  },
  {
   "cell_type": "markdown",
   "metadata": {},
   "source": [
    "# Save dataset"
   ]
  },
  {
   "cell_type": "code",
   "execution_count": null,
   "metadata": {},
   "outputs": [],
   "source": [
    "dataset.head(10)"
   ]
  },
  {
   "cell_type": "code",
   "execution_count": null,
   "metadata": {},
   "outputs": [],
   "source": [
    "dataset.to_csv(OUTPUT_PATH, index=False)"
   ]
  }
 ],
 "metadata": {
  "kernelspec": {
   "display_name": "Python 3",
   "language": "python",
   "name": "python3"
  },
  "language_info": {
   "codemirror_mode": {
    "name": "ipython",
    "version": 3
   },
   "file_extension": ".py",
   "mimetype": "text/x-python",
   "name": "python",
   "nbconvert_exporter": "python",
   "pygments_lexer": "ipython3",
   "version": "3.8.5"
  }
 },
 "nbformat": 4,
 "nbformat_minor": 4
}
