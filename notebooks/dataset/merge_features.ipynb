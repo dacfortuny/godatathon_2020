{
 "cells": [
  {
   "cell_type": "code",
   "execution_count": null,
   "metadata": {},
   "outputs": [],
   "source": [
    "cd ../.."
   ]
  },
  {
   "cell_type": "code",
   "execution_count": null,
   "metadata": {},
   "outputs": [],
   "source": [
    "import numpy as np\n",
    "import pandas as pd"
   ]
  },
  {
   "cell_type": "markdown",
   "metadata": {},
   "source": [
    "# Settings"
   ]
  },
  {
   "cell_type": "code",
   "execution_count": null,
   "metadata": {},
   "outputs": [],
   "source": [
    "DATA_RAW_PATH = \"data/raw\"\n",
    "FEATURES_PATH = \"data/features\"\n",
    "\n",
    "VOLUME_FILE = \"gx_volume.csv\"\n",
    "\n",
    "BASIC_FEATURES_FILE = \"basic_features.csv\"\n",
    "MAX_AVG_FILE = \"max_avg.csv\"\n",
    "MONTH_ENCODED_FILE = \"months_encoded.csv\"\n",
    "EXTRA_FEATURES_PATH = \"extra_features.csv\"\n",
    "\n",
    "\n",
    "# GENERICS_FILE = \"gx_num_generics.csv\"\n",
    "# PACKAGE_FILE = \"gx_package.csv\"\n",
    "# CHANNELS_FILE = \"gx_panel.csv\"\n",
    "# THERAPEUTIC_FILE = \"gx_therapeutic_area.csv\"\n",
    "\n",
    "OUTPUT_PATH = \"data/features/final_features.csv\""
   ]
  },
  {
   "cell_type": "markdown",
   "metadata": {},
   "source": [
    "# Retrieve data"
   ]
  },
  {
   "cell_type": "code",
   "execution_count": null,
   "metadata": {},
   "outputs": [],
   "source": [
    "volume = pd.read_csv(f\"{DATA_RAW_PATH}/{VOLUME_FILE}\", index_col=0)\n",
    "volume.head(2)"
   ]
  },
  {
   "cell_type": "code",
   "execution_count": null,
   "metadata": {},
   "outputs": [],
   "source": [
    "basic_features = pd.read_csv(f\"{FEATURES_PATH}/{BASIC_FEATURES_FILE}\")\n",
    "basic_features.head(2)"
   ]
  },
  {
   "cell_type": "code",
   "execution_count": null,
   "metadata": {},
   "outputs": [],
   "source": [
    "max_avg_features = pd.read_csv(f\"{FEATURES_PATH}/{MAX_AVG_FILE}\")\n",
    "max_avg_features.head(2)"
   ]
  },
  {
   "cell_type": "code",
   "execution_count": null,
   "metadata": {},
   "outputs": [],
   "source": [
    "month_encoded_features = pd.read_csv(f\"{FEATURES_PATH}/{MONTH_ENCODED_FILE}\")\n",
    "month_encoded_features.head(2)"
   ]
  },
  {
   "cell_type": "code",
   "execution_count": null,
   "metadata": {},
   "outputs": [],
   "source": [
    "extra_features = pd.read_csv(f\"{FEATURES_PATH}/{EXTRA_FEATURES_PATH}\")\n",
    "extra_features.head(2)"
   ]
  },
  {
   "cell_type": "markdown",
   "metadata": {},
   "source": [
    "# Create dataset"
   ]
  },
  {
   "cell_type": "markdown",
   "metadata": {},
   "source": [
    "### Basic Features"
   ]
  },
  {
   "cell_type": "code",
   "execution_count": null,
   "metadata": {},
   "outputs": [],
   "source": [
    "id_cols = [\"country\", \"brand\"]"
   ]
  },
  {
   "cell_type": "code",
   "execution_count": null,
   "metadata": {},
   "outputs": [],
   "source": [
    "dataset = volume.merge(basic_features, on=id_cols, how=\"left\")"
   ]
  },
  {
   "cell_type": "markdown",
   "metadata": {},
   "source": [
    "### Max/Avg"
   ]
  },
  {
   "cell_type": "code",
   "execution_count": null,
   "metadata": {},
   "outputs": [],
   "source": [
    "dataset = dataset.merge(max_avg_features, on=id_cols, how=\"left\")"
   ]
  },
  {
   "cell_type": "markdown",
   "metadata": {},
   "source": [
    "### Extra Features"
   ]
  },
  {
   "cell_type": "code",
   "execution_count": null,
   "metadata": {},
   "outputs": [],
   "source": [
    "dataset = dataset.merge(extra_features, on=id_cols, how=\"left\")"
   ]
  },
  {
   "cell_type": "markdown",
   "metadata": {},
   "source": [
    "### Month Encoded"
   ]
  },
  {
   "cell_type": "code",
   "execution_count": null,
   "metadata": {},
   "outputs": [],
   "source": [
    "id_cols = [\"country\", \"brand\", \"month_num\"]"
   ]
  },
  {
   "cell_type": "code",
   "execution_count": null,
   "metadata": {},
   "outputs": [],
   "source": [
    "month_encoded_features = month_encoded_features.drop(columns=\"month_name\")"
   ]
  },
  {
   "cell_type": "code",
   "execution_count": null,
   "metadata": {},
   "outputs": [],
   "source": [
    "dataset = dataset.merge(month_encoded_features, on=id_cols, how=\"left\")"
   ]
  },
  {
   "cell_type": "markdown",
   "metadata": {},
   "source": [
    "## Normalizations"
   ]
  },
  {
   "cell_type": "code",
   "execution_count": null,
   "metadata": {},
   "outputs": [],
   "source": [
    "# Normalize volume\n",
    "dataset[\"volume_norm\"] = dataset[\"volume\"] / dataset[\"max_volume\"]"
   ]
  },
  {
   "cell_type": "code",
   "execution_count": null,
   "metadata": {},
   "outputs": [],
   "source": [
    "# Normalize Channel Rate\n",
    "dataset[\"channel_rate_A\"] = dataset[\"channel_rate_A\"] / 100\n",
    "dataset[\"channel_rate_B\"] = dataset[\"channel_rate_B\"] / 100\n",
    "dataset[\"channel_rate_C\"] = dataset[\"channel_rate_C\"] / 100\n",
    "dataset[\"channel_rate_D\"] = dataset[\"channel_rate_D\"] / 100"
   ]
  },
  {
   "cell_type": "code",
   "execution_count": null,
   "metadata": {},
   "outputs": [],
   "source": [
    "# Normalize Num Generics\n",
    "# Note: We've found a max of 50 competitors\n",
    "# TODO: Scale by std/mean\n",
    "dataset[\"num_generics\"] = dataset[\"num_generics\"] / 50"
   ]
  },
  {
   "cell_type": "markdown",
   "metadata": {},
   "source": [
    "### Redundant"
   ]
  },
  {
   "cell_type": "code",
   "execution_count": null,
   "metadata": {},
   "outputs": [],
   "source": [
    "redundant_columns = [\"month_name\", \"channel_rate_D\", \"last_month_sin\", \"last_month_cos\"]\n",
    "dataset = dataset.drop(columns=redundant_columns)"
   ]
  },
  {
   "cell_type": "code",
   "execution_count": null,
   "metadata": {},
   "outputs": [],
   "source": [
    "dataset.sample(2)"
   ]
  },
  {
   "cell_type": "markdown",
   "metadata": {},
   "source": [
    "# Save dataset"
   ]
  },
  {
   "cell_type": "code",
   "execution_count": null,
   "metadata": {},
   "outputs": [],
   "source": [
    "dataset.to_csv(OUTPUT_PATH, index=False)"
   ]
  }
 ],
 "metadata": {
  "kernelspec": {
   "display_name": "Python 3",
   "language": "python",
   "name": "python3"
  },
  "language_info": {
   "codemirror_mode": {
    "name": "ipython",
    "version": 3
   },
   "file_extension": ".py",
   "mimetype": "text/x-python",
   "name": "python",
   "nbconvert_exporter": "python",
   "pygments_lexer": "ipython3",
   "version": "3.8.6"
  }
 },
 "nbformat": 4,
 "nbformat_minor": 4
}
