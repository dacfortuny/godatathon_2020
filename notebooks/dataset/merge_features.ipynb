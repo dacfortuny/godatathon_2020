{
 "cells": [
  {
   "cell_type": "code",
   "execution_count": 1,
   "metadata": {},
   "outputs": [
    {
     "name": "stdout",
     "output_type": "stream",
     "text": [
      "/home/xavier/projects/godatathon_2020\n"
     ]
    }
   ],
   "source": [
    "cd ../.."
   ]
  },
  {
   "cell_type": "code",
   "execution_count": 2,
   "metadata": {},
   "outputs": [],
   "source": [
    "import numpy as np\n",
    "import pandas as pd"
   ]
  },
  {
   "cell_type": "markdown",
   "metadata": {},
   "source": [
    "# Settings"
   ]
  },
  {
   "cell_type": "code",
   "execution_count": 3,
   "metadata": {},
   "outputs": [],
   "source": [
    "DATA_RAW_PATH = \"data/raw\"\n",
    "FEATURES_PATH = \"data/features\"\n",
    "\n",
    "VOLUME_FILE = \"gx_volume.csv\"\n",
    "\n",
    "BASIC_FEATURES_FILE = \"basic_features.csv\"\n",
    "MAX_AVG_FILE = \"max_avg.csv\"\n",
    "MONTH_ENCODED_FILE = \"months_encoded.csv\"\n",
    "\n",
    "\n",
    "# GENERICS_FILE = \"gx_num_generics.csv\"\n",
    "# PACKAGE_FILE = \"gx_package.csv\"\n",
    "# CHANNELS_FILE = \"gx_panel.csv\"\n",
    "# THERAPEUTIC_FILE = \"gx_therapeutic_area.csv\"\n",
    "\n",
    "OUTPUT_PATH = \"data/features/final_features.csv\""
   ]
  },
  {
   "cell_type": "markdown",
   "metadata": {},
   "source": [
    "# Retrieve data"
   ]
  },
  {
   "cell_type": "code",
   "execution_count": 4,
   "metadata": {},
   "outputs": [
    {
     "data": {
      "text/html": [
       "<div>\n",
       "<style scoped>\n",
       "    .dataframe tbody tr th:only-of-type {\n",
       "        vertical-align: middle;\n",
       "    }\n",
       "\n",
       "    .dataframe tbody tr th {\n",
       "        vertical-align: top;\n",
       "    }\n",
       "\n",
       "    .dataframe thead th {\n",
       "        text-align: right;\n",
       "    }\n",
       "</style>\n",
       "<table border=\"1\" class=\"dataframe\">\n",
       "  <thead>\n",
       "    <tr style=\"text-align: right;\">\n",
       "      <th></th>\n",
       "      <th>country</th>\n",
       "      <th>brand</th>\n",
       "      <th>volume</th>\n",
       "      <th>month_num</th>\n",
       "      <th>month_name</th>\n",
       "    </tr>\n",
       "  </thead>\n",
       "  <tbody>\n",
       "    <tr>\n",
       "      <th>1</th>\n",
       "      <td>country_1</td>\n",
       "      <td>brand_3</td>\n",
       "      <td>18509088.6</td>\n",
       "      <td>-88</td>\n",
       "      <td>Jul</td>\n",
       "    </tr>\n",
       "    <tr>\n",
       "      <th>2</th>\n",
       "      <td>country_1</td>\n",
       "      <td>brand_3</td>\n",
       "      <td>19697508.0</td>\n",
       "      <td>-87</td>\n",
       "      <td>Aug</td>\n",
       "    </tr>\n",
       "  </tbody>\n",
       "</table>\n",
       "</div>"
      ],
      "text/plain": [
       "     country    brand      volume  month_num month_name\n",
       "1  country_1  brand_3  18509088.6        -88        Jul\n",
       "2  country_1  brand_3  19697508.0        -87        Aug"
      ]
     },
     "execution_count": 4,
     "metadata": {},
     "output_type": "execute_result"
    }
   ],
   "source": [
    "volume = pd.read_csv(f\"{DATA_RAW_PATH}/{VOLUME_FILE}\", index_col=0)\n",
    "volume.head(2)"
   ]
  },
  {
   "cell_type": "code",
   "execution_count": 5,
   "metadata": {},
   "outputs": [
    {
     "data": {
      "text/html": [
       "<div>\n",
       "<style scoped>\n",
       "    .dataframe tbody tr th:only-of-type {\n",
       "        vertical-align: middle;\n",
       "    }\n",
       "\n",
       "    .dataframe tbody tr th {\n",
       "        vertical-align: top;\n",
       "    }\n",
       "\n",
       "    .dataframe thead th {\n",
       "        text-align: right;\n",
       "    }\n",
       "</style>\n",
       "<table border=\"1\" class=\"dataframe\">\n",
       "  <thead>\n",
       "    <tr style=\"text-align: right;\">\n",
       "      <th></th>\n",
       "      <th>country</th>\n",
       "      <th>brand</th>\n",
       "      <th>country_id</th>\n",
       "      <th>brand_id</th>\n",
       "      <th>num_generics</th>\n",
       "      <th>package_id</th>\n",
       "      <th>channel_rate_A</th>\n",
       "      <th>channel_rate_B</th>\n",
       "      <th>channel_rate_C</th>\n",
       "      <th>channel_rate_D</th>\n",
       "      <th>therapeutic_id</th>\n",
       "      <th>last_month_sin</th>\n",
       "      <th>last_month_cos</th>\n",
       "    </tr>\n",
       "  </thead>\n",
       "  <tbody>\n",
       "    <tr>\n",
       "      <th>0</th>\n",
       "      <td>country_1</td>\n",
       "      <td>brand_3</td>\n",
       "      <td>0</td>\n",
       "      <td>222</td>\n",
       "      <td>3</td>\n",
       "      <td>6</td>\n",
       "      <td>0.0</td>\n",
       "      <td>1.189704</td>\n",
       "      <td>0.0</td>\n",
       "      <td>98.810296</td>\n",
       "      <td>2</td>\n",
       "      <td>-0.866025</td>\n",
       "      <td>0.5</td>\n",
       "    </tr>\n",
       "    <tr>\n",
       "      <th>1</th>\n",
       "      <td>country_1</td>\n",
       "      <td>brand_4</td>\n",
       "      <td>0</td>\n",
       "      <td>333</td>\n",
       "      <td>1</td>\n",
       "      <td>6</td>\n",
       "      <td>0.0</td>\n",
       "      <td>0.090229</td>\n",
       "      <td>0.0</td>\n",
       "      <td>99.909771</td>\n",
       "      <td>2</td>\n",
       "      <td>-0.866025</td>\n",
       "      <td>0.5</td>\n",
       "    </tr>\n",
       "  </tbody>\n",
       "</table>\n",
       "</div>"
      ],
      "text/plain": [
       "     country    brand  country_id  brand_id  num_generics  package_id  \\\n",
       "0  country_1  brand_3           0       222             3           6   \n",
       "1  country_1  brand_4           0       333             1           6   \n",
       "\n",
       "   channel_rate_A  channel_rate_B  channel_rate_C  channel_rate_D  \\\n",
       "0             0.0        1.189704             0.0       98.810296   \n",
       "1             0.0        0.090229             0.0       99.909771   \n",
       "\n",
       "   therapeutic_id  last_month_sin  last_month_cos  \n",
       "0               2       -0.866025             0.5  \n",
       "1               2       -0.866025             0.5  "
      ]
     },
     "execution_count": 5,
     "metadata": {},
     "output_type": "execute_result"
    }
   ],
   "source": [
    "basic_features = pd.read_csv(f\"{FEATURES_PATH}/{BASIC_FEATURES_FILE}\")\n",
    "basic_features.head(2)"
   ]
  },
  {
   "cell_type": "code",
   "execution_count": 6,
   "metadata": {},
   "outputs": [
    {
     "data": {
      "text/html": [
       "<div>\n",
       "<style scoped>\n",
       "    .dataframe tbody tr th:only-of-type {\n",
       "        vertical-align: middle;\n",
       "    }\n",
       "\n",
       "    .dataframe tbody tr th {\n",
       "        vertical-align: top;\n",
       "    }\n",
       "\n",
       "    .dataframe thead th {\n",
       "        text-align: right;\n",
       "    }\n",
       "</style>\n",
       "<table border=\"1\" class=\"dataframe\">\n",
       "  <thead>\n",
       "    <tr style=\"text-align: right;\">\n",
       "      <th></th>\n",
       "      <th>country</th>\n",
       "      <th>brand</th>\n",
       "      <th>avg_12_volume</th>\n",
       "      <th>max_volume</th>\n",
       "    </tr>\n",
       "  </thead>\n",
       "  <tbody>\n",
       "    <tr>\n",
       "      <th>0</th>\n",
       "      <td>country_1</td>\n",
       "      <td>brand_3</td>\n",
       "      <td>12395405.55</td>\n",
       "      <td>19831199.40</td>\n",
       "    </tr>\n",
       "    <tr>\n",
       "      <th>1</th>\n",
       "      <td>country_1</td>\n",
       "      <td>brand_4</td>\n",
       "      <td>6732181.82</td>\n",
       "      <td>8773075.36</td>\n",
       "    </tr>\n",
       "  </tbody>\n",
       "</table>\n",
       "</div>"
      ],
      "text/plain": [
       "     country    brand  avg_12_volume   max_volume\n",
       "0  country_1  brand_3    12395405.55  19831199.40\n",
       "1  country_1  brand_4     6732181.82   8773075.36"
      ]
     },
     "execution_count": 6,
     "metadata": {},
     "output_type": "execute_result"
    }
   ],
   "source": [
    "max_avg_features = pd.read_csv(f\"{FEATURES_PATH}/{MAX_AVG_FILE}\")\n",
    "max_avg_features.head(2)"
   ]
  },
  {
   "cell_type": "code",
   "execution_count": 7,
   "metadata": {},
   "outputs": [
    {
     "data": {
      "text/html": [
       "<div>\n",
       "<style scoped>\n",
       "    .dataframe tbody tr th:only-of-type {\n",
       "        vertical-align: middle;\n",
       "    }\n",
       "\n",
       "    .dataframe tbody tr th {\n",
       "        vertical-align: top;\n",
       "    }\n",
       "\n",
       "    .dataframe thead th {\n",
       "        text-align: right;\n",
       "    }\n",
       "</style>\n",
       "<table border=\"1\" class=\"dataframe\">\n",
       "  <thead>\n",
       "    <tr style=\"text-align: right;\">\n",
       "      <th></th>\n",
       "      <th>country</th>\n",
       "      <th>brand</th>\n",
       "      <th>month_num</th>\n",
       "      <th>month_name</th>\n",
       "      <th>month_sin</th>\n",
       "      <th>month_coss</th>\n",
       "    </tr>\n",
       "  </thead>\n",
       "  <tbody>\n",
       "    <tr>\n",
       "      <th>0</th>\n",
       "      <td>country_1</td>\n",
       "      <td>brand_10</td>\n",
       "      <td>-47</td>\n",
       "      <td>Jul</td>\n",
       "      <td>-0.866025</td>\n",
       "      <td>-5.000000e-01</td>\n",
       "    </tr>\n",
       "    <tr>\n",
       "      <th>1</th>\n",
       "      <td>country_1</td>\n",
       "      <td>brand_10</td>\n",
       "      <td>-46</td>\n",
       "      <td>Aug</td>\n",
       "      <td>-1.000000</td>\n",
       "      <td>-1.836970e-16</td>\n",
       "    </tr>\n",
       "  </tbody>\n",
       "</table>\n",
       "</div>"
      ],
      "text/plain": [
       "     country     brand  month_num month_name  month_sin    month_coss\n",
       "0  country_1  brand_10        -47        Jul  -0.866025 -5.000000e-01\n",
       "1  country_1  brand_10        -46        Aug  -1.000000 -1.836970e-16"
      ]
     },
     "execution_count": 7,
     "metadata": {},
     "output_type": "execute_result"
    }
   ],
   "source": [
    "month_encoded_features = pd.read_csv(f\"{FEATURES_PATH}/{MONTH_ENCODED_FILE}\")\n",
    "month_encoded_features.head(2)"
   ]
  },
  {
   "cell_type": "markdown",
   "metadata": {},
   "source": [
    "# Create dataset"
   ]
  },
  {
   "cell_type": "markdown",
   "metadata": {},
   "source": [
    "### Basic Features"
   ]
  },
  {
   "cell_type": "code",
   "execution_count": 8,
   "metadata": {},
   "outputs": [],
   "source": [
    "id_cols = [\"country\", \"brand\"]"
   ]
  },
  {
   "cell_type": "code",
   "execution_count": 9,
   "metadata": {},
   "outputs": [],
   "source": [
    "dataset = volume.merge(basic_features, on=id_cols, how=\"left\")"
   ]
  },
  {
   "cell_type": "markdown",
   "metadata": {},
   "source": [
    "### Max/Avg"
   ]
  },
  {
   "cell_type": "code",
   "execution_count": 10,
   "metadata": {},
   "outputs": [],
   "source": [
    "dataset = dataset.merge(max_avg_features, on=id_cols, how=\"left\")"
   ]
  },
  {
   "cell_type": "code",
   "execution_count": 11,
   "metadata": {},
   "outputs": [],
   "source": [
    "# Add normalized volume\n",
    "dataset[\"volume_norm\"] = dataset[\"volume\"] / dataset[\"max_volume\"]"
   ]
  },
  {
   "cell_type": "markdown",
   "metadata": {},
   "source": [
    "### Month Encoded"
   ]
  },
  {
   "cell_type": "code",
   "execution_count": 12,
   "metadata": {},
   "outputs": [],
   "source": [
    "id_cols = [\"country\", \"brand\", \"month_num\"]"
   ]
  },
  {
   "cell_type": "code",
   "execution_count": 13,
   "metadata": {},
   "outputs": [],
   "source": [
    "month_encoded_features = month_encoded_features.drop(columns=\"month_name\")"
   ]
  },
  {
   "cell_type": "code",
   "execution_count": 14,
   "metadata": {},
   "outputs": [],
   "source": [
    "dataset = dataset.merge(month_encoded_features, on=id_cols, how=\"left\")"
   ]
  },
  {
   "cell_type": "markdown",
   "metadata": {},
   "source": [
    "# Save dataset"
   ]
  },
  {
   "cell_type": "code",
   "execution_count": 16,
   "metadata": {},
   "outputs": [],
   "source": [
    "dataset.to_csv(OUTPUT_PATH, index=False)"
   ]
  }
 ],
 "metadata": {
  "kernelspec": {
   "display_name": "Python 3",
   "language": "python",
   "name": "python3"
  },
  "language_info": {
   "codemirror_mode": {
    "name": "ipython",
    "version": 3
   },
   "file_extension": ".py",
   "mimetype": "text/x-python",
   "name": "python",
   "nbconvert_exporter": "python",
   "pygments_lexer": "ipython3",
   "version": "3.8.6"
  }
 },
 "nbformat": 4,
 "nbformat_minor": 4
}
