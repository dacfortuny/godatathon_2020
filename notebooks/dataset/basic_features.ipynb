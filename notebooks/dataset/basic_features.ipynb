{
 "cells": [
  {
   "cell_type": "code",
   "execution_count": 1,
   "metadata": {},
   "outputs": [
    {
     "name": "stdout",
     "output_type": "stream",
     "text": [
      "/home/xavier/projects/godatathon_2020\n"
     ]
    }
   ],
   "source": [
    "cd ../.."
   ]
  },
  {
   "cell_type": "code",
   "execution_count": 2,
   "metadata": {},
   "outputs": [],
   "source": [
    "import datetime\n",
    "import numpy as np\n",
    "import pandas as pd\n",
    "from sklearn.preprocessing import LabelEncoder"
   ]
  },
  {
   "cell_type": "markdown",
   "metadata": {},
   "source": [
    "# Settings"
   ]
  },
  {
   "cell_type": "code",
   "execution_count": 3,
   "metadata": {},
   "outputs": [],
   "source": [
    "DATA_RAW_PATH = \"data/raw\"\n",
    "VOLUME_FILE = \"gx_volume.csv\"\n",
    "GENERICS_FILE = \"gx_num_generics.csv\"\n",
    "PACKAGE_FILE = \"gx_package.csv\"\n",
    "CHANNELS_FILE = \"gx_panel.csv\"\n",
    "THERAPEUTIC_FILE = \"gx_therapeutic_area.csv\"\n",
    "OUTPUT_PATH = \"data/features/basic_features.csv\""
   ]
  },
  {
   "cell_type": "markdown",
   "metadata": {},
   "source": [
    "# Functions"
   ]
  },
  {
   "cell_type": "code",
   "execution_count": 4,
   "metadata": {},
   "outputs": [],
   "source": [
    "def encode_variable(variable):\n",
    "    label_encoder = LabelEncoder()\n",
    "    label_encoder.fit(variable)\n",
    "    return label_encoder.transform(variable)\n",
    "\n",
    "def encode_month(month_name):\n",
    "    datetime_object = datetime.datetime.strptime(month_name, \"%b\")\n",
    "    month_number = datetime_object.month\n",
    "    month_sin = np.sin(2 * np.pi * month_number/12)\n",
    "    month_cos = np.cos(2 * np.pi * month_number/12)\n",
    "    return month_sin, month_cos"
   ]
  },
  {
   "cell_type": "markdown",
   "metadata": {},
   "source": [
    "# Retrieve data"
   ]
  },
  {
   "cell_type": "code",
   "execution_count": 5,
   "metadata": {},
   "outputs": [
    {
     "data": {
      "text/html": [
       "<div>\n",
       "<style scoped>\n",
       "    .dataframe tbody tr th:only-of-type {\n",
       "        vertical-align: middle;\n",
       "    }\n",
       "\n",
       "    .dataframe tbody tr th {\n",
       "        vertical-align: top;\n",
       "    }\n",
       "\n",
       "    .dataframe thead th {\n",
       "        text-align: right;\n",
       "    }\n",
       "</style>\n",
       "<table border=\"1\" class=\"dataframe\">\n",
       "  <thead>\n",
       "    <tr style=\"text-align: right;\">\n",
       "      <th></th>\n",
       "      <th>country</th>\n",
       "      <th>brand</th>\n",
       "      <th>volume</th>\n",
       "      <th>month_num</th>\n",
       "      <th>month_name</th>\n",
       "    </tr>\n",
       "  </thead>\n",
       "  <tbody>\n",
       "    <tr>\n",
       "      <th>1</th>\n",
       "      <td>country_1</td>\n",
       "      <td>brand_3</td>\n",
       "      <td>18509088.6</td>\n",
       "      <td>-88</td>\n",
       "      <td>Jul</td>\n",
       "    </tr>\n",
       "    <tr>\n",
       "      <th>2</th>\n",
       "      <td>country_1</td>\n",
       "      <td>brand_3</td>\n",
       "      <td>19697508.0</td>\n",
       "      <td>-87</td>\n",
       "      <td>Aug</td>\n",
       "    </tr>\n",
       "  </tbody>\n",
       "</table>\n",
       "</div>"
      ],
      "text/plain": [
       "     country    brand      volume  month_num month_name\n",
       "1  country_1  brand_3  18509088.6        -88        Jul\n",
       "2  country_1  brand_3  19697508.0        -87        Aug"
      ]
     },
     "execution_count": 5,
     "metadata": {},
     "output_type": "execute_result"
    }
   ],
   "source": [
    "volume = pd.read_csv(f\"{DATA_RAW_PATH}/{VOLUME_FILE}\", index_col=0)\n",
    "volume.head(2)"
   ]
  },
  {
   "cell_type": "code",
   "execution_count": 6,
   "metadata": {},
   "outputs": [
    {
     "data": {
      "text/html": [
       "<div>\n",
       "<style scoped>\n",
       "    .dataframe tbody tr th:only-of-type {\n",
       "        vertical-align: middle;\n",
       "    }\n",
       "\n",
       "    .dataframe tbody tr th {\n",
       "        vertical-align: top;\n",
       "    }\n",
       "\n",
       "    .dataframe thead th {\n",
       "        text-align: right;\n",
       "    }\n",
       "</style>\n",
       "<table border=\"1\" class=\"dataframe\">\n",
       "  <thead>\n",
       "    <tr style=\"text-align: right;\">\n",
       "      <th></th>\n",
       "      <th>country</th>\n",
       "      <th>brand</th>\n",
       "      <th>num_generics</th>\n",
       "    </tr>\n",
       "  </thead>\n",
       "  <tbody>\n",
       "    <tr>\n",
       "      <th>1</th>\n",
       "      <td>country_1</td>\n",
       "      <td>brand_3</td>\n",
       "      <td>3</td>\n",
       "    </tr>\n",
       "    <tr>\n",
       "      <th>2</th>\n",
       "      <td>country_1</td>\n",
       "      <td>brand_4</td>\n",
       "      <td>1</td>\n",
       "    </tr>\n",
       "  </tbody>\n",
       "</table>\n",
       "</div>"
      ],
      "text/plain": [
       "     country    brand  num_generics\n",
       "1  country_1  brand_3             3\n",
       "2  country_1  brand_4             1"
      ]
     },
     "execution_count": 6,
     "metadata": {},
     "output_type": "execute_result"
    }
   ],
   "source": [
    "generics = pd.read_csv(f\"{DATA_RAW_PATH}/{GENERICS_FILE}\", index_col=0)\n",
    "generics.head(2)"
   ]
  },
  {
   "cell_type": "code",
   "execution_count": 7,
   "metadata": {},
   "outputs": [
    {
     "data": {
      "text/html": [
       "<div>\n",
       "<style scoped>\n",
       "    .dataframe tbody tr th:only-of-type {\n",
       "        vertical-align: middle;\n",
       "    }\n",
       "\n",
       "    .dataframe tbody tr th {\n",
       "        vertical-align: top;\n",
       "    }\n",
       "\n",
       "    .dataframe thead th {\n",
       "        text-align: right;\n",
       "    }\n",
       "</style>\n",
       "<table border=\"1\" class=\"dataframe\">\n",
       "  <thead>\n",
       "    <tr style=\"text-align: right;\">\n",
       "      <th></th>\n",
       "      <th>country</th>\n",
       "      <th>brand</th>\n",
       "      <th>presentation</th>\n",
       "    </tr>\n",
       "  </thead>\n",
       "  <tbody>\n",
       "    <tr>\n",
       "      <th>1</th>\n",
       "      <td>country_1</td>\n",
       "      <td>brand_3</td>\n",
       "      <td>PILL</td>\n",
       "    </tr>\n",
       "    <tr>\n",
       "      <th>2</th>\n",
       "      <td>country_1</td>\n",
       "      <td>brand_4</td>\n",
       "      <td>PILL</td>\n",
       "    </tr>\n",
       "  </tbody>\n",
       "</table>\n",
       "</div>"
      ],
      "text/plain": [
       "     country    brand presentation\n",
       "1  country_1  brand_3         PILL\n",
       "2  country_1  brand_4         PILL"
      ]
     },
     "execution_count": 7,
     "metadata": {},
     "output_type": "execute_result"
    }
   ],
   "source": [
    "packages = pd.read_csv(f\"{DATA_RAW_PATH}/{PACKAGE_FILE}\", index_col=0)\n",
    "packages.head(2)"
   ]
  },
  {
   "cell_type": "code",
   "execution_count": 8,
   "metadata": {},
   "outputs": [
    {
     "data": {
      "text/html": [
       "<div>\n",
       "<style scoped>\n",
       "    .dataframe tbody tr th:only-of-type {\n",
       "        vertical-align: middle;\n",
       "    }\n",
       "\n",
       "    .dataframe tbody tr th {\n",
       "        vertical-align: top;\n",
       "    }\n",
       "\n",
       "    .dataframe thead th {\n",
       "        text-align: right;\n",
       "    }\n",
       "</style>\n",
       "<table border=\"1\" class=\"dataframe\">\n",
       "  <thead>\n",
       "    <tr style=\"text-align: right;\">\n",
       "      <th></th>\n",
       "      <th>country</th>\n",
       "      <th>brand</th>\n",
       "      <th>channel</th>\n",
       "      <th>channel_rate</th>\n",
       "    </tr>\n",
       "  </thead>\n",
       "  <tbody>\n",
       "    <tr>\n",
       "      <th>1</th>\n",
       "      <td>country_1</td>\n",
       "      <td>brand_3</td>\n",
       "      <td>B</td>\n",
       "      <td>1.189704</td>\n",
       "    </tr>\n",
       "    <tr>\n",
       "      <th>2</th>\n",
       "      <td>country_1</td>\n",
       "      <td>brand_3</td>\n",
       "      <td>D</td>\n",
       "      <td>98.810296</td>\n",
       "    </tr>\n",
       "  </tbody>\n",
       "</table>\n",
       "</div>"
      ],
      "text/plain": [
       "     country    brand channel  channel_rate\n",
       "1  country_1  brand_3       B      1.189704\n",
       "2  country_1  brand_3       D     98.810296"
      ]
     },
     "execution_count": 8,
     "metadata": {},
     "output_type": "execute_result"
    }
   ],
   "source": [
    "channels = pd.read_csv(f\"{DATA_RAW_PATH}/{CHANNELS_FILE}\", index_col=0)\n",
    "channels.head(2)"
   ]
  },
  {
   "cell_type": "code",
   "execution_count": 9,
   "metadata": {},
   "outputs": [
    {
     "data": {
      "text/html": [
       "<div>\n",
       "<style scoped>\n",
       "    .dataframe tbody tr th:only-of-type {\n",
       "        vertical-align: middle;\n",
       "    }\n",
       "\n",
       "    .dataframe tbody tr th {\n",
       "        vertical-align: top;\n",
       "    }\n",
       "\n",
       "    .dataframe thead th {\n",
       "        text-align: right;\n",
       "    }\n",
       "</style>\n",
       "<table border=\"1\" class=\"dataframe\">\n",
       "  <thead>\n",
       "    <tr style=\"text-align: right;\">\n",
       "      <th></th>\n",
       "      <th>brand</th>\n",
       "      <th>therapeutic_area</th>\n",
       "    </tr>\n",
       "  </thead>\n",
       "  <tbody>\n",
       "    <tr>\n",
       "      <th>1</th>\n",
       "      <td>brand_1</td>\n",
       "      <td>Nervous_system</td>\n",
       "    </tr>\n",
       "    <tr>\n",
       "      <th>2</th>\n",
       "      <td>brand_2</td>\n",
       "      <td>Respiratory_and_Immuno_inflammatory</td>\n",
       "    </tr>\n",
       "  </tbody>\n",
       "</table>\n",
       "</div>"
      ],
      "text/plain": [
       "     brand                     therapeutic_area\n",
       "1  brand_1                       Nervous_system\n",
       "2  brand_2  Respiratory_and_Immuno_inflammatory"
      ]
     },
     "execution_count": 9,
     "metadata": {},
     "output_type": "execute_result"
    }
   ],
   "source": [
    "therapeutic = pd.read_csv(f\"{DATA_RAW_PATH}/{THERAPEUTIC_FILE}\", index_col=0)\n",
    "therapeutic.head(2)"
   ]
  },
  {
   "cell_type": "markdown",
   "metadata": {},
   "source": [
    "# Create base table"
   ]
  },
  {
   "cell_type": "markdown",
   "metadata": {},
   "source": [
    "## Create list of contries and brands"
   ]
  },
  {
   "cell_type": "code",
   "execution_count": 10,
   "metadata": {},
   "outputs": [
    {
     "data": {
      "text/html": [
       "<div>\n",
       "<style scoped>\n",
       "    .dataframe tbody tr th:only-of-type {\n",
       "        vertical-align: middle;\n",
       "    }\n",
       "\n",
       "    .dataframe tbody tr th {\n",
       "        vertical-align: top;\n",
       "    }\n",
       "\n",
       "    .dataframe thead th {\n",
       "        text-align: right;\n",
       "    }\n",
       "</style>\n",
       "<table border=\"1\" class=\"dataframe\">\n",
       "  <thead>\n",
       "    <tr style=\"text-align: right;\">\n",
       "      <th></th>\n",
       "      <th>country</th>\n",
       "      <th>brand</th>\n",
       "    </tr>\n",
       "  </thead>\n",
       "  <tbody>\n",
       "    <tr>\n",
       "      <th>1</th>\n",
       "      <td>country_1</td>\n",
       "      <td>brand_3</td>\n",
       "    </tr>\n",
       "    <tr>\n",
       "      <th>2</th>\n",
       "      <td>country_1</td>\n",
       "      <td>brand_3</td>\n",
       "    </tr>\n",
       "  </tbody>\n",
       "</table>\n",
       "</div>"
      ],
      "text/plain": [
       "     country    brand\n",
       "1  country_1  brand_3\n",
       "2  country_1  brand_3"
      ]
     },
     "execution_count": 10,
     "metadata": {},
     "output_type": "execute_result"
    }
   ],
   "source": [
    "dataset = volume[[\"country\", \"brand\"]].copy()\n",
    "dataset.head(2)"
   ]
  },
  {
   "cell_type": "markdown",
   "metadata": {},
   "source": [
    "## Encode country"
   ]
  },
  {
   "cell_type": "code",
   "execution_count": 11,
   "metadata": {},
   "outputs": [
    {
     "data": {
      "text/html": [
       "<div>\n",
       "<style scoped>\n",
       "    .dataframe tbody tr th:only-of-type {\n",
       "        vertical-align: middle;\n",
       "    }\n",
       "\n",
       "    .dataframe tbody tr th {\n",
       "        vertical-align: top;\n",
       "    }\n",
       "\n",
       "    .dataframe thead th {\n",
       "        text-align: right;\n",
       "    }\n",
       "</style>\n",
       "<table border=\"1\" class=\"dataframe\">\n",
       "  <thead>\n",
       "    <tr style=\"text-align: right;\">\n",
       "      <th></th>\n",
       "      <th>country</th>\n",
       "      <th>brand</th>\n",
       "      <th>country_id</th>\n",
       "    </tr>\n",
       "  </thead>\n",
       "  <tbody>\n",
       "    <tr>\n",
       "      <th>1</th>\n",
       "      <td>country_1</td>\n",
       "      <td>brand_3</td>\n",
       "      <td>0</td>\n",
       "    </tr>\n",
       "    <tr>\n",
       "      <th>2</th>\n",
       "      <td>country_1</td>\n",
       "      <td>brand_3</td>\n",
       "      <td>0</td>\n",
       "    </tr>\n",
       "  </tbody>\n",
       "</table>\n",
       "</div>"
      ],
      "text/plain": [
       "     country    brand  country_id\n",
       "1  country_1  brand_3           0\n",
       "2  country_1  brand_3           0"
      ]
     },
     "execution_count": 11,
     "metadata": {},
     "output_type": "execute_result"
    }
   ],
   "source": [
    "dataset[\"country_id\"] = encode_variable(dataset[\"country\"])\n",
    "dataset.head(2)"
   ]
  },
  {
   "cell_type": "markdown",
   "metadata": {},
   "source": [
    "## Encode brand"
   ]
  },
  {
   "cell_type": "code",
   "execution_count": 12,
   "metadata": {},
   "outputs": [
    {
     "data": {
      "text/html": [
       "<div>\n",
       "<style scoped>\n",
       "    .dataframe tbody tr th:only-of-type {\n",
       "        vertical-align: middle;\n",
       "    }\n",
       "\n",
       "    .dataframe tbody tr th {\n",
       "        vertical-align: top;\n",
       "    }\n",
       "\n",
       "    .dataframe thead th {\n",
       "        text-align: right;\n",
       "    }\n",
       "</style>\n",
       "<table border=\"1\" class=\"dataframe\">\n",
       "  <thead>\n",
       "    <tr style=\"text-align: right;\">\n",
       "      <th></th>\n",
       "      <th>country</th>\n",
       "      <th>brand</th>\n",
       "      <th>country_id</th>\n",
       "      <th>brand_id</th>\n",
       "    </tr>\n",
       "  </thead>\n",
       "  <tbody>\n",
       "    <tr>\n",
       "      <th>1</th>\n",
       "      <td>country_1</td>\n",
       "      <td>brand_3</td>\n",
       "      <td>0</td>\n",
       "      <td>222</td>\n",
       "    </tr>\n",
       "    <tr>\n",
       "      <th>2</th>\n",
       "      <td>country_1</td>\n",
       "      <td>brand_3</td>\n",
       "      <td>0</td>\n",
       "      <td>222</td>\n",
       "    </tr>\n",
       "  </tbody>\n",
       "</table>\n",
       "</div>"
      ],
      "text/plain": [
       "     country    brand  country_id  brand_id\n",
       "1  country_1  brand_3           0       222\n",
       "2  country_1  brand_3           0       222"
      ]
     },
     "execution_count": 12,
     "metadata": {},
     "output_type": "execute_result"
    }
   ],
   "source": [
    "dataset[\"brand_id\"] = encode_variable(dataset[\"brand\"])\n",
    "dataset.head(2)"
   ]
  },
  {
   "cell_type": "markdown",
   "metadata": {},
   "source": [
    "## Add number of generics"
   ]
  },
  {
   "cell_type": "code",
   "execution_count": 13,
   "metadata": {},
   "outputs": [
    {
     "data": {
      "text/html": [
       "<div>\n",
       "<style scoped>\n",
       "    .dataframe tbody tr th:only-of-type {\n",
       "        vertical-align: middle;\n",
       "    }\n",
       "\n",
       "    .dataframe tbody tr th {\n",
       "        vertical-align: top;\n",
       "    }\n",
       "\n",
       "    .dataframe thead th {\n",
       "        text-align: right;\n",
       "    }\n",
       "</style>\n",
       "<table border=\"1\" class=\"dataframe\">\n",
       "  <thead>\n",
       "    <tr style=\"text-align: right;\">\n",
       "      <th></th>\n",
       "      <th>country</th>\n",
       "      <th>brand</th>\n",
       "      <th>country_id</th>\n",
       "      <th>brand_id</th>\n",
       "      <th>num_generics</th>\n",
       "    </tr>\n",
       "  </thead>\n",
       "  <tbody>\n",
       "    <tr>\n",
       "      <th>0</th>\n",
       "      <td>country_1</td>\n",
       "      <td>brand_3</td>\n",
       "      <td>0</td>\n",
       "      <td>222</td>\n",
       "      <td>3</td>\n",
       "    </tr>\n",
       "    <tr>\n",
       "      <th>1</th>\n",
       "      <td>country_1</td>\n",
       "      <td>brand_3</td>\n",
       "      <td>0</td>\n",
       "      <td>222</td>\n",
       "      <td>3</td>\n",
       "    </tr>\n",
       "  </tbody>\n",
       "</table>\n",
       "</div>"
      ],
      "text/plain": [
       "     country    brand  country_id  brand_id  num_generics\n",
       "0  country_1  brand_3           0       222             3\n",
       "1  country_1  brand_3           0       222             3"
      ]
     },
     "execution_count": 13,
     "metadata": {},
     "output_type": "execute_result"
    }
   ],
   "source": [
    "dataset = dataset.merge(generics, on=[\"country\", \"brand\"], how=\"left\").fillna(0)\n",
    "dataset.head(2)"
   ]
  },
  {
   "cell_type": "markdown",
   "metadata": {},
   "source": [
    "## Add encoded package"
   ]
  },
  {
   "cell_type": "code",
   "execution_count": 14,
   "metadata": {},
   "outputs": [
    {
     "data": {
      "text/html": [
       "<div>\n",
       "<style scoped>\n",
       "    .dataframe tbody tr th:only-of-type {\n",
       "        vertical-align: middle;\n",
       "    }\n",
       "\n",
       "    .dataframe tbody tr th {\n",
       "        vertical-align: top;\n",
       "    }\n",
       "\n",
       "    .dataframe thead th {\n",
       "        text-align: right;\n",
       "    }\n",
       "</style>\n",
       "<table border=\"1\" class=\"dataframe\">\n",
       "  <thead>\n",
       "    <tr style=\"text-align: right;\">\n",
       "      <th></th>\n",
       "      <th>country</th>\n",
       "      <th>brand</th>\n",
       "      <th>country_id</th>\n",
       "      <th>brand_id</th>\n",
       "      <th>num_generics</th>\n",
       "      <th>presentation</th>\n",
       "    </tr>\n",
       "  </thead>\n",
       "  <tbody>\n",
       "    <tr>\n",
       "      <th>0</th>\n",
       "      <td>country_1</td>\n",
       "      <td>brand_3</td>\n",
       "      <td>0</td>\n",
       "      <td>222</td>\n",
       "      <td>3</td>\n",
       "      <td>PILL</td>\n",
       "    </tr>\n",
       "    <tr>\n",
       "      <th>1</th>\n",
       "      <td>country_1</td>\n",
       "      <td>brand_3</td>\n",
       "      <td>0</td>\n",
       "      <td>222</td>\n",
       "      <td>3</td>\n",
       "      <td>PILL</td>\n",
       "    </tr>\n",
       "  </tbody>\n",
       "</table>\n",
       "</div>"
      ],
      "text/plain": [
       "     country    brand  country_id  brand_id  num_generics presentation\n",
       "0  country_1  brand_3           0       222             3         PILL\n",
       "1  country_1  brand_3           0       222             3         PILL"
      ]
     },
     "execution_count": 14,
     "metadata": {},
     "output_type": "execute_result"
    }
   ],
   "source": [
    "dataset = dataset.merge(packages, on=[\"country\", \"brand\"], how=\"left\")\n",
    "dataset.head(2)"
   ]
  },
  {
   "cell_type": "code",
   "execution_count": 15,
   "metadata": {},
   "outputs": [
    {
     "data": {
      "text/html": [
       "<div>\n",
       "<style scoped>\n",
       "    .dataframe tbody tr th:only-of-type {\n",
       "        vertical-align: middle;\n",
       "    }\n",
       "\n",
       "    .dataframe tbody tr th {\n",
       "        vertical-align: top;\n",
       "    }\n",
       "\n",
       "    .dataframe thead th {\n",
       "        text-align: right;\n",
       "    }\n",
       "</style>\n",
       "<table border=\"1\" class=\"dataframe\">\n",
       "  <thead>\n",
       "    <tr style=\"text-align: right;\">\n",
       "      <th></th>\n",
       "      <th>country</th>\n",
       "      <th>brand</th>\n",
       "      <th>country_id</th>\n",
       "      <th>brand_id</th>\n",
       "      <th>num_generics</th>\n",
       "      <th>package_id</th>\n",
       "    </tr>\n",
       "  </thead>\n",
       "  <tbody>\n",
       "    <tr>\n",
       "      <th>0</th>\n",
       "      <td>country_1</td>\n",
       "      <td>brand_3</td>\n",
       "      <td>0</td>\n",
       "      <td>222</td>\n",
       "      <td>3</td>\n",
       "      <td>6</td>\n",
       "    </tr>\n",
       "    <tr>\n",
       "      <th>1</th>\n",
       "      <td>country_1</td>\n",
       "      <td>brand_3</td>\n",
       "      <td>0</td>\n",
       "      <td>222</td>\n",
       "      <td>3</td>\n",
       "      <td>6</td>\n",
       "    </tr>\n",
       "  </tbody>\n",
       "</table>\n",
       "</div>"
      ],
      "text/plain": [
       "     country    brand  country_id  brand_id  num_generics  package_id\n",
       "0  country_1  brand_3           0       222             3           6\n",
       "1  country_1  brand_3           0       222             3           6"
      ]
     },
     "execution_count": 15,
     "metadata": {},
     "output_type": "execute_result"
    }
   ],
   "source": [
    "dataset[\"package_id\"] = encode_variable(dataset[\"presentation\"])\n",
    "dataset = dataset.drop(columns=[\"presentation\"])\n",
    "dataset.head(2)"
   ]
  },
  {
   "cell_type": "markdown",
   "metadata": {},
   "source": [
    "## Add distribution channel rates"
   ]
  },
  {
   "cell_type": "code",
   "execution_count": 16,
   "metadata": {},
   "outputs": [
    {
     "data": {
      "text/html": [
       "<div>\n",
       "<style scoped>\n",
       "    .dataframe tbody tr th:only-of-type {\n",
       "        vertical-align: middle;\n",
       "    }\n",
       "\n",
       "    .dataframe tbody tr th {\n",
       "        vertical-align: top;\n",
       "    }\n",
       "\n",
       "    .dataframe thead th {\n",
       "        text-align: right;\n",
       "    }\n",
       "</style>\n",
       "<table border=\"1\" class=\"dataframe\">\n",
       "  <thead>\n",
       "    <tr style=\"text-align: right;\">\n",
       "      <th></th>\n",
       "      <th></th>\n",
       "      <th>channel_rate_A</th>\n",
       "      <th>channel_rate_B</th>\n",
       "      <th>channel_rate_C</th>\n",
       "      <th>channel_rate_D</th>\n",
       "    </tr>\n",
       "    <tr>\n",
       "      <th>country</th>\n",
       "      <th>brand</th>\n",
       "      <th></th>\n",
       "      <th></th>\n",
       "      <th></th>\n",
       "      <th></th>\n",
       "    </tr>\n",
       "  </thead>\n",
       "  <tbody>\n",
       "    <tr>\n",
       "      <th rowspan=\"2\" valign=\"top\">country_1</th>\n",
       "      <th>brand_10</th>\n",
       "      <td>0.0</td>\n",
       "      <td>1.015697</td>\n",
       "      <td>0.0</td>\n",
       "      <td>98.984303</td>\n",
       "    </tr>\n",
       "    <tr>\n",
       "      <th>brand_102</th>\n",
       "      <td>0.0</td>\n",
       "      <td>0.109766</td>\n",
       "      <td>0.0</td>\n",
       "      <td>99.890234</td>\n",
       "    </tr>\n",
       "  </tbody>\n",
       "</table>\n",
       "</div>"
      ],
      "text/plain": [
       "                     channel_rate_A  channel_rate_B  channel_rate_C  \\\n",
       "country   brand                                                       \n",
       "country_1 brand_10              0.0        1.015697             0.0   \n",
       "          brand_102             0.0        0.109766             0.0   \n",
       "\n",
       "                     channel_rate_D  \n",
       "country   brand                      \n",
       "country_1 brand_10        98.984303  \n",
       "          brand_102       99.890234  "
      ]
     },
     "execution_count": 16,
     "metadata": {},
     "output_type": "execute_result"
    }
   ],
   "source": [
    "channels = pd.pivot_table(channels, columns=[\"channel\"], index=[\"country\", \"brand\"]).fillna(0)\n",
    "channels.columns = [f\"{c[0]}_{c[1]}\" for c in channels.columns]\n",
    "channels.head(2)"
   ]
  },
  {
   "cell_type": "code",
   "execution_count": 17,
   "metadata": {},
   "outputs": [
    {
     "data": {
      "text/html": [
       "<div>\n",
       "<style scoped>\n",
       "    .dataframe tbody tr th:only-of-type {\n",
       "        vertical-align: middle;\n",
       "    }\n",
       "\n",
       "    .dataframe tbody tr th {\n",
       "        vertical-align: top;\n",
       "    }\n",
       "\n",
       "    .dataframe thead th {\n",
       "        text-align: right;\n",
       "    }\n",
       "</style>\n",
       "<table border=\"1\" class=\"dataframe\">\n",
       "  <thead>\n",
       "    <tr style=\"text-align: right;\">\n",
       "      <th></th>\n",
       "      <th>country</th>\n",
       "      <th>brand</th>\n",
       "      <th>country_id</th>\n",
       "      <th>brand_id</th>\n",
       "      <th>num_generics</th>\n",
       "      <th>package_id</th>\n",
       "      <th>channel_rate_A</th>\n",
       "      <th>channel_rate_B</th>\n",
       "      <th>channel_rate_C</th>\n",
       "      <th>channel_rate_D</th>\n",
       "    </tr>\n",
       "  </thead>\n",
       "  <tbody>\n",
       "    <tr>\n",
       "      <th>0</th>\n",
       "      <td>country_1</td>\n",
       "      <td>brand_3</td>\n",
       "      <td>0</td>\n",
       "      <td>222</td>\n",
       "      <td>3</td>\n",
       "      <td>6</td>\n",
       "      <td>0.0</td>\n",
       "      <td>1.189704</td>\n",
       "      <td>0.0</td>\n",
       "      <td>98.810296</td>\n",
       "    </tr>\n",
       "    <tr>\n",
       "      <th>1</th>\n",
       "      <td>country_1</td>\n",
       "      <td>brand_3</td>\n",
       "      <td>0</td>\n",
       "      <td>222</td>\n",
       "      <td>3</td>\n",
       "      <td>6</td>\n",
       "      <td>0.0</td>\n",
       "      <td>1.189704</td>\n",
       "      <td>0.0</td>\n",
       "      <td>98.810296</td>\n",
       "    </tr>\n",
       "  </tbody>\n",
       "</table>\n",
       "</div>"
      ],
      "text/plain": [
       "     country    brand  country_id  brand_id  num_generics  package_id  \\\n",
       "0  country_1  brand_3           0       222             3           6   \n",
       "1  country_1  brand_3           0       222             3           6   \n",
       "\n",
       "   channel_rate_A  channel_rate_B  channel_rate_C  channel_rate_D  \n",
       "0             0.0        1.189704             0.0       98.810296  \n",
       "1             0.0        1.189704             0.0       98.810296  "
      ]
     },
     "execution_count": 17,
     "metadata": {},
     "output_type": "execute_result"
    }
   ],
   "source": [
    "dataset = dataset.merge(channels, on=[\"country\", \"brand\"], how=\"left\").fillna(0)\n",
    "dataset.head(2)"
   ]
  },
  {
   "cell_type": "markdown",
   "metadata": {},
   "source": [
    "## Add therapeutic area"
   ]
  },
  {
   "cell_type": "code",
   "execution_count": 18,
   "metadata": {},
   "outputs": [
    {
     "data": {
      "text/html": [
       "<div>\n",
       "<style scoped>\n",
       "    .dataframe tbody tr th:only-of-type {\n",
       "        vertical-align: middle;\n",
       "    }\n",
       "\n",
       "    .dataframe tbody tr th {\n",
       "        vertical-align: top;\n",
       "    }\n",
       "\n",
       "    .dataframe thead th {\n",
       "        text-align: right;\n",
       "    }\n",
       "</style>\n",
       "<table border=\"1\" class=\"dataframe\">\n",
       "  <thead>\n",
       "    <tr style=\"text-align: right;\">\n",
       "      <th></th>\n",
       "      <th>country</th>\n",
       "      <th>brand</th>\n",
       "      <th>country_id</th>\n",
       "      <th>brand_id</th>\n",
       "      <th>num_generics</th>\n",
       "      <th>package_id</th>\n",
       "      <th>channel_rate_A</th>\n",
       "      <th>channel_rate_B</th>\n",
       "      <th>channel_rate_C</th>\n",
       "      <th>channel_rate_D</th>\n",
       "      <th>therapeutic_area</th>\n",
       "    </tr>\n",
       "  </thead>\n",
       "  <tbody>\n",
       "    <tr>\n",
       "      <th>0</th>\n",
       "      <td>country_1</td>\n",
       "      <td>brand_3</td>\n",
       "      <td>0</td>\n",
       "      <td>222</td>\n",
       "      <td>3</td>\n",
       "      <td>6</td>\n",
       "      <td>0.0</td>\n",
       "      <td>1.189704</td>\n",
       "      <td>0.0</td>\n",
       "      <td>98.810296</td>\n",
       "      <td>Cardiovascular_Metabolic</td>\n",
       "    </tr>\n",
       "    <tr>\n",
       "      <th>1</th>\n",
       "      <td>country_1</td>\n",
       "      <td>brand_3</td>\n",
       "      <td>0</td>\n",
       "      <td>222</td>\n",
       "      <td>3</td>\n",
       "      <td>6</td>\n",
       "      <td>0.0</td>\n",
       "      <td>1.189704</td>\n",
       "      <td>0.0</td>\n",
       "      <td>98.810296</td>\n",
       "      <td>Cardiovascular_Metabolic</td>\n",
       "    </tr>\n",
       "  </tbody>\n",
       "</table>\n",
       "</div>"
      ],
      "text/plain": [
       "     country    brand  country_id  brand_id  num_generics  package_id  \\\n",
       "0  country_1  brand_3           0       222             3           6   \n",
       "1  country_1  brand_3           0       222             3           6   \n",
       "\n",
       "   channel_rate_A  channel_rate_B  channel_rate_C  channel_rate_D  \\\n",
       "0             0.0        1.189704             0.0       98.810296   \n",
       "1             0.0        1.189704             0.0       98.810296   \n",
       "\n",
       "           therapeutic_area  \n",
       "0  Cardiovascular_Metabolic  \n",
       "1  Cardiovascular_Metabolic  "
      ]
     },
     "execution_count": 18,
     "metadata": {},
     "output_type": "execute_result"
    }
   ],
   "source": [
    "dataset = dataset.merge(therapeutic, on=\"brand\", how=\"left\")\n",
    "dataset.head(2)"
   ]
  },
  {
   "cell_type": "code",
   "execution_count": 19,
   "metadata": {},
   "outputs": [
    {
     "data": {
      "text/html": [
       "<div>\n",
       "<style scoped>\n",
       "    .dataframe tbody tr th:only-of-type {\n",
       "        vertical-align: middle;\n",
       "    }\n",
       "\n",
       "    .dataframe tbody tr th {\n",
       "        vertical-align: top;\n",
       "    }\n",
       "\n",
       "    .dataframe thead th {\n",
       "        text-align: right;\n",
       "    }\n",
       "</style>\n",
       "<table border=\"1\" class=\"dataframe\">\n",
       "  <thead>\n",
       "    <tr style=\"text-align: right;\">\n",
       "      <th></th>\n",
       "      <th>country</th>\n",
       "      <th>brand</th>\n",
       "      <th>country_id</th>\n",
       "      <th>brand_id</th>\n",
       "      <th>num_generics</th>\n",
       "      <th>package_id</th>\n",
       "      <th>channel_rate_A</th>\n",
       "      <th>channel_rate_B</th>\n",
       "      <th>channel_rate_C</th>\n",
       "      <th>channel_rate_D</th>\n",
       "      <th>therapeutic_id</th>\n",
       "    </tr>\n",
       "  </thead>\n",
       "  <tbody>\n",
       "    <tr>\n",
       "      <th>0</th>\n",
       "      <td>country_1</td>\n",
       "      <td>brand_3</td>\n",
       "      <td>0</td>\n",
       "      <td>222</td>\n",
       "      <td>3</td>\n",
       "      <td>6</td>\n",
       "      <td>0.0</td>\n",
       "      <td>1.189704</td>\n",
       "      <td>0.0</td>\n",
       "      <td>98.810296</td>\n",
       "      <td>2</td>\n",
       "    </tr>\n",
       "    <tr>\n",
       "      <th>1</th>\n",
       "      <td>country_1</td>\n",
       "      <td>brand_3</td>\n",
       "      <td>0</td>\n",
       "      <td>222</td>\n",
       "      <td>3</td>\n",
       "      <td>6</td>\n",
       "      <td>0.0</td>\n",
       "      <td>1.189704</td>\n",
       "      <td>0.0</td>\n",
       "      <td>98.810296</td>\n",
       "      <td>2</td>\n",
       "    </tr>\n",
       "  </tbody>\n",
       "</table>\n",
       "</div>"
      ],
      "text/plain": [
       "     country    brand  country_id  brand_id  num_generics  package_id  \\\n",
       "0  country_1  brand_3           0       222             3           6   \n",
       "1  country_1  brand_3           0       222             3           6   \n",
       "\n",
       "   channel_rate_A  channel_rate_B  channel_rate_C  channel_rate_D  \\\n",
       "0             0.0        1.189704             0.0       98.810296   \n",
       "1             0.0        1.189704             0.0       98.810296   \n",
       "\n",
       "   therapeutic_id  \n",
       "0               2  \n",
       "1               2  "
      ]
     },
     "execution_count": 19,
     "metadata": {},
     "output_type": "execute_result"
    }
   ],
   "source": [
    "dataset[\"therapeutic_id\"] = encode_variable(dataset[\"therapeutic_area\"])\n",
    "dataset = dataset.drop(columns=[\"therapeutic_area\"])\n",
    "dataset.head(2)"
   ]
  },
  {
   "cell_type": "markdown",
   "metadata": {},
   "source": [
    "# Add last month encoded"
   ]
  },
  {
   "cell_type": "code",
   "execution_count": 20,
   "metadata": {},
   "outputs": [],
   "source": [
    "volume_last_month = volume[volume[\"month_num\"] == -1].copy()\n",
    "volume_last_month = volume_last_month.reset_index(drop=True)\n",
    "volume_last_month = volume_last_month[[\"country\", \"brand\", \"month_name\"]]"
   ]
  },
  {
   "cell_type": "code",
   "execution_count": 21,
   "metadata": {},
   "outputs": [
    {
     "data": {
      "text/html": [
       "<div>\n",
       "<style scoped>\n",
       "    .dataframe tbody tr th:only-of-type {\n",
       "        vertical-align: middle;\n",
       "    }\n",
       "\n",
       "    .dataframe tbody tr th {\n",
       "        vertical-align: top;\n",
       "    }\n",
       "\n",
       "    .dataframe thead th {\n",
       "        text-align: right;\n",
       "    }\n",
       "</style>\n",
       "<table border=\"1\" class=\"dataframe\">\n",
       "  <thead>\n",
       "    <tr style=\"text-align: right;\">\n",
       "      <th></th>\n",
       "      <th>country</th>\n",
       "      <th>brand</th>\n",
       "      <th>month_name</th>\n",
       "      <th>last_month_sin</th>\n",
       "      <th>last_month_cos</th>\n",
       "    </tr>\n",
       "  </thead>\n",
       "  <tbody>\n",
       "    <tr>\n",
       "      <th>0</th>\n",
       "      <td>country_1</td>\n",
       "      <td>brand_3</td>\n",
       "      <td>Oct</td>\n",
       "      <td>-8.660254e-01</td>\n",
       "      <td>0.500000</td>\n",
       "    </tr>\n",
       "    <tr>\n",
       "      <th>1</th>\n",
       "      <td>country_1</td>\n",
       "      <td>brand_4</td>\n",
       "      <td>Oct</td>\n",
       "      <td>-8.660254e-01</td>\n",
       "      <td>0.500000</td>\n",
       "    </tr>\n",
       "    <tr>\n",
       "      <th>2</th>\n",
       "      <td>country_1</td>\n",
       "      <td>brand_10</td>\n",
       "      <td>May</td>\n",
       "      <td>5.000000e-01</td>\n",
       "      <td>-0.866025</td>\n",
       "    </tr>\n",
       "    <tr>\n",
       "      <th>3</th>\n",
       "      <td>country_1</td>\n",
       "      <td>brand_14</td>\n",
       "      <td>Dec</td>\n",
       "      <td>-2.449294e-16</td>\n",
       "      <td>1.000000</td>\n",
       "    </tr>\n",
       "    <tr>\n",
       "      <th>4</th>\n",
       "      <td>country_1</td>\n",
       "      <td>brand_18</td>\n",
       "      <td>Dec</td>\n",
       "      <td>-2.449294e-16</td>\n",
       "      <td>1.000000</td>\n",
       "    </tr>\n",
       "  </tbody>\n",
       "</table>\n",
       "</div>"
      ],
      "text/plain": [
       "     country     brand month_name  last_month_sin  last_month_cos\n",
       "0  country_1   brand_3        Oct   -8.660254e-01        0.500000\n",
       "1  country_1   brand_4        Oct   -8.660254e-01        0.500000\n",
       "2  country_1  brand_10        May    5.000000e-01       -0.866025\n",
       "3  country_1  brand_14        Dec   -2.449294e-16        1.000000\n",
       "4  country_1  brand_18        Dec   -2.449294e-16        1.000000"
      ]
     },
     "execution_count": 21,
     "metadata": {},
     "output_type": "execute_result"
    }
   ],
   "source": [
    "volume_last_month[[\"last_month_sin\", \"last_month_cos\"]] = pd.DataFrame(list(volume_last_month[\"month_name\"].apply(encode_month)), columns=[\"last_month_sin\", \"last_month_cos\"])\n",
    "volume_last_month.head()"
   ]
  },
  {
   "cell_type": "code",
   "execution_count": 22,
   "metadata": {},
   "outputs": [
    {
     "data": {
      "text/html": [
       "<div>\n",
       "<style scoped>\n",
       "    .dataframe tbody tr th:only-of-type {\n",
       "        vertical-align: middle;\n",
       "    }\n",
       "\n",
       "    .dataframe tbody tr th {\n",
       "        vertical-align: top;\n",
       "    }\n",
       "\n",
       "    .dataframe thead th {\n",
       "        text-align: right;\n",
       "    }\n",
       "</style>\n",
       "<table border=\"1\" class=\"dataframe\">\n",
       "  <thead>\n",
       "    <tr style=\"text-align: right;\">\n",
       "      <th></th>\n",
       "      <th>country</th>\n",
       "      <th>brand</th>\n",
       "      <th>country_id</th>\n",
       "      <th>brand_id</th>\n",
       "      <th>num_generics</th>\n",
       "      <th>package_id</th>\n",
       "      <th>channel_rate_A</th>\n",
       "      <th>channel_rate_B</th>\n",
       "      <th>channel_rate_C</th>\n",
       "      <th>channel_rate_D</th>\n",
       "      <th>therapeutic_id</th>\n",
       "      <th>last_month_sin</th>\n",
       "      <th>last_month_cos</th>\n",
       "    </tr>\n",
       "  </thead>\n",
       "  <tbody>\n",
       "    <tr>\n",
       "      <th>0</th>\n",
       "      <td>country_1</td>\n",
       "      <td>brand_3</td>\n",
       "      <td>0</td>\n",
       "      <td>222</td>\n",
       "      <td>3</td>\n",
       "      <td>6</td>\n",
       "      <td>0.0</td>\n",
       "      <td>1.189704</td>\n",
       "      <td>0.0</td>\n",
       "      <td>98.810296</td>\n",
       "      <td>2</td>\n",
       "      <td>-0.866025</td>\n",
       "      <td>0.5</td>\n",
       "    </tr>\n",
       "    <tr>\n",
       "      <th>1</th>\n",
       "      <td>country_1</td>\n",
       "      <td>brand_3</td>\n",
       "      <td>0</td>\n",
       "      <td>222</td>\n",
       "      <td>3</td>\n",
       "      <td>6</td>\n",
       "      <td>0.0</td>\n",
       "      <td>1.189704</td>\n",
       "      <td>0.0</td>\n",
       "      <td>98.810296</td>\n",
       "      <td>2</td>\n",
       "      <td>-0.866025</td>\n",
       "      <td>0.5</td>\n",
       "    </tr>\n",
       "  </tbody>\n",
       "</table>\n",
       "</div>"
      ],
      "text/plain": [
       "     country    brand  country_id  brand_id  num_generics  package_id  \\\n",
       "0  country_1  brand_3           0       222             3           6   \n",
       "1  country_1  brand_3           0       222             3           6   \n",
       "\n",
       "   channel_rate_A  channel_rate_B  channel_rate_C  channel_rate_D  \\\n",
       "0             0.0        1.189704             0.0       98.810296   \n",
       "1             0.0        1.189704             0.0       98.810296   \n",
       "\n",
       "   therapeutic_id  last_month_sin  last_month_cos  \n",
       "0               2       -0.866025             0.5  \n",
       "1               2       -0.866025             0.5  "
      ]
     },
     "execution_count": 22,
     "metadata": {},
     "output_type": "execute_result"
    }
   ],
   "source": [
    "dataset = dataset.merge(volume_last_month, on=[\"country\", \"brand\"], how=\"left\")\n",
    "dataset = dataset.drop(columns=\"month_name\")\n",
    "dataset.head(2)"
   ]
  },
  {
   "cell_type": "markdown",
   "metadata": {},
   "source": [
    "# Drop Duplicates"
   ]
  },
  {
   "cell_type": "code",
   "execution_count": 23,
   "metadata": {},
   "outputs": [],
   "source": [
    "dataset = dataset.drop_duplicates()"
   ]
  },
  {
   "cell_type": "markdown",
   "metadata": {},
   "source": [
    "# Save dataset"
   ]
  },
  {
   "cell_type": "code",
   "execution_count": 24,
   "metadata": {},
   "outputs": [
    {
     "data": {
      "text/html": [
       "<div>\n",
       "<style scoped>\n",
       "    .dataframe tbody tr th:only-of-type {\n",
       "        vertical-align: middle;\n",
       "    }\n",
       "\n",
       "    .dataframe tbody tr th {\n",
       "        vertical-align: top;\n",
       "    }\n",
       "\n",
       "    .dataframe thead th {\n",
       "        text-align: right;\n",
       "    }\n",
       "</style>\n",
       "<table border=\"1\" class=\"dataframe\">\n",
       "  <thead>\n",
       "    <tr style=\"text-align: right;\">\n",
       "      <th></th>\n",
       "      <th>country</th>\n",
       "      <th>brand</th>\n",
       "      <th>country_id</th>\n",
       "      <th>brand_id</th>\n",
       "      <th>num_generics</th>\n",
       "      <th>package_id</th>\n",
       "      <th>channel_rate_A</th>\n",
       "      <th>channel_rate_B</th>\n",
       "      <th>channel_rate_C</th>\n",
       "      <th>channel_rate_D</th>\n",
       "      <th>therapeutic_id</th>\n",
       "      <th>last_month_sin</th>\n",
       "      <th>last_month_cos</th>\n",
       "    </tr>\n",
       "  </thead>\n",
       "  <tbody>\n",
       "    <tr>\n",
       "      <th>0</th>\n",
       "      <td>country_1</td>\n",
       "      <td>brand_3</td>\n",
       "      <td>0</td>\n",
       "      <td>222</td>\n",
       "      <td>3</td>\n",
       "      <td>6</td>\n",
       "      <td>0.0</td>\n",
       "      <td>1.189704</td>\n",
       "      <td>0.0</td>\n",
       "      <td>98.810296</td>\n",
       "      <td>2</td>\n",
       "      <td>-8.660254e-01</td>\n",
       "      <td>5.000000e-01</td>\n",
       "    </tr>\n",
       "    <tr>\n",
       "      <th>112</th>\n",
       "      <td>country_1</td>\n",
       "      <td>brand_4</td>\n",
       "      <td>0</td>\n",
       "      <td>333</td>\n",
       "      <td>1</td>\n",
       "      <td>6</td>\n",
       "      <td>0.0</td>\n",
       "      <td>0.090229</td>\n",
       "      <td>0.0</td>\n",
       "      <td>99.909771</td>\n",
       "      <td>2</td>\n",
       "      <td>-8.660254e-01</td>\n",
       "      <td>5.000000e-01</td>\n",
       "    </tr>\n",
       "    <tr>\n",
       "      <th>224</th>\n",
       "      <td>country_1</td>\n",
       "      <td>brand_10</td>\n",
       "      <td>0</td>\n",
       "      <td>1</td>\n",
       "      <td>6</td>\n",
       "      <td>6</td>\n",
       "      <td>0.0</td>\n",
       "      <td>1.015697</td>\n",
       "      <td>0.0</td>\n",
       "      <td>98.984303</td>\n",
       "      <td>6</td>\n",
       "      <td>5.000000e-01</td>\n",
       "      <td>-8.660254e-01</td>\n",
       "    </tr>\n",
       "    <tr>\n",
       "      <th>295</th>\n",
       "      <td>country_1</td>\n",
       "      <td>brand_14</td>\n",
       "      <td>0</td>\n",
       "      <td>45</td>\n",
       "      <td>1</td>\n",
       "      <td>6</td>\n",
       "      <td>0.0</td>\n",
       "      <td>1.118446</td>\n",
       "      <td>0.0</td>\n",
       "      <td>98.881554</td>\n",
       "      <td>2</td>\n",
       "      <td>-2.449294e-16</td>\n",
       "      <td>1.000000e+00</td>\n",
       "    </tr>\n",
       "    <tr>\n",
       "      <th>349</th>\n",
       "      <td>country_1</td>\n",
       "      <td>brand_18</td>\n",
       "      <td>0</td>\n",
       "      <td>89</td>\n",
       "      <td>1</td>\n",
       "      <td>0</td>\n",
       "      <td>0.0</td>\n",
       "      <td>1.118671</td>\n",
       "      <td>0.0</td>\n",
       "      <td>98.881329</td>\n",
       "      <td>3</td>\n",
       "      <td>-2.449294e-16</td>\n",
       "      <td>1.000000e+00</td>\n",
       "    </tr>\n",
       "    <tr>\n",
       "      <th>463</th>\n",
       "      <td>country_1</td>\n",
       "      <td>brand_20</td>\n",
       "      <td>0</td>\n",
       "      <td>112</td>\n",
       "      <td>2</td>\n",
       "      <td>3</td>\n",
       "      <td>0.0</td>\n",
       "      <td>99.403053</td>\n",
       "      <td>0.0</td>\n",
       "      <td>0.596947</td>\n",
       "      <td>1</td>\n",
       "      <td>5.000000e-01</td>\n",
       "      <td>-8.660254e-01</td>\n",
       "    </tr>\n",
       "    <tr>\n",
       "      <th>606</th>\n",
       "      <td>country_1</td>\n",
       "      <td>brand_23</td>\n",
       "      <td>0</td>\n",
       "      <td>145</td>\n",
       "      <td>1</td>\n",
       "      <td>6</td>\n",
       "      <td>0.0</td>\n",
       "      <td>0.339134</td>\n",
       "      <td>0.0</td>\n",
       "      <td>99.660866</td>\n",
       "      <td>2</td>\n",
       "      <td>5.000000e-01</td>\n",
       "      <td>-8.660254e-01</td>\n",
       "    </tr>\n",
       "    <tr>\n",
       "      <th>717</th>\n",
       "      <td>country_1</td>\n",
       "      <td>brand_25</td>\n",
       "      <td>0</td>\n",
       "      <td>167</td>\n",
       "      <td>1</td>\n",
       "      <td>6</td>\n",
       "      <td>0.0</td>\n",
       "      <td>1.310122</td>\n",
       "      <td>0.0</td>\n",
       "      <td>98.689878</td>\n",
       "      <td>8</td>\n",
       "      <td>-1.000000e+00</td>\n",
       "      <td>-1.836970e-16</td>\n",
       "    </tr>\n",
       "    <tr>\n",
       "      <th>780</th>\n",
       "      <td>country_1</td>\n",
       "      <td>brand_32</td>\n",
       "      <td>0</td>\n",
       "      <td>245</td>\n",
       "      <td>1</td>\n",
       "      <td>6</td>\n",
       "      <td>0.0</td>\n",
       "      <td>0.016193</td>\n",
       "      <td>0.0</td>\n",
       "      <td>99.983807</td>\n",
       "      <td>2</td>\n",
       "      <td>-2.449294e-16</td>\n",
       "      <td>1.000000e+00</td>\n",
       "    </tr>\n",
       "    <tr>\n",
       "      <th>831</th>\n",
       "      <td>country_1</td>\n",
       "      <td>brand_46</td>\n",
       "      <td>0</td>\n",
       "      <td>400</td>\n",
       "      <td>11</td>\n",
       "      <td>6</td>\n",
       "      <td>0.0</td>\n",
       "      <td>8.178941</td>\n",
       "      <td>0.0</td>\n",
       "      <td>91.821059</td>\n",
       "      <td>7</td>\n",
       "      <td>-2.449294e-16</td>\n",
       "      <td>1.000000e+00</td>\n",
       "    </tr>\n",
       "  </tbody>\n",
       "</table>\n",
       "</div>"
      ],
      "text/plain": [
       "       country     brand  country_id  brand_id  num_generics  package_id  \\\n",
       "0    country_1   brand_3           0       222             3           6   \n",
       "112  country_1   brand_4           0       333             1           6   \n",
       "224  country_1  brand_10           0         1             6           6   \n",
       "295  country_1  brand_14           0        45             1           6   \n",
       "349  country_1  brand_18           0        89             1           0   \n",
       "463  country_1  brand_20           0       112             2           3   \n",
       "606  country_1  brand_23           0       145             1           6   \n",
       "717  country_1  brand_25           0       167             1           6   \n",
       "780  country_1  brand_32           0       245             1           6   \n",
       "831  country_1  brand_46           0       400            11           6   \n",
       "\n",
       "     channel_rate_A  channel_rate_B  channel_rate_C  channel_rate_D  \\\n",
       "0               0.0        1.189704             0.0       98.810296   \n",
       "112             0.0        0.090229             0.0       99.909771   \n",
       "224             0.0        1.015697             0.0       98.984303   \n",
       "295             0.0        1.118446             0.0       98.881554   \n",
       "349             0.0        1.118671             0.0       98.881329   \n",
       "463             0.0       99.403053             0.0        0.596947   \n",
       "606             0.0        0.339134             0.0       99.660866   \n",
       "717             0.0        1.310122             0.0       98.689878   \n",
       "780             0.0        0.016193             0.0       99.983807   \n",
       "831             0.0        8.178941             0.0       91.821059   \n",
       "\n",
       "     therapeutic_id  last_month_sin  last_month_cos  \n",
       "0                 2   -8.660254e-01    5.000000e-01  \n",
       "112               2   -8.660254e-01    5.000000e-01  \n",
       "224               6    5.000000e-01   -8.660254e-01  \n",
       "295               2   -2.449294e-16    1.000000e+00  \n",
       "349               3   -2.449294e-16    1.000000e+00  \n",
       "463               1    5.000000e-01   -8.660254e-01  \n",
       "606               2    5.000000e-01   -8.660254e-01  \n",
       "717               8   -1.000000e+00   -1.836970e-16  \n",
       "780               2   -2.449294e-16    1.000000e+00  \n",
       "831               7   -2.449294e-16    1.000000e+00  "
      ]
     },
     "execution_count": 24,
     "metadata": {},
     "output_type": "execute_result"
    }
   ],
   "source": [
    "dataset.head(10)"
   ]
  },
  {
   "cell_type": "code",
   "execution_count": 25,
   "metadata": {},
   "outputs": [],
   "source": [
    "dataset.to_csv(OUTPUT_PATH, index=False)"
   ]
  }
 ],
 "metadata": {
  "kernelspec": {
   "display_name": "Python 3",
   "language": "python",
   "name": "python3"
  },
  "language_info": {
   "codemirror_mode": {
    "name": "ipython",
    "version": 3
   },
   "file_extension": ".py",
   "mimetype": "text/x-python",
   "name": "python",
   "nbconvert_exporter": "python",
   "pygments_lexer": "ipython3",
   "version": "3.8.6"
  }
 },
 "nbformat": 4,
 "nbformat_minor": 4
}
