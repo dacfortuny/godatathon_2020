{
 "cells": [
  {
   "cell_type": "code",
   "execution_count": null,
   "metadata": {},
   "outputs": [],
   "source": [
    "cd .."
   ]
  },
  {
   "cell_type": "code",
   "execution_count": null,
   "metadata": {},
   "outputs": [],
   "source": [
    "import datetime\n",
    "import numpy as np\n",
    "import pandas as pd"
   ]
  },
  {
   "cell_type": "markdown",
   "metadata": {},
   "source": [
    "# Settings"
   ]
  },
  {
   "cell_type": "code",
   "execution_count": null,
   "metadata": {},
   "outputs": [],
   "source": [
    "DATA_RAW_PATH = \"data/raw\"\n",
    "VOLUME_FILE = \"gx_volume.csv\"\n",
    "SUBMISSIONS_FILE = \"submission_template.csv\"\n",
    "OUTPUT_PATH = \"data/features/dataset_months_encoded.csv\""
   ]
  },
  {
   "cell_type": "markdown",
   "metadata": {},
   "source": [
    "# Functions"
   ]
  },
  {
   "cell_type": "code",
   "execution_count": null,
   "metadata": {},
   "outputs": [],
   "source": [
    "def month_name_to_number(month_name):\n",
    "    datetime_object = datetime.datetime.strptime(month_name, \"%b\")\n",
    "    return datetime_object.month\n",
    "\n",
    "def month_number_to_name(month_number):\n",
    "    return datetime.date(1900, month_number, 1).strftime(\"%b\")\n",
    "\n",
    "def encode_month(month_name):\n",
    "    month_number = month_name_to_number(month_name)\n",
    "    month_sin = np.sin(2 * np.pi * month_number/12)\n",
    "    month_cos = np.cos(2 * np.pi * month_number/12)\n",
    "    return month_sin, month_cos"
   ]
  },
  {
   "cell_type": "markdown",
   "metadata": {},
   "source": [
    "# Retrieve data"
   ]
  },
  {
   "cell_type": "code",
   "execution_count": null,
   "metadata": {},
   "outputs": [],
   "source": [
    "volume = pd.read_csv(f\"{DATA_RAW_PATH}/{VOLUME_FILE}\", index_col=0)\n",
    "volume.head(2)"
   ]
  },
  {
   "cell_type": "code",
   "execution_count": null,
   "metadata": {},
   "outputs": [],
   "source": [
    "submissions = pd.read_csv(f\"{DATA_RAW_PATH}/{SUBMISSIONS_FILE}\")\n",
    "submissions.head(2)"
   ]
  },
  {
   "cell_type": "markdown",
   "metadata": {},
   "source": [
    "# Create table"
   ]
  },
  {
   "cell_type": "markdown",
   "metadata": {},
   "source": [
    "## Encode month in volume df"
   ]
  },
  {
   "cell_type": "code",
   "execution_count": null,
   "metadata": {},
   "outputs": [],
   "source": [
    "volume = volume[[\"country\", \"brand\", \"month_num\", \"month_name\"]]\n",
    "volume.head(2)"
   ]
  },
  {
   "cell_type": "code",
   "execution_count": null,
   "metadata": {},
   "outputs": [],
   "source": [
    "volume[[\"month_sin\", \"month_coss\"]] = pd.DataFrame(list(volume[\"month_name\"].apply(encode_month)), columns=[\"month_sin\", \"month_cos\"])\n",
    "volume.head(2)"
   ]
  },
  {
   "cell_type": "markdown",
   "metadata": {},
   "source": [
    "## Encode month in submissions df"
   ]
  },
  {
   "cell_type": "code",
   "execution_count": null,
   "metadata": {},
   "outputs": [],
   "source": [
    "volume_last_month = volume[volume[\"month_num\"] == -1].copy()\n",
    "volume_last_month = volume_last_month.reset_index(drop=True)\n",
    "volume_last_month = volume_last_month[[\"country\", \"brand\", \"month_name\"]]\n",
    "volume_last_month = volume_last_month.rename(columns={\"month_name\": \"last_month\"})\n",
    "volume_last_month.head(2)"
   ]
  },
  {
   "cell_type": "code",
   "execution_count": null,
   "metadata": {},
   "outputs": [],
   "source": [
    "submissions = submissions[[\"country\", \"brand\", \"month_num\"]]\n",
    "submissions.head(2)"
   ]
  },
  {
   "cell_type": "code",
   "execution_count": null,
   "metadata": {},
   "outputs": [],
   "source": [
    "submissions = submissions.merge(volume_last_month, on=[\"country\", \"brand\"], how=\"left\")\n",
    "submissions[\"last_month\"] = submissions[\"last_month\"].apply(month_name_to_number)\n",
    "submissions[\"month_year\"] = (submissions[\"month_num\"] + submissions[\"last_month\"]) % 12 + 1\n",
    "submissions[\"month_name\"] = submissions[\"month_year\"].apply(month_number_to_name)\n",
    "submissions = submissions.drop(columns=[\"last_month\", \"month_year\"])\n",
    "submissions.head(2)"
   ]
  },
  {
   "cell_type": "code",
   "execution_count": null,
   "metadata": {},
   "outputs": [],
   "source": [
    "submissions[[\"month_sin\", \"month_coss\"]] = pd.DataFrame(list(submissions[\"month_name\"].apply(encode_month)), columns=[\"month_sin\", \"month_cos\"])\n",
    "submissions.head(2)"
   ]
  },
  {
   "cell_type": "markdown",
   "metadata": {},
   "source": [
    "# Create complete dataset"
   ]
  },
  {
   "cell_type": "code",
   "execution_count": null,
   "metadata": {},
   "outputs": [],
   "source": [
    "dataset = pd.concat([volume, submissions])\n",
    "dataset.head(2)"
   ]
  },
  {
   "cell_type": "code",
   "execution_count": null,
   "metadata": {},
   "outputs": [],
   "source": [
    "dataset = dataset.sort_values([\"country\", \"brand\", \"month_num\"]).reset_index(drop=True)\n",
    "dataset.head(2)"
   ]
  },
  {
   "cell_type": "markdown",
   "metadata": {},
   "source": [
    "# Save dataset"
   ]
  },
  {
   "cell_type": "code",
   "execution_count": null,
   "metadata": {},
   "outputs": [],
   "source": [
    "dataset.head(10)"
   ]
  },
  {
   "cell_type": "code",
   "execution_count": null,
   "metadata": {},
   "outputs": [],
   "source": [
    "dataset.to_csv(OUTPUT_PATH, index=False)"
   ]
  }
 ],
 "metadata": {
  "kernelspec": {
   "display_name": "Python 3",
   "language": "python",
   "name": "python3"
  },
  "language_info": {
   "codemirror_mode": {
    "name": "ipython",
    "version": 3
   },
   "file_extension": ".py",
   "mimetype": "text/x-python",
   "name": "python",
   "nbconvert_exporter": "python",
   "pygments_lexer": "ipython3",
   "version": "3.8.5"
  }
 },
 "nbformat": 4,
 "nbformat_minor": 4
}
