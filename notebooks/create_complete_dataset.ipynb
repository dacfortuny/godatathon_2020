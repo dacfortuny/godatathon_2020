{
 "cells": [
  {
   "cell_type": "code",
   "execution_count": null,
   "metadata": {},
   "outputs": [],
   "source": [
    "cd .."
   ]
  },
  {
   "cell_type": "code",
   "execution_count": null,
   "metadata": {},
   "outputs": [],
   "source": [
    "import pandas as pd\n",
    "\n",
    "from src.utils import read_raw_file, save_dataset"
   ]
  },
  {
   "cell_type": "markdown",
   "metadata": {},
   "source": [
    "# Settings"
   ]
  },
  {
   "cell_type": "code",
   "execution_count": null,
   "metadata": {},
   "outputs": [],
   "source": [
    "DATA_RAW_PATH = \"data/raw\"\n",
    "VOLUME_FILE = \"gx_volume.csv\"\n",
    "GENERICS_FILE = \"gx_num_generics.csv\"\n",
    "PACKAGE_FILE = \"gx_package.csv\"\n",
    "PANEL_FILE = \"gx_panel.csv\"\n",
    "AREA_FILE = \"gx_therapeutic_area.csv\"\n",
    "SUBMISSION_FILE = \"submission_template.csv\"\n",
    "DATA_CLEAN_PATH = \"data/clean\"\n",
    "OUTPUT_NAME = \"dataset_complete.csv\"\n",
    "OUTPUT_NAME_PROVIDED = \"dataset_complete_provided.csv\""
   ]
  },
  {
   "cell_type": "markdown",
   "metadata": {},
   "source": [
    "# Retrieve data"
   ]
  },
  {
   "cell_type": "code",
   "execution_count": null,
   "metadata": {},
   "outputs": [],
   "source": [
    "volume = read_raw_file(DATA_RAW_PATH, VOLUME_FILE)\n",
    "volume.head(2)"
   ]
  },
  {
   "cell_type": "code",
   "execution_count": null,
   "metadata": {},
   "outputs": [],
   "source": [
    "submission = pd.read_csv(f\"{DATA_RAW_PATH}/{SUBMISSION_FILE}\")\n",
    "submission.head(2)"
   ]
  },
  {
   "cell_type": "code",
   "execution_count": null,
   "metadata": {},
   "outputs": [],
   "source": [
    "competitors = read_raw_file(DATA_RAW_PATH, GENERICS_FILE)\n",
    "competitors.head(2)"
   ]
  },
  {
   "cell_type": "code",
   "execution_count": null,
   "metadata": {},
   "outputs": [],
   "source": [
    "packages = read_raw_file(DATA_RAW_PATH, PACKAGE_FILE)\n",
    "packages.head(2)"
   ]
  },
  {
   "cell_type": "code",
   "execution_count": null,
   "metadata": {},
   "outputs": [],
   "source": [
    "channels = read_raw_file(DATA_RAW_PATH, PANEL_FILE)\n",
    "channels.head(2)"
   ]
  },
  {
   "cell_type": "code",
   "execution_count": null,
   "metadata": {},
   "outputs": [],
   "source": [
    "bodyparts = read_raw_file(DATA_RAW_PATH, AREA_FILE)\n",
    "bodyparts.head(2)"
   ]
  },
  {
   "cell_type": "markdown",
   "metadata": {},
   "source": [
    "# Create base table"
   ]
  },
  {
   "cell_type": "markdown",
   "metadata": {},
   "source": [
    "## Join provided and required datasets"
   ]
  },
  {
   "cell_type": "code",
   "execution_count": null,
   "metadata": {},
   "outputs": [],
   "source": [
    "volume = volume.drop(columns=[\"month_name\"])\n",
    "volume[\"provided\"] = True\n",
    "volume[\"submission\"] = False\n",
    "volume.head(2)"
   ]
  },
  {
   "cell_type": "code",
   "execution_count": null,
   "metadata": {},
   "outputs": [],
   "source": [
    "submission"
   ]
  },
  {
   "cell_type": "code",
   "execution_count": null,
   "metadata": {},
   "outputs": [],
   "source": [
    "submission = submission.drop(columns=[\"pred_95_low\", \"pred_95_high\"])\n",
    "submission = submission.rename(columns={\"prediction\": \"volume\"})\n",
    "submission[\"provided\"] = False\n",
    "submission[\"submission\"] = True\n",
    "submission = submission[[\"country\", \"brand\", \"volume\", \"month_num\", \"provided\", \"submission\"]]"
   ]
  },
  {
   "cell_type": "code",
   "execution_count": null,
   "metadata": {},
   "outputs": [],
   "source": [
    "dataset = pd.concat([volume, submission])\n",
    "dataset = dataset.groupby([\"country\", \"brand\", \"month_num\"], as_index=False).sum()\n",
    "dataset.head(2)"
   ]
  },
  {
   "cell_type": "markdown",
   "metadata": {},
   "source": [
    "## Add number of competitors"
   ]
  },
  {
   "cell_type": "code",
   "execution_count": null,
   "metadata": {},
   "outputs": [],
   "source": [
    "dataset = dataset.merge(competitors, on=[\"country\", \"brand\"], how=\"left\").fillna(0)\n",
    "dataset.head(2)"
   ]
  },
  {
   "cell_type": "markdown",
   "metadata": {},
   "source": [
    "## Add type of drug"
   ]
  },
  {
   "cell_type": "code",
   "execution_count": null,
   "metadata": {},
   "outputs": [],
   "source": [
    "packages = pd.get_dummies(packages, columns=[\"presentation\"], prefix=\"package\")\n",
    "packages.head(2)"
   ]
  },
  {
   "cell_type": "code",
   "execution_count": null,
   "metadata": {},
   "outputs": [],
   "source": [
    "dataset = dataset.merge(packages, on=[\"country\", \"brand\"], how=\"left\").fillna(0)\n",
    "dataset.head(2)"
   ]
  },
  {
   "cell_type": "markdown",
   "metadata": {},
   "source": [
    "## Add distribution channel rates"
   ]
  },
  {
   "cell_type": "code",
   "execution_count": null,
   "metadata": {},
   "outputs": [],
   "source": [
    "channels = pd.pivot_table(channels, columns=[\"channel\"], index=[\"country\", \"brand\"]).fillna(0)\n",
    "channels.columns = [f\"{c[0]}_{c[1]}\" for c in channels.columns]\n",
    "channels.head(2)"
   ]
  },
  {
   "cell_type": "code",
   "execution_count": null,
   "metadata": {},
   "outputs": [],
   "source": [
    "dataset = dataset.merge(channels, on=[\"country\", \"brand\"], how=\"left\").fillna(0)\n",
    "dataset.head(2)"
   ]
  },
  {
   "cell_type": "markdown",
   "metadata": {},
   "source": [
    "## Add body part"
   ]
  },
  {
   "cell_type": "code",
   "execution_count": null,
   "metadata": {},
   "outputs": [],
   "source": [
    "bodyparts = pd.get_dummies(bodyparts, columns=[\"therapeutic_area\"], prefix=\"bodypart\")\n",
    "bodyparts.head(2)"
   ]
  },
  {
   "cell_type": "code",
   "execution_count": null,
   "metadata": {},
   "outputs": [],
   "source": [
    "dataset = dataset.merge(bodyparts, on=\"brand\", how=\"left\").fillna(0)\n",
    "dataset.head(2)"
   ]
  },
  {
   "cell_type": "markdown",
   "metadata": {},
   "source": [
    "## Transform country and brand into dummies"
   ]
  },
  {
   "cell_type": "code",
   "execution_count": null,
   "metadata": {},
   "outputs": [],
   "source": [
    "dataset_dummies = pd.get_dummies(dataset[[\"country\", \"brand\"]], columns=[\"country\", \"brand\"], prefix=[\"\", \"\"])\n",
    "dataset_dummies.columns = [c[1:] for c in dataset_dummies.columns]\n",
    "dataset = pd.concat([dataset, dataset_dummies], axis=1)\n",
    "dataset.head(2)"
   ]
  },
  {
   "cell_type": "markdown",
   "metadata": {},
   "source": [
    "## Reorder columns"
   ]
  },
  {
   "cell_type": "code",
   "execution_count": null,
   "metadata": {},
   "outputs": [],
   "source": [
    "first_columns = [\"provided\", \"submission\", \"country\", \"brand\", \"volume\"]\n",
    "last_columns = [c for c in dataset.columns if c not in first_columns]\n",
    "dataset = dataset[first_columns + last_columns]\n",
    "dataset.head(2)"
   ]
  },
  {
   "cell_type": "markdown",
   "metadata": {},
   "source": [
    "# Save complete dataset"
   ]
  },
  {
   "cell_type": "code",
   "execution_count": null,
   "metadata": {},
   "outputs": [],
   "source": [
    "dataset.head(10)"
   ]
  },
  {
   "cell_type": "code",
   "execution_count": null,
   "metadata": {},
   "outputs": [],
   "source": [
    "save_dataset(dataset, DATA_CLEAN_PATH, OUTPUT_NAME)"
   ]
  },
  {
   "cell_type": "markdown",
   "metadata": {},
   "source": [
    "## Only provided"
   ]
  },
  {
   "cell_type": "code",
   "execution_count": null,
   "metadata": {},
   "outputs": [],
   "source": [
    "dataset_provided = dataset[dataset[\"provided\"] == True]\n",
    "dataset_provided.drop(columns=[\"provided\", \"submission\", \"country\", \"brand\"])\n",
    "save_dataset(dataset_provided, DATA_CLEAN_PATH, OUTPUT_NAME_PROVIDED)"
   ]
  }
 ],
 "metadata": {
  "kernelspec": {
   "display_name": "Python 3",
   "language": "python",
   "name": "python3"
  },
  "language_info": {
   "codemirror_mode": {
    "name": "ipython",
    "version": 3
   },
   "file_extension": ".py",
   "mimetype": "text/x-python",
   "name": "python",
   "nbconvert_exporter": "python",
   "pygments_lexer": "ipython3",
   "version": "3.7.7"
  }
 },
 "nbformat": 4,
 "nbformat_minor": 4
}
