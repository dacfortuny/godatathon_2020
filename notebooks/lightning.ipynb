{
 "cells": [
  {
   "cell_type": "code",
   "execution_count": 1,
   "metadata": {},
   "outputs": [
    {
     "name": "stdout",
     "output_type": "stream",
     "text": [
      "/home/xavier/projects/godatathon_2020\n"
     ]
    }
   ],
   "source": [
    "cd .."
   ]
  },
  {
   "cell_type": "code",
   "execution_count": 2,
   "metadata": {},
   "outputs": [],
   "source": [
    "%load_ext autoreload\n",
    "%autoreload 2"
   ]
  },
  {
   "cell_type": "code",
   "execution_count": 3,
   "metadata": {},
   "outputs": [],
   "source": [
    "import numpy as np\n",
    "import pandas as pd\n",
    "import pytorch_lightning as pl\n",
    "import torch\n",
    "from torch.utils.data import DataLoader\n",
    "from tqdm import tqdm\n",
    "\n",
    "from src.model.trainer import RNNModel\n",
    "from src.model.dataset import NovartisDataset"
   ]
  },
  {
   "cell_type": "markdown",
   "metadata": {},
   "source": [
    "### Params"
   ]
  },
  {
   "cell_type": "code",
   "execution_count": 4,
   "metadata": {},
   "outputs": [],
   "source": [
    "input_dim = 1\n",
    "hidden_dim = 5\n",
    "num_layers = 1"
   ]
  },
  {
   "cell_type": "code",
   "execution_count": 5,
   "metadata": {},
   "outputs": [],
   "source": [
    "SEED = 27\n",
    "LR = 1e-4"
   ]
  },
  {
   "cell_type": "code",
   "execution_count": 6,
   "metadata": {},
   "outputs": [
    {
     "data": {
      "text/plain": [
       "27"
      ]
     },
     "execution_count": 6,
     "metadata": {},
     "output_type": "execute_result"
    }
   ],
   "source": [
    "pl.seed_everything(SEED)"
   ]
  },
  {
   "cell_type": "markdown",
   "metadata": {},
   "source": [
    "### Data Engineering"
   ]
  },
  {
   "cell_type": "code",
   "execution_count": 7,
   "metadata": {},
   "outputs": [],
   "source": [
    "volume = pd.read_csv(\"data/raw/gx_volume.csv\", index_col=0)\n",
    "submissions = pd.read_csv(\"data/raw/submission_template.csv\")\n"
   ]
  },
  {
   "cell_type": "code",
   "execution_count": 8,
   "metadata": {},
   "outputs": [],
   "source": [
    "volume[\"country_brand\"] = volume[\"country\"] + \"-\" + volume[\"brand\"]\n",
    "submissions[\"country_brand\"] = submissions[\"country\"] + \"-\" + submissions[\"brand\"]"
   ]
  },
  {
   "cell_type": "markdown",
   "metadata": {},
   "source": [
    "### Average Last 12 Months\n",
    "Necessary for computing the loss"
   ]
  },
  {
   "cell_type": "code",
   "execution_count": 9,
   "metadata": {},
   "outputs": [],
   "source": [
    "avg_12_volume = volume[\n",
    "    (volume.month_num >= -12) & (volume.month_num < 0)\n",
    "].groupby(\"country_brand\")[\"volume\"].mean().reset_index()\n",
    "\n",
    "avg_12_volume = avg_12_volume.rename(columns={\"volume\": \"avg_12_volume\"})"
   ]
  },
  {
   "cell_type": "code",
   "execution_count": 10,
   "metadata": {},
   "outputs": [],
   "source": [
    "# Add avg_12_volume to dataset\n",
    "volume = volume.merge(avg_12_volume, on=\"country_brand\", how=\"left\")"
   ]
  },
  {
   "cell_type": "markdown",
   "metadata": {},
   "source": [
    "### Max & Norm Volume"
   ]
  },
  {
   "cell_type": "code",
   "execution_count": 11,
   "metadata": {},
   "outputs": [],
   "source": [
    "g = volume.groupby([\"country_brand\"])"
   ]
  },
  {
   "cell_type": "code",
   "execution_count": 12,
   "metadata": {},
   "outputs": [],
   "source": [
    "max_volume = g[\"volume\"].max().reset_index().rename(columns={\"volume\": \"max_volume\"})"
   ]
  },
  {
   "cell_type": "code",
   "execution_count": 13,
   "metadata": {},
   "outputs": [],
   "source": [
    "# Add max volume by country/brand\n",
    "volume = volume.merge(max_volume, on=\"country_brand\")"
   ]
  },
  {
   "cell_type": "code",
   "execution_count": 14,
   "metadata": {},
   "outputs": [],
   "source": [
    "volume[\"volume_norm\"] = volume[\"volume\"] / volume[\"max_volume\"]"
   ]
  },
  {
   "cell_type": "markdown",
   "metadata": {},
   "source": [
    "### Filter out submissions\n",
    "**Note:** We could actually use these points for training, only we would need to apply a mask to the loss calculated, and perhaps use teacher-forcing"
   ]
  },
  {
   "cell_type": "code",
   "execution_count": 15,
   "metadata": {},
   "outputs": [],
   "source": [
    "# Filter out country/brand in submissions\n",
    "volume_non_submission = volume[~volume[\"country_brand\"].isin(submissions[\"country_brand\"])]\n",
    "\n",
    "# Sort values\n",
    "volume_non_submission = volume_non_submission.sort_values([\"country\", \"brand\", \"month_num\"])"
   ]
  },
  {
   "cell_type": "code",
   "execution_count": 16,
   "metadata": {},
   "outputs": [],
   "source": [
    "# Note: In the future, we will compute the loss only on data that we have available for each country/mont\n",
    "# i.e. If a country only has volume until mont 20, we will pad/ignore the loss of months 21-24\n",
    "country_brand_post_count = volume_non_submission[volume_non_submission[\"month_num\"] >= 0].groupby(\"country_brand\").size()\n",
    "idx_post_volume_full = country_brand_post_count[country_brand_post_count == 24].index\n",
    "volume_non_submission = volume_non_submission[volume_non_submission[\"country_brand\"].isin(idx_post_volume_full)]"
   ]
  },
  {
   "cell_type": "markdown",
   "metadata": {},
   "source": [
    "---"
   ]
  },
  {
   "cell_type": "markdown",
   "metadata": {},
   "source": [
    "# Train/Val Split"
   ]
  },
  {
   "cell_type": "markdown",
   "metadata": {},
   "source": [
    "### Train"
   ]
  },
  {
   "cell_type": "code",
   "execution_count": 17,
   "metadata": {},
   "outputs": [],
   "source": [
    "from sklearn.model_selection import train_test_split"
   ]
  },
  {
   "cell_type": "code",
   "execution_count": 18,
   "metadata": {
    "scrolled": true
   },
   "outputs": [],
   "source": [
    "country_brands = volume_non_submission[\"country_brand\"].drop_duplicates().values"
   ]
  },
  {
   "cell_type": "code",
   "execution_count": 19,
   "metadata": {},
   "outputs": [],
   "source": [
    "# Train/Val split\n",
    "country_brands_train, country_brands_val = train_test_split(country_brands,\n",
    "                                                            test_size=0.20,\n",
    "                                                            random_state=SEED)"
   ]
  },
  {
   "cell_type": "code",
   "execution_count": 20,
   "metadata": {},
   "outputs": [],
   "source": [
    "volume_train = volume_non_submission[volume_non_submission[\"country_brand\"].isin(country_brands_train)].copy()"
   ]
  },
  {
   "cell_type": "markdown",
   "metadata": {},
   "source": [
    "#### Dataset/DataLoader"
   ]
  },
  {
   "cell_type": "code",
   "execution_count": 21,
   "metadata": {},
   "outputs": [],
   "source": [
    "ds_train = NovartisDataset(volume_train)\n",
    "dl_train = DataLoader(ds_train, batch_size=1, num_workers=0, shuffle=True)"
   ]
  },
  {
   "cell_type": "markdown",
   "metadata": {},
   "source": [
    "### Validation"
   ]
  },
  {
   "cell_type": "code",
   "execution_count": 22,
   "metadata": {},
   "outputs": [],
   "source": [
    "volume_val = volume[volume[\"country_brand\"].isin(country_brands_val)].copy()"
   ]
  },
  {
   "cell_type": "code",
   "execution_count": 23,
   "metadata": {},
   "outputs": [],
   "source": [
    "ds_val = NovartisDataset(volume_val)\n",
    "dl_val = DataLoader(ds_val, batch_size=1, num_workers=0, shuffle=True)"
   ]
  },
  {
   "cell_type": "raw",
   "metadata": {},
   "source": [
    "# Shuffle\n",
    "# Big scaling"
   ]
  },
  {
   "cell_type": "markdown",
   "metadata": {},
   "source": [
    "# Lightning"
   ]
  },
  {
   "cell_type": "raw",
   "metadata": {},
   "source": [
    "checkpoint_callback = pl.callbacks.ModelCheckpoint(monitor=\"val_loss\")\n",
    "early_stopping_callback = pl.callbacks.EarlyStopping(monitor=\"val_loss\")"
   ]
  },
  {
   "cell_type": "raw",
   "metadata": {},
   "source": [
    "trainer = pl.Trainer(max_epochs=50, gpus=1, callbacks=[checkpoint_callback, early_stopping_callback])\n",
    "model = RNNModel(input_dim=input_dim, hidden_dim=hidden_dim, num_layers=num_layers, lr=LR)"
   ]
  },
  {
   "cell_type": "raw",
   "metadata": {},
   "source": [
    "trainer.fit(model, train_dataloader=dl_train, val_dataloaders=dl_val)"
   ]
  },
  {
   "cell_type": "markdown",
   "metadata": {},
   "source": [
    "# Predict"
   ]
  },
  {
   "cell_type": "raw",
   "metadata": {},
   "source": [
    "model = RNNModel.load_from_checkpoint(\"lightning_logs/version_4/checkpoints/epoch=14.ckpt\")"
   ]
  },
  {
   "cell_type": "code",
   "execution_count": 40,
   "metadata": {},
   "outputs": [],
   "source": [
    "model = RNNModel.load_from_checkpoint(\"lightning_logs/version_5/checkpoints/epoch=49.ckpt\")"
   ]
  },
  {
   "cell_type": "raw",
   "metadata": {},
   "source": [
    "volume = pd.read_csv(\"data/raw/gx_volume.csv\", index_col=0)\n",
    "submissions = pd.read_csv(\"data/raw/submission_template.csv\")\n",
    "\n",
    "\n",
    "volume[\"country_brand\"] = volume[\"country\"] + \"-\" + volume[\"brand\"]\n",
    "submissions[\"country_brand\"] = submissions[\"country\"] + \"-\" + submissions[\"brand\"]"
   ]
  },
  {
   "cell_type": "code",
   "execution_count": 41,
   "metadata": {},
   "outputs": [],
   "source": [
    "# Filter out country/brand in submissions\n",
    "volume_test = volume[volume[\"country_brand\"].isin(submissions[\"country_brand\"])]\n",
    "\n",
    "# Sort values\n",
    "volume_test = volume_test.sort_values([\"country\", \"brand\", \"month_num\"])"
   ]
  },
  {
   "cell_type": "code",
   "execution_count": 42,
   "metadata": {},
   "outputs": [
    {
     "data": {
      "text/html": [
       "<div>\n",
       "<style scoped>\n",
       "    .dataframe tbody tr th:only-of-type {\n",
       "        vertical-align: middle;\n",
       "    }\n",
       "\n",
       "    .dataframe tbody tr th {\n",
       "        vertical-align: top;\n",
       "    }\n",
       "\n",
       "    .dataframe thead th {\n",
       "        text-align: right;\n",
       "    }\n",
       "</style>\n",
       "<table border=\"1\" class=\"dataframe\">\n",
       "  <thead>\n",
       "    <tr style=\"text-align: right;\">\n",
       "      <th></th>\n",
       "      <th></th>\n",
       "      <th></th>\n",
       "      <th>volume</th>\n",
       "      <th>month_name</th>\n",
       "      <th>country_brand</th>\n",
       "      <th>avg_12_volume</th>\n",
       "      <th>max_volume</th>\n",
       "      <th>volume_norm</th>\n",
       "    </tr>\n",
       "    <tr>\n",
       "      <th>country</th>\n",
       "      <th>brand</th>\n",
       "      <th>month_num</th>\n",
       "      <th></th>\n",
       "      <th></th>\n",
       "      <th></th>\n",
       "      <th></th>\n",
       "      <th></th>\n",
       "      <th></th>\n",
       "    </tr>\n",
       "  </thead>\n",
       "  <tbody>\n",
       "    <tr>\n",
       "      <th rowspan=\"5\" valign=\"top\">country_1</th>\n",
       "      <th rowspan=\"5\" valign=\"top\">brand_121</th>\n",
       "      <th>-101</th>\n",
       "      <td>109954.88</td>\n",
       "      <td>Jan</td>\n",
       "      <td>country_1-brand_121</td>\n",
       "      <td>35999789.0</td>\n",
       "      <td>38294953.2</td>\n",
       "      <td>0.002871</td>\n",
       "    </tr>\n",
       "    <tr>\n",
       "      <th>-100</th>\n",
       "      <td>860929.44</td>\n",
       "      <td>Feb</td>\n",
       "      <td>country_1-brand_121</td>\n",
       "      <td>35999789.0</td>\n",
       "      <td>38294953.2</td>\n",
       "      <td>0.022482</td>\n",
       "    </tr>\n",
       "    <tr>\n",
       "      <th>-99</th>\n",
       "      <td>1455175.12</td>\n",
       "      <td>Mar</td>\n",
       "      <td>country_1-brand_121</td>\n",
       "      <td>35999789.0</td>\n",
       "      <td>38294953.2</td>\n",
       "      <td>0.037999</td>\n",
       "    </tr>\n",
       "    <tr>\n",
       "      <th>-98</th>\n",
       "      <td>1883624.96</td>\n",
       "      <td>Apr</td>\n",
       "      <td>country_1-brand_121</td>\n",
       "      <td>35999789.0</td>\n",
       "      <td>38294953.2</td>\n",
       "      <td>0.049187</td>\n",
       "    </tr>\n",
       "    <tr>\n",
       "      <th>-97</th>\n",
       "      <td>2451245.44</td>\n",
       "      <td>May</td>\n",
       "      <td>country_1-brand_121</td>\n",
       "      <td>35999789.0</td>\n",
       "      <td>38294953.2</td>\n",
       "      <td>0.064010</td>\n",
       "    </tr>\n",
       "  </tbody>\n",
       "</table>\n",
       "</div>"
      ],
      "text/plain": [
       "                                   volume month_name        country_brand  \\\n",
       "country   brand     month_num                                               \n",
       "country_1 brand_121 -101        109954.88        Jan  country_1-brand_121   \n",
       "                    -100        860929.44        Feb  country_1-brand_121   \n",
       "                    -99        1455175.12        Mar  country_1-brand_121   \n",
       "                    -98        1883624.96        Apr  country_1-brand_121   \n",
       "                    -97        2451245.44        May  country_1-brand_121   \n",
       "\n",
       "                               avg_12_volume  max_volume  volume_norm  \n",
       "country   brand     month_num                                          \n",
       "country_1 brand_121 -101          35999789.0  38294953.2     0.002871  \n",
       "                    -100          35999789.0  38294953.2     0.022482  \n",
       "                    -99           35999789.0  38294953.2     0.037999  \n",
       "                    -98           35999789.0  38294953.2     0.049187  \n",
       "                    -97           35999789.0  38294953.2     0.064010  "
      ]
     },
     "execution_count": 42,
     "metadata": {},
     "output_type": "execute_result"
    }
   ],
   "source": [
    "volume_test.head()"
   ]
  },
  {
   "cell_type": "markdown",
   "metadata": {},
   "source": [
    "### Test"
   ]
  },
  {
   "cell_type": "code",
   "execution_count": 30,
   "metadata": {},
   "outputs": [],
   "source": [
    "ds_test = NovartisDataset(volume_test)\n",
    "dl_test = DataLoader(ds_test, batch_size=1, num_workers=1)"
   ]
  },
  {
   "cell_type": "code",
   "execution_count": 31,
   "metadata": {},
   "outputs": [],
   "source": [
    "max_volume_series = max_volume.set_index(\"country_brand\")"
   ]
  },
  {
   "cell_type": "code",
   "execution_count": 33,
   "metadata": {},
   "outputs": [
    {
     "name": "stderr",
     "output_type": "stream",
     "text": [
      "100%|██████████| 191/191 [00:06<00:00, 31.06it/s]\n"
     ]
    }
   ],
   "source": [
    "predictions = []\n",
    "\n",
    "model.eval()\n",
    "for n, batch in enumerate(tqdm(dl_test)):\n",
    "    # Unpack batch\n",
    "    x = batch[\"x_norm\"]\n",
    "    y = batch[\"y_norm\"]\n",
    "\n",
    "    y_hat = model(x, y)\n",
    "\n",
    "    y_hat_numpy = y_hat.squeeze(dim=1).detach().numpy()\n",
    "\n",
    "    for month, vol_pred in enumerate(y_hat_numpy.flatten()):\n",
    "        \n",
    "        country, brand = ds_test.group_keys[n]\n",
    "        \n",
    "        # Add volume scaling\n",
    "        volume_scaling = max_volume_series.loc[country + \"-\" + brand].item()\n",
    "        \n",
    "        prediction = {\"country\": country,\n",
    "                      \"brand\": brand,\n",
    "                      \"month_num\": month,\n",
    "                      \"pred_95_low\": vol_pred * volume_scaling,\n",
    "                      \"prediction\": vol_pred * volume_scaling,\n",
    "                      \"pred_95_high\": vol_pred * volume_scaling}\n",
    "        predictions.append(prediction)"
   ]
  },
  {
   "cell_type": "code",
   "execution_count": 35,
   "metadata": {},
   "outputs": [
    {
     "data": {
      "text/html": [
       "<div>\n",
       "<style scoped>\n",
       "    .dataframe tbody tr th:only-of-type {\n",
       "        vertical-align: middle;\n",
       "    }\n",
       "\n",
       "    .dataframe tbody tr th {\n",
       "        vertical-align: top;\n",
       "    }\n",
       "\n",
       "    .dataframe thead th {\n",
       "        text-align: right;\n",
       "    }\n",
       "</style>\n",
       "<table border=\"1\" class=\"dataframe\">\n",
       "  <thead>\n",
       "    <tr style=\"text-align: right;\">\n",
       "      <th></th>\n",
       "      <th>country</th>\n",
       "      <th>brand</th>\n",
       "      <th>month_num</th>\n",
       "      <th>pred_95_low</th>\n",
       "      <th>prediction</th>\n",
       "      <th>pred_95_high</th>\n",
       "    </tr>\n",
       "  </thead>\n",
       "  <tbody>\n",
       "    <tr>\n",
       "      <th>0</th>\n",
       "      <td>country_1</td>\n",
       "      <td>brand_121</td>\n",
       "      <td>0</td>\n",
       "      <td>2.633588e+07</td>\n",
       "      <td>2.633588e+07</td>\n",
       "      <td>2.633588e+07</td>\n",
       "    </tr>\n",
       "    <tr>\n",
       "      <th>1</th>\n",
       "      <td>country_1</td>\n",
       "      <td>brand_121</td>\n",
       "      <td>1</td>\n",
       "      <td>2.118612e+07</td>\n",
       "      <td>2.118612e+07</td>\n",
       "      <td>2.118612e+07</td>\n",
       "    </tr>\n",
       "    <tr>\n",
       "      <th>2</th>\n",
       "      <td>country_1</td>\n",
       "      <td>brand_121</td>\n",
       "      <td>2</td>\n",
       "      <td>1.840456e+07</td>\n",
       "      <td>1.840456e+07</td>\n",
       "      <td>1.840456e+07</td>\n",
       "    </tr>\n",
       "    <tr>\n",
       "      <th>3</th>\n",
       "      <td>country_1</td>\n",
       "      <td>brand_121</td>\n",
       "      <td>3</td>\n",
       "      <td>1.685354e+07</td>\n",
       "      <td>1.685354e+07</td>\n",
       "      <td>1.685354e+07</td>\n",
       "    </tr>\n",
       "    <tr>\n",
       "      <th>4</th>\n",
       "      <td>country_1</td>\n",
       "      <td>brand_121</td>\n",
       "      <td>4</td>\n",
       "      <td>1.593867e+07</td>\n",
       "      <td>1.593867e+07</td>\n",
       "      <td>1.593867e+07</td>\n",
       "    </tr>\n",
       "  </tbody>\n",
       "</table>\n",
       "</div>"
      ],
      "text/plain": [
       "     country      brand  month_num   pred_95_low    prediction  pred_95_high\n",
       "0  country_1  brand_121          0  2.633588e+07  2.633588e+07  2.633588e+07\n",
       "1  country_1  brand_121          1  2.118612e+07  2.118612e+07  2.118612e+07\n",
       "2  country_1  brand_121          2  1.840456e+07  1.840456e+07  1.840456e+07\n",
       "3  country_1  brand_121          3  1.685354e+07  1.685354e+07  1.685354e+07\n",
       "4  country_1  brand_121          4  1.593867e+07  1.593867e+07  1.593867e+07"
      ]
     },
     "execution_count": 35,
     "metadata": {},
     "output_type": "execute_result"
    }
   ],
   "source": [
    "df_preds = pd.DataFrame(predictions)\n",
    "df_preds.head()"
   ]
  },
  {
   "cell_type": "markdown",
   "metadata": {},
   "source": [
    "# Submission"
   ]
  },
  {
   "cell_type": "code",
   "execution_count": 36,
   "metadata": {},
   "outputs": [
    {
     "data": {
      "text/html": [
       "<div>\n",
       "<style scoped>\n",
       "    .dataframe tbody tr th:only-of-type {\n",
       "        vertical-align: middle;\n",
       "    }\n",
       "\n",
       "    .dataframe tbody tr th {\n",
       "        vertical-align: top;\n",
       "    }\n",
       "\n",
       "    .dataframe thead th {\n",
       "        text-align: right;\n",
       "    }\n",
       "</style>\n",
       "<table border=\"1\" class=\"dataframe\">\n",
       "  <thead>\n",
       "    <tr style=\"text-align: right;\">\n",
       "      <th></th>\n",
       "      <th>country</th>\n",
       "      <th>brand</th>\n",
       "      <th>month_num</th>\n",
       "      <th>pred_95_low</th>\n",
       "      <th>prediction</th>\n",
       "      <th>pred_95_high</th>\n",
       "    </tr>\n",
       "  </thead>\n",
       "  <tbody>\n",
       "    <tr>\n",
       "      <th>0</th>\n",
       "      <td>country_1</td>\n",
       "      <td>brand_121</td>\n",
       "      <td>0</td>\n",
       "      <td>2.633588e+07</td>\n",
       "      <td>2.633588e+07</td>\n",
       "      <td>2.633588e+07</td>\n",
       "    </tr>\n",
       "    <tr>\n",
       "      <th>1</th>\n",
       "      <td>country_1</td>\n",
       "      <td>brand_121</td>\n",
       "      <td>1</td>\n",
       "      <td>2.118612e+07</td>\n",
       "      <td>2.118612e+07</td>\n",
       "      <td>2.118612e+07</td>\n",
       "    </tr>\n",
       "    <tr>\n",
       "      <th>2</th>\n",
       "      <td>country_1</td>\n",
       "      <td>brand_121</td>\n",
       "      <td>2</td>\n",
       "      <td>1.840456e+07</td>\n",
       "      <td>1.840456e+07</td>\n",
       "      <td>1.840456e+07</td>\n",
       "    </tr>\n",
       "    <tr>\n",
       "      <th>3</th>\n",
       "      <td>country_1</td>\n",
       "      <td>brand_121</td>\n",
       "      <td>3</td>\n",
       "      <td>1.685354e+07</td>\n",
       "      <td>1.685354e+07</td>\n",
       "      <td>1.685354e+07</td>\n",
       "    </tr>\n",
       "    <tr>\n",
       "      <th>4</th>\n",
       "      <td>country_1</td>\n",
       "      <td>brand_121</td>\n",
       "      <td>4</td>\n",
       "      <td>1.593867e+07</td>\n",
       "      <td>1.593867e+07</td>\n",
       "      <td>1.593867e+07</td>\n",
       "    </tr>\n",
       "  </tbody>\n",
       "</table>\n",
       "</div>"
      ],
      "text/plain": [
       "     country      brand  month_num   pred_95_low    prediction  pred_95_high\n",
       "0  country_1  brand_121          0  2.633588e+07  2.633588e+07  2.633588e+07\n",
       "1  country_1  brand_121          1  2.118612e+07  2.118612e+07  2.118612e+07\n",
       "2  country_1  brand_121          2  1.840456e+07  1.840456e+07  1.840456e+07\n",
       "3  country_1  brand_121          3  1.685354e+07  1.685354e+07  1.685354e+07\n",
       "4  country_1  brand_121          4  1.593867e+07  1.593867e+07  1.593867e+07"
      ]
     },
     "execution_count": 36,
     "metadata": {},
     "output_type": "execute_result"
    }
   ],
   "source": [
    "# Add predictions to submissions\n",
    "merge_cols = [\"country\", \"brand\", \"month_num\"]\n",
    "final_submissions = submissions[merge_cols].merge(df_preds, on=merge_cols, how=\"left\")\n",
    "final_submissions.head()"
   ]
  },
  {
   "cell_type": "code",
   "execution_count": 37,
   "metadata": {},
   "outputs": [],
   "source": [
    "# Overwrite already know volumes to submissions\n",
    "final_submissions = final_submissions.set_index([\"country\", \"brand\", \"month_num\"])\n",
    "volume = volume.set_index([\"country\", \"brand\", \"month_num\"])\n",
    "\n",
    "for idx, _ in final_submissions.iterrows():\n",
    "    if idx in volume.index:\n",
    "        final_submissions.loc[idx] = volume.loc[idx, \"volume\"]"
   ]
  },
  {
   "cell_type": "code",
   "execution_count": 38,
   "metadata": {},
   "outputs": [],
   "source": [
    "final_submissions = final_submissions.reset_index()"
   ]
  },
  {
   "cell_type": "code",
   "execution_count": 39,
   "metadata": {},
   "outputs": [],
   "source": [
    "final_submissions.to_csv(\"data/submissions/sumbission_04.csv\", index=False)"
   ]
  }
 ],
 "metadata": {
  "kernelspec": {
   "display_name": "Python 3",
   "language": "python",
   "name": "python3"
  },
  "language_info": {
   "codemirror_mode": {
    "name": "ipython",
    "version": 3
   },
   "file_extension": ".py",
   "mimetype": "text/x-python",
   "name": "python",
   "nbconvert_exporter": "python",
   "pygments_lexer": "ipython3",
   "version": "3.8.6"
  }
 },
 "nbformat": 4,
 "nbformat_minor": 4
}
