{
 "cells": [
  {
   "cell_type": "code",
   "execution_count": 1,
   "metadata": {},
   "outputs": [
    {
     "name": "stdout",
     "output_type": "stream",
     "text": [
      "/home/xavier/projects/godatathon_2020\n"
     ]
    }
   ],
   "source": [
    "cd .."
   ]
  },
  {
   "cell_type": "code",
   "execution_count": 2,
   "metadata": {},
   "outputs": [],
   "source": [
    "%load_ext autoreload\n",
    "%autoreload 2"
   ]
  },
  {
   "cell_type": "code",
   "execution_count": 3,
   "metadata": {},
   "outputs": [],
   "source": [
    "import numpy as np\n",
    "import pandas as pd\n",
    "import pytorch_lightning as pl\n",
    "import torch\n",
    "from torch.utils.data import DataLoader\n",
    "from tqdm import tqdm\n",
    "\n",
    "from src.model.trainer import RNNModel\n",
    "from src.model.dataset import NovartisDataset"
   ]
  },
  {
   "cell_type": "markdown",
   "metadata": {},
   "source": [
    "### Params"
   ]
  },
  {
   "cell_type": "code",
   "execution_count": 4,
   "metadata": {},
   "outputs": [],
   "source": [
    "input_dim = 3\n",
    "hidden_dim = 20\n",
    "num_layers = 1"
   ]
  },
  {
   "cell_type": "code",
   "execution_count": 5,
   "metadata": {},
   "outputs": [],
   "source": [
    "SEED = 27\n",
    "SEED = 28\n",
    "LR = 1e-3\n",
    "NUM_WORKERS = 8\n",
    "\n",
    "TEST_SIZE = 0.20"
   ]
  },
  {
   "cell_type": "code",
   "execution_count": 6,
   "metadata": {},
   "outputs": [
    {
     "data": {
      "text/plain": [
       "28"
      ]
     },
     "execution_count": 6,
     "metadata": {},
     "output_type": "execute_result"
    }
   ],
   "source": [
    "pl.seed_everything(SEED)"
   ]
  },
  {
   "cell_type": "markdown",
   "metadata": {},
   "source": [
    "# Data"
   ]
  },
  {
   "cell_type": "code",
   "execution_count": 7,
   "metadata": {},
   "outputs": [],
   "source": [
    "df = pd.read_csv(\"data/features/final_features.csv\")"
   ]
  },
  {
   "cell_type": "code",
   "execution_count": 8,
   "metadata": {},
   "outputs": [],
   "source": [
    "df = df.sort_values([\"country\", \"brand\", \"month_num\"])"
   ]
  },
  {
   "cell_type": "code",
   "execution_count": 9,
   "metadata": {},
   "outputs": [
    {
     "data": {
      "text/html": [
       "<div>\n",
       "<style scoped>\n",
       "    .dataframe tbody tr th:only-of-type {\n",
       "        vertical-align: middle;\n",
       "    }\n",
       "\n",
       "    .dataframe tbody tr th {\n",
       "        vertical-align: top;\n",
       "    }\n",
       "\n",
       "    .dataframe thead th {\n",
       "        text-align: right;\n",
       "    }\n",
       "</style>\n",
       "<table border=\"1\" class=\"dataframe\">\n",
       "  <thead>\n",
       "    <tr style=\"text-align: right;\">\n",
       "      <th></th>\n",
       "      <th>country</th>\n",
       "      <th>brand</th>\n",
       "      <th>volume</th>\n",
       "      <th>month_num</th>\n",
       "      <th>country_id</th>\n",
       "      <th>brand_id</th>\n",
       "      <th>num_generics</th>\n",
       "      <th>package_id</th>\n",
       "      <th>channel_rate_A</th>\n",
       "      <th>channel_rate_B</th>\n",
       "      <th>channel_rate_C</th>\n",
       "      <th>therapeutic_id</th>\n",
       "      <th>avg_12_volume</th>\n",
       "      <th>max_volume</th>\n",
       "      <th>month_sin</th>\n",
       "      <th>month_cos</th>\n",
       "      <th>volume_norm</th>\n",
       "    </tr>\n",
       "  </thead>\n",
       "  <tbody>\n",
       "    <tr>\n",
       "      <th>224</th>\n",
       "      <td>country_1</td>\n",
       "      <td>brand_10</td>\n",
       "      <td>6088874.84</td>\n",
       "      <td>-47</td>\n",
       "      <td>0</td>\n",
       "      <td>1</td>\n",
       "      <td>0.12</td>\n",
       "      <td>6</td>\n",
       "      <td>0.0</td>\n",
       "      <td>0.010157</td>\n",
       "      <td>0.000000</td>\n",
       "      <td>6</td>\n",
       "      <td>7.325746e+06</td>\n",
       "      <td>8296237.56</td>\n",
       "      <td>-0.500000</td>\n",
       "      <td>-8.660254e-01</td>\n",
       "      <td>0.733932</td>\n",
       "    </tr>\n",
       "    <tr>\n",
       "      <th>225</th>\n",
       "      <td>country_1</td>\n",
       "      <td>brand_10</td>\n",
       "      <td>6658654.12</td>\n",
       "      <td>-46</td>\n",
       "      <td>0</td>\n",
       "      <td>1</td>\n",
       "      <td>0.12</td>\n",
       "      <td>6</td>\n",
       "      <td>0.0</td>\n",
       "      <td>0.010157</td>\n",
       "      <td>0.000000</td>\n",
       "      <td>6</td>\n",
       "      <td>7.325746e+06</td>\n",
       "      <td>8296237.56</td>\n",
       "      <td>-0.866025</td>\n",
       "      <td>-5.000000e-01</td>\n",
       "      <td>0.802611</td>\n",
       "    </tr>\n",
       "    <tr>\n",
       "      <th>226</th>\n",
       "      <td>country_1</td>\n",
       "      <td>brand_10</td>\n",
       "      <td>6055711.56</td>\n",
       "      <td>-45</td>\n",
       "      <td>0</td>\n",
       "      <td>1</td>\n",
       "      <td>0.12</td>\n",
       "      <td>6</td>\n",
       "      <td>0.0</td>\n",
       "      <td>0.010157</td>\n",
       "      <td>0.000000</td>\n",
       "      <td>6</td>\n",
       "      <td>7.325746e+06</td>\n",
       "      <td>8296237.56</td>\n",
       "      <td>-1.000000</td>\n",
       "      <td>-1.836970e-16</td>\n",
       "      <td>0.729935</td>\n",
       "    </tr>\n",
       "    <tr>\n",
       "      <th>227</th>\n",
       "      <td>country_1</td>\n",
       "      <td>brand_10</td>\n",
       "      <td>7036485.24</td>\n",
       "      <td>-44</td>\n",
       "      <td>0</td>\n",
       "      <td>1</td>\n",
       "      <td>0.12</td>\n",
       "      <td>6</td>\n",
       "      <td>0.0</td>\n",
       "      <td>0.010157</td>\n",
       "      <td>0.000000</td>\n",
       "      <td>6</td>\n",
       "      <td>7.325746e+06</td>\n",
       "      <td>8296237.56</td>\n",
       "      <td>-0.866025</td>\n",
       "      <td>5.000000e-01</td>\n",
       "      <td>0.848154</td>\n",
       "    </tr>\n",
       "    <tr>\n",
       "      <th>228</th>\n",
       "      <td>country_1</td>\n",
       "      <td>brand_10</td>\n",
       "      <td>6786609.28</td>\n",
       "      <td>-43</td>\n",
       "      <td>0</td>\n",
       "      <td>1</td>\n",
       "      <td>0.12</td>\n",
       "      <td>6</td>\n",
       "      <td>0.0</td>\n",
       "      <td>0.010157</td>\n",
       "      <td>0.000000</td>\n",
       "      <td>6</td>\n",
       "      <td>7.325746e+06</td>\n",
       "      <td>8296237.56</td>\n",
       "      <td>-0.500000</td>\n",
       "      <td>8.660254e-01</td>\n",
       "      <td>0.818035</td>\n",
       "    </tr>\n",
       "    <tr>\n",
       "      <th>...</th>\n",
       "      <td>...</td>\n",
       "      <td>...</td>\n",
       "      <td>...</td>\n",
       "      <td>...</td>\n",
       "      <td>...</td>\n",
       "      <td>...</td>\n",
       "      <td>...</td>\n",
       "      <td>...</td>\n",
       "      <td>...</td>\n",
       "      <td>...</td>\n",
       "      <td>...</td>\n",
       "      <td>...</td>\n",
       "      <td>...</td>\n",
       "      <td>...</td>\n",
       "      <td>...</td>\n",
       "      <td>...</td>\n",
       "      <td>...</td>\n",
       "    </tr>\n",
       "    <tr>\n",
       "      <th>43242</th>\n",
       "      <td>country_9</td>\n",
       "      <td>brand_477</td>\n",
       "      <td>10752.88</td>\n",
       "      <td>19</td>\n",
       "      <td>15</td>\n",
       "      <td>419</td>\n",
       "      <td>0.02</td>\n",
       "      <td>3</td>\n",
       "      <td>0.0</td>\n",
       "      <td>0.068118</td>\n",
       "      <td>0.931882</td>\n",
       "      <td>6</td>\n",
       "      <td>2.925174e+04</td>\n",
       "      <td>39475.20</td>\n",
       "      <td>0.500000</td>\n",
       "      <td>8.660254e-01</td>\n",
       "      <td>0.272396</td>\n",
       "    </tr>\n",
       "    <tr>\n",
       "      <th>43243</th>\n",
       "      <td>country_9</td>\n",
       "      <td>brand_477</td>\n",
       "      <td>9868.80</td>\n",
       "      <td>20</td>\n",
       "      <td>15</td>\n",
       "      <td>419</td>\n",
       "      <td>0.02</td>\n",
       "      <td>3</td>\n",
       "      <td>0.0</td>\n",
       "      <td>0.068118</td>\n",
       "      <td>0.931882</td>\n",
       "      <td>6</td>\n",
       "      <td>2.925174e+04</td>\n",
       "      <td>39475.20</td>\n",
       "      <td>0.866025</td>\n",
       "      <td>5.000000e-01</td>\n",
       "      <td>0.250000</td>\n",
       "    </tr>\n",
       "    <tr>\n",
       "      <th>43244</th>\n",
       "      <td>country_9</td>\n",
       "      <td>brand_477</td>\n",
       "      <td>6908.16</td>\n",
       "      <td>21</td>\n",
       "      <td>15</td>\n",
       "      <td>419</td>\n",
       "      <td>0.02</td>\n",
       "      <td>3</td>\n",
       "      <td>0.0</td>\n",
       "      <td>0.068118</td>\n",
       "      <td>0.931882</td>\n",
       "      <td>6</td>\n",
       "      <td>2.925174e+04</td>\n",
       "      <td>39475.20</td>\n",
       "      <td>1.000000</td>\n",
       "      <td>6.123234e-17</td>\n",
       "      <td>0.175000</td>\n",
       "    </tr>\n",
       "    <tr>\n",
       "      <th>43245</th>\n",
       "      <td>country_9</td>\n",
       "      <td>brand_477</td>\n",
       "      <td>3947.52</td>\n",
       "      <td>22</td>\n",
       "      <td>15</td>\n",
       "      <td>419</td>\n",
       "      <td>0.02</td>\n",
       "      <td>3</td>\n",
       "      <td>0.0</td>\n",
       "      <td>0.068118</td>\n",
       "      <td>0.931882</td>\n",
       "      <td>6</td>\n",
       "      <td>2.925174e+04</td>\n",
       "      <td>39475.20</td>\n",
       "      <td>0.866025</td>\n",
       "      <td>-5.000000e-01</td>\n",
       "      <td>0.100000</td>\n",
       "    </tr>\n",
       "    <tr>\n",
       "      <th>43246</th>\n",
       "      <td>country_9</td>\n",
       "      <td>brand_477</td>\n",
       "      <td>7895.04</td>\n",
       "      <td>23</td>\n",
       "      <td>15</td>\n",
       "      <td>419</td>\n",
       "      <td>0.02</td>\n",
       "      <td>3</td>\n",
       "      <td>0.0</td>\n",
       "      <td>0.068118</td>\n",
       "      <td>0.931882</td>\n",
       "      <td>6</td>\n",
       "      <td>2.925174e+04</td>\n",
       "      <td>39475.20</td>\n",
       "      <td>0.500000</td>\n",
       "      <td>-8.660254e-01</td>\n",
       "      <td>0.200000</td>\n",
       "    </tr>\n",
       "  </tbody>\n",
       "</table>\n",
       "<p>95548 rows × 17 columns</p>\n",
       "</div>"
      ],
      "text/plain": [
       "         country      brand      volume  month_num  country_id  brand_id  \\\n",
       "224    country_1   brand_10  6088874.84        -47           0         1   \n",
       "225    country_1   brand_10  6658654.12        -46           0         1   \n",
       "226    country_1   brand_10  6055711.56        -45           0         1   \n",
       "227    country_1   brand_10  7036485.24        -44           0         1   \n",
       "228    country_1   brand_10  6786609.28        -43           0         1   \n",
       "...          ...        ...         ...        ...         ...       ...   \n",
       "43242  country_9  brand_477    10752.88         19          15       419   \n",
       "43243  country_9  brand_477     9868.80         20          15       419   \n",
       "43244  country_9  brand_477     6908.16         21          15       419   \n",
       "43245  country_9  brand_477     3947.52         22          15       419   \n",
       "43246  country_9  brand_477     7895.04         23          15       419   \n",
       "\n",
       "       num_generics  package_id  channel_rate_A  channel_rate_B  \\\n",
       "224            0.12           6             0.0        0.010157   \n",
       "225            0.12           6             0.0        0.010157   \n",
       "226            0.12           6             0.0        0.010157   \n",
       "227            0.12           6             0.0        0.010157   \n",
       "228            0.12           6             0.0        0.010157   \n",
       "...             ...         ...             ...             ...   \n",
       "43242          0.02           3             0.0        0.068118   \n",
       "43243          0.02           3             0.0        0.068118   \n",
       "43244          0.02           3             0.0        0.068118   \n",
       "43245          0.02           3             0.0        0.068118   \n",
       "43246          0.02           3             0.0        0.068118   \n",
       "\n",
       "       channel_rate_C  therapeutic_id  avg_12_volume  max_volume  month_sin  \\\n",
       "224          0.000000               6   7.325746e+06  8296237.56  -0.500000   \n",
       "225          0.000000               6   7.325746e+06  8296237.56  -0.866025   \n",
       "226          0.000000               6   7.325746e+06  8296237.56  -1.000000   \n",
       "227          0.000000               6   7.325746e+06  8296237.56  -0.866025   \n",
       "228          0.000000               6   7.325746e+06  8296237.56  -0.500000   \n",
       "...               ...             ...            ...         ...        ...   \n",
       "43242        0.931882               6   2.925174e+04    39475.20   0.500000   \n",
       "43243        0.931882               6   2.925174e+04    39475.20   0.866025   \n",
       "43244        0.931882               6   2.925174e+04    39475.20   1.000000   \n",
       "43245        0.931882               6   2.925174e+04    39475.20   0.866025   \n",
       "43246        0.931882               6   2.925174e+04    39475.20   0.500000   \n",
       "\n",
       "          month_cos  volume_norm  \n",
       "224   -8.660254e-01     0.733932  \n",
       "225   -5.000000e-01     0.802611  \n",
       "226   -1.836970e-16     0.729935  \n",
       "227    5.000000e-01     0.848154  \n",
       "228    8.660254e-01     0.818035  \n",
       "...             ...          ...  \n",
       "43242  8.660254e-01     0.272396  \n",
       "43243  5.000000e-01     0.250000  \n",
       "43244  6.123234e-17     0.175000  \n",
       "43245 -5.000000e-01     0.100000  \n",
       "43246 -8.660254e-01     0.200000  \n",
       "\n",
       "[95548 rows x 17 columns]"
      ]
     },
     "execution_count": 9,
     "metadata": {},
     "output_type": "execute_result"
    }
   ],
   "source": [
    "df"
   ]
  },
  {
   "cell_type": "markdown",
   "metadata": {},
   "source": [
    "### Preprocessing"
   ]
  },
  {
   "cell_type": "markdown",
   "metadata": {},
   "source": [
    "#### Select only cases with 24 months after generic (To remove later)"
   ]
  },
  {
   "cell_type": "code",
   "execution_count": 9,
   "metadata": {},
   "outputs": [],
   "source": [
    "# Note: In the future, we will compute the loss only on data that we have available for each country/mont\n",
    "# i.e. If a country only has volume until mont 20, we will pad/ignore the loss of months 21-24\n",
    "country_brand_post_count = df[df[\"month_num\"] >= 0].groupby([\"country\", \"brand\"]).size()\n",
    "\n",
    "country_brand_post_count.name = \"post_months_count\"\n",
    "country_brand_post_count = country_brand_post_count.reset_index()"
   ]
  },
  {
   "cell_type": "code",
   "execution_count": 10,
   "metadata": {},
   "outputs": [],
   "source": [
    "df = df.merge(country_brand_post_count, on=[\"country\", \"brand\"], how=\"right\")"
   ]
  },
  {
   "cell_type": "code",
   "execution_count": 11,
   "metadata": {},
   "outputs": [],
   "source": [
    "# Select only dataset with 24 months after generic\n",
    "df = df[df[\"post_months_count\"]==24]"
   ]
  },
  {
   "cell_type": "code",
   "execution_count": 12,
   "metadata": {},
   "outputs": [],
   "source": [
    "# Remove unused column\n",
    "df = df.drop(columns=\"post_months_count\")"
   ]
  },
  {
   "cell_type": "markdown",
   "metadata": {},
   "source": [
    "#### Add country-brand column"
   ]
  },
  {
   "cell_type": "code",
   "execution_count": 13,
   "metadata": {},
   "outputs": [],
   "source": [
    "df[\"country_brand\"] = df[\"country\"] + \"-\" + df[\"brand\"]"
   ]
  },
  {
   "cell_type": "markdown",
   "metadata": {},
   "source": [
    "---"
   ]
  },
  {
   "cell_type": "markdown",
   "metadata": {},
   "source": [
    "# Train/Val Split"
   ]
  },
  {
   "cell_type": "markdown",
   "metadata": {},
   "source": [
    "### Train"
   ]
  },
  {
   "cell_type": "code",
   "execution_count": 14,
   "metadata": {},
   "outputs": [],
   "source": [
    "from sklearn.model_selection import train_test_split"
   ]
  },
  {
   "cell_type": "code",
   "execution_count": 15,
   "metadata": {
    "scrolled": true
   },
   "outputs": [],
   "source": [
    "country_brands = df[\"country_brand\"].drop_duplicates().values"
   ]
  },
  {
   "cell_type": "code",
   "execution_count": 16,
   "metadata": {},
   "outputs": [],
   "source": [
    "# Train/Val split\n",
    "country_brands_train, country_brands_val = train_test_split(country_brands,\n",
    "                                                            test_size=TEST_SIZE,\n",
    "                                                            random_state=SEED)"
   ]
  },
  {
   "cell_type": "code",
   "execution_count": 17,
   "metadata": {},
   "outputs": [],
   "source": [
    "volume_train = df[df[\"country_brand\"].isin(country_brands_train)].copy()"
   ]
  },
  {
   "cell_type": "markdown",
   "metadata": {},
   "source": [
    "#### Dataset/DataLoader"
   ]
  },
  {
   "cell_type": "code",
   "execution_count": 18,
   "metadata": {},
   "outputs": [],
   "source": [
    "ds_train = NovartisDataset(volume_train)\n",
    "dl_train = DataLoader(ds_train, batch_size=1, num_workers=NUM_WORKERS, shuffle=True)"
   ]
  },
  {
   "cell_type": "markdown",
   "metadata": {},
   "source": [
    "### Validation"
   ]
  },
  {
   "cell_type": "code",
   "execution_count": 19,
   "metadata": {},
   "outputs": [],
   "source": [
    "volume_val = df[df[\"country_brand\"].isin(country_brands_val)].copy()"
   ]
  },
  {
   "cell_type": "code",
   "execution_count": 20,
   "metadata": {},
   "outputs": [],
   "source": [
    "ds_val = NovartisDataset(volume_val)\n",
    "dl_val = DataLoader(ds_val, batch_size=1, num_workers=NUM_WORKERS)"
   ]
  },
  {
   "cell_type": "markdown",
   "metadata": {},
   "source": [
    "# Lightning"
   ]
  },
  {
   "cell_type": "raw",
   "metadata": {},
   "source": [
    "checkpoint_callback = pl.callbacks.ModelCheckpoint(monitor=\"val_loss\")\n",
    "early_stopping_callback = pl.callbacks.EarlyStopping(monitor=\"val_loss\")"
   ]
  },
  {
   "cell_type": "raw",
   "metadata": {},
   "source": [
    "trainer = pl.Trainer(max_epochs=50,\n",
    "                     callbacks=[checkpoint_callback, early_stopping_callback],\n",
    "                     accumulate_grad_batches=4,\n",
    "                     gpus=1)\n",
    "model = RNNModel(input_dim=input_dim, hidden_dim=hidden_dim, num_layers=num_layers, lr=LR)"
   ]
  },
  {
   "cell_type": "raw",
   "metadata": {},
   "source": [
    "trainer.fit(model, train_dataloader=dl_train, val_dataloaders=dl_val)"
   ]
  },
  {
   "cell_type": "markdown",
   "metadata": {},
   "source": [
    "# Predict"
   ]
  },
  {
   "cell_type": "code",
   "execution_count": 21,
   "metadata": {},
   "outputs": [],
   "source": [
    "model_path = \"lightning_logs/version_5/checkpoints/epoch=49.ckpt\"\n",
    "model_path = \"lightning_logs/version_8/checkpoints/epoch=13.ckpt\"\n",
    "model_path = \"lightning_logs/version_12/checkpoints/epoch=18.ckpt\"\n",
    "model_path = \"lightning_logs/version_14/checkpoints/epoch=17.ckpt\""
   ]
  },
  {
   "cell_type": "code",
   "execution_count": 22,
   "metadata": {},
   "outputs": [],
   "source": [
    "model = RNNModel.load_from_checkpoint(model_path)"
   ]
  },
  {
   "cell_type": "code",
   "execution_count": 23,
   "metadata": {},
   "outputs": [],
   "source": [
    "df = pd.read_csv(\"data/features/final_features.csv\")\n",
    "df[\"country_brand\"] = df[\"country\"] + \"-\" + df[\"brand\"]"
   ]
  },
  {
   "cell_type": "code",
   "execution_count": 24,
   "metadata": {},
   "outputs": [],
   "source": [
    "submissions = pd.read_csv(\"data/raw/submission_template.csv\")\n",
    "submissions[\"country_brand\"] = submissions[\"country\"] + \"-\" + submissions[\"brand\"]"
   ]
  },
  {
   "cell_type": "code",
   "execution_count": 25,
   "metadata": {},
   "outputs": [],
   "source": [
    "# Filter out country/brand in submissions\n",
    "df_test = df[df[\"country_brand\"].isin(submissions[\"country_brand\"])]\n",
    "\n",
    "# Sort values\n",
    "df_test = df_test.sort_values([\"country\", \"brand\", \"month_num\"])"
   ]
  },
  {
   "cell_type": "code",
   "execution_count": 26,
   "metadata": {},
   "outputs": [
    {
     "data": {
      "text/html": [
       "<div>\n",
       "<style scoped>\n",
       "    .dataframe tbody tr th:only-of-type {\n",
       "        vertical-align: middle;\n",
       "    }\n",
       "\n",
       "    .dataframe tbody tr th {\n",
       "        vertical-align: top;\n",
       "    }\n",
       "\n",
       "    .dataframe thead th {\n",
       "        text-align: right;\n",
       "    }\n",
       "</style>\n",
       "<table border=\"1\" class=\"dataframe\">\n",
       "  <thead>\n",
       "    <tr style=\"text-align: right;\">\n",
       "      <th></th>\n",
       "      <th>country</th>\n",
       "      <th>brand</th>\n",
       "      <th>volume</th>\n",
       "      <th>month_num</th>\n",
       "      <th>country_id</th>\n",
       "      <th>brand_id</th>\n",
       "      <th>num_generics</th>\n",
       "      <th>package_id</th>\n",
       "      <th>channel_rate_A</th>\n",
       "      <th>channel_rate_B</th>\n",
       "      <th>channel_rate_C</th>\n",
       "      <th>therapeutic_id</th>\n",
       "      <th>avg_12_volume</th>\n",
       "      <th>max_volume</th>\n",
       "      <th>month_sin</th>\n",
       "      <th>month_cos</th>\n",
       "      <th>volume_norm</th>\n",
       "      <th>country_brand</th>\n",
       "    </tr>\n",
       "  </thead>\n",
       "  <tbody>\n",
       "    <tr>\n",
       "      <th>76478</th>\n",
       "      <td>country_1</td>\n",
       "      <td>brand_121</td>\n",
       "      <td>109954.88</td>\n",
       "      <td>-101</td>\n",
       "      <td>0</td>\n",
       "      <td>25</td>\n",
       "      <td>0.08</td>\n",
       "      <td>6</td>\n",
       "      <td>0.0</td>\n",
       "      <td>0.017237</td>\n",
       "      <td>0.0</td>\n",
       "      <td>7</td>\n",
       "      <td>35999789.0</td>\n",
       "      <td>38294953.2</td>\n",
       "      <td>0.500000</td>\n",
       "      <td>8.660254e-01</td>\n",
       "      <td>0.002871</td>\n",
       "      <td>country_1-brand_121</td>\n",
       "    </tr>\n",
       "    <tr>\n",
       "      <th>76479</th>\n",
       "      <td>country_1</td>\n",
       "      <td>brand_121</td>\n",
       "      <td>860929.44</td>\n",
       "      <td>-100</td>\n",
       "      <td>0</td>\n",
       "      <td>25</td>\n",
       "      <td>0.08</td>\n",
       "      <td>6</td>\n",
       "      <td>0.0</td>\n",
       "      <td>0.017237</td>\n",
       "      <td>0.0</td>\n",
       "      <td>7</td>\n",
       "      <td>35999789.0</td>\n",
       "      <td>38294953.2</td>\n",
       "      <td>0.866025</td>\n",
       "      <td>5.000000e-01</td>\n",
       "      <td>0.022482</td>\n",
       "      <td>country_1-brand_121</td>\n",
       "    </tr>\n",
       "    <tr>\n",
       "      <th>76480</th>\n",
       "      <td>country_1</td>\n",
       "      <td>brand_121</td>\n",
       "      <td>1455175.12</td>\n",
       "      <td>-99</td>\n",
       "      <td>0</td>\n",
       "      <td>25</td>\n",
       "      <td>0.08</td>\n",
       "      <td>6</td>\n",
       "      <td>0.0</td>\n",
       "      <td>0.017237</td>\n",
       "      <td>0.0</td>\n",
       "      <td>7</td>\n",
       "      <td>35999789.0</td>\n",
       "      <td>38294953.2</td>\n",
       "      <td>1.000000</td>\n",
       "      <td>6.123234e-17</td>\n",
       "      <td>0.037999</td>\n",
       "      <td>country_1-brand_121</td>\n",
       "    </tr>\n",
       "    <tr>\n",
       "      <th>76481</th>\n",
       "      <td>country_1</td>\n",
       "      <td>brand_121</td>\n",
       "      <td>1883624.96</td>\n",
       "      <td>-98</td>\n",
       "      <td>0</td>\n",
       "      <td>25</td>\n",
       "      <td>0.08</td>\n",
       "      <td>6</td>\n",
       "      <td>0.0</td>\n",
       "      <td>0.017237</td>\n",
       "      <td>0.0</td>\n",
       "      <td>7</td>\n",
       "      <td>35999789.0</td>\n",
       "      <td>38294953.2</td>\n",
       "      <td>0.866025</td>\n",
       "      <td>-5.000000e-01</td>\n",
       "      <td>0.049187</td>\n",
       "      <td>country_1-brand_121</td>\n",
       "    </tr>\n",
       "    <tr>\n",
       "      <th>76482</th>\n",
       "      <td>country_1</td>\n",
       "      <td>brand_121</td>\n",
       "      <td>2451245.44</td>\n",
       "      <td>-97</td>\n",
       "      <td>0</td>\n",
       "      <td>25</td>\n",
       "      <td>0.08</td>\n",
       "      <td>6</td>\n",
       "      <td>0.0</td>\n",
       "      <td>0.017237</td>\n",
       "      <td>0.0</td>\n",
       "      <td>7</td>\n",
       "      <td>35999789.0</td>\n",
       "      <td>38294953.2</td>\n",
       "      <td>0.500000</td>\n",
       "      <td>-8.660254e-01</td>\n",
       "      <td>0.064010</td>\n",
       "      <td>country_1-brand_121</td>\n",
       "    </tr>\n",
       "  </tbody>\n",
       "</table>\n",
       "</div>"
      ],
      "text/plain": [
       "         country      brand      volume  month_num  country_id  brand_id  \\\n",
       "76478  country_1  brand_121   109954.88       -101           0        25   \n",
       "76479  country_1  brand_121   860929.44       -100           0        25   \n",
       "76480  country_1  brand_121  1455175.12        -99           0        25   \n",
       "76481  country_1  brand_121  1883624.96        -98           0        25   \n",
       "76482  country_1  brand_121  2451245.44        -97           0        25   \n",
       "\n",
       "       num_generics  package_id  channel_rate_A  channel_rate_B  \\\n",
       "76478          0.08           6             0.0        0.017237   \n",
       "76479          0.08           6             0.0        0.017237   \n",
       "76480          0.08           6             0.0        0.017237   \n",
       "76481          0.08           6             0.0        0.017237   \n",
       "76482          0.08           6             0.0        0.017237   \n",
       "\n",
       "       channel_rate_C  therapeutic_id  avg_12_volume  max_volume  month_sin  \\\n",
       "76478             0.0               7     35999789.0  38294953.2   0.500000   \n",
       "76479             0.0               7     35999789.0  38294953.2   0.866025   \n",
       "76480             0.0               7     35999789.0  38294953.2   1.000000   \n",
       "76481             0.0               7     35999789.0  38294953.2   0.866025   \n",
       "76482             0.0               7     35999789.0  38294953.2   0.500000   \n",
       "\n",
       "          month_cos  volume_norm        country_brand  \n",
       "76478  8.660254e-01     0.002871  country_1-brand_121  \n",
       "76479  5.000000e-01     0.022482  country_1-brand_121  \n",
       "76480  6.123234e-17     0.037999  country_1-brand_121  \n",
       "76481 -5.000000e-01     0.049187  country_1-brand_121  \n",
       "76482 -8.660254e-01     0.064010  country_1-brand_121  "
      ]
     },
     "execution_count": 26,
     "metadata": {},
     "output_type": "execute_result"
    }
   ],
   "source": [
    "df_test.head()"
   ]
  },
  {
   "cell_type": "markdown",
   "metadata": {},
   "source": [
    "### Test"
   ]
  },
  {
   "cell_type": "code",
   "execution_count": 27,
   "metadata": {},
   "outputs": [],
   "source": [
    "ds_test = NovartisDataset(df_test)\n",
    "dl_test = DataLoader(ds_test, batch_size=1, num_workers=0)"
   ]
  },
  {
   "cell_type": "code",
   "execution_count": 28,
   "metadata": {},
   "outputs": [],
   "source": [
    "max_volume_series = df.groupby(\"country_brand\")[\"max_volume\"].unique().apply(lambda x: x.item())"
   ]
  },
  {
   "cell_type": "code",
   "execution_count": 29,
   "metadata": {},
   "outputs": [],
   "source": [
    "ds_test = NovartisDataset(df_test)"
   ]
  },
  {
   "cell_type": "code",
   "execution_count": 44,
   "metadata": {},
   "outputs": [
    {
     "name": "stderr",
     "output_type": "stream",
     "text": [
      "100%|██████████| 191/191 [00:06<00:00, 31.72it/s]\n"
     ]
    }
   ],
   "source": [
    "predictions = []\n",
    "\n",
    "model.eval()\n",
    "for n, batch in enumerate(tqdm(dl_test)):\n",
    "    # Unpack batch\n",
    "    encoder_temp_features = batch[\"encoder_temp_features\"]\n",
    "    encoder_num_features = batch[\"encoder_num_features\"]\n",
    "    encoder_cat_features = batch[\"encoder_cat_features\"]\n",
    "    decoder_temp_features = batch[\"decoder_temp_features\"]\n",
    "    y = batch[\"y_norm\"]\n",
    "    avg_12_volume = batch[\"avg_12_volume\"]\n",
    "    max_volume = batch[\"max_volume\"]\n",
    "\n",
    "    # Permute arrays\n",
    "    encoder_temp_features = encoder_temp_features.permute(1, 0, 2)\n",
    "    y = y.permute(1, 0, 2)\n",
    "\n",
    "    # encoder_num_features = encoder_num_features.permute(1, 0)\n",
    "    encoder_cat_features = encoder_cat_features.permute(1, 0)\n",
    "\n",
    "    # Predict\n",
    "    y_hat = model(encoder_temp_features,\n",
    "                 encoder_num_features,\n",
    "                 encoder_cat_features,\n",
    "                 y)\n",
    "    \n",
    "    \n",
    "    volume_preds = y_hat[\"prediction\"].detach().numpy().flatten()\n",
    "    upper_bounds = y_hat[\"upper_bound\"].detach().numpy().flatten()\n",
    "    lower_bounds = y_hat[\"lower_bound\"].detach().numpy().flatten()\n",
    "\n",
    "    for month in range(24):\n",
    "        country, brand = ds_test.group_keys[n]\n",
    "        \n",
    "        # Add volume scaling\n",
    "        volume_scaling = max_volume_series.loc[country + \"-\" + brand].item()\n",
    "        \n",
    "        # Select month predictions + Scale\n",
    "        vol_pred = volume_preds[month] * volume_scaling\n",
    "        upper_pred = upper_bounds[month] * volume_scaling\n",
    "        lower_pred = lower_bounds[month] * volume_scaling\n",
    "        \n",
    "        # Filter out negative values\n",
    "        vol_pred = max(vol_pred, 0)\n",
    "\n",
    "        prediction = {\"country\": country,\n",
    "                      \"brand\": brand,\n",
    "                      \"month_num\": month,\n",
    "                      \"pred_95_low\": lower_pred,\n",
    "                      \"prediction\": vol_pred,\n",
    "                      \"pred_95_high\": upper_pred}\n",
    "\n",
    "        predictions.append(prediction)"
   ]
  },
  {
   "cell_type": "code",
   "execution_count": 45,
   "metadata": {},
   "outputs": [
    {
     "data": {
      "text/html": [
       "<div>\n",
       "<style scoped>\n",
       "    .dataframe tbody tr th:only-of-type {\n",
       "        vertical-align: middle;\n",
       "    }\n",
       "\n",
       "    .dataframe tbody tr th {\n",
       "        vertical-align: top;\n",
       "    }\n",
       "\n",
       "    .dataframe thead th {\n",
       "        text-align: right;\n",
       "    }\n",
       "</style>\n",
       "<table border=\"1\" class=\"dataframe\">\n",
       "  <thead>\n",
       "    <tr style=\"text-align: right;\">\n",
       "      <th></th>\n",
       "      <th>country</th>\n",
       "      <th>brand</th>\n",
       "      <th>month_num</th>\n",
       "      <th>pred_95_low</th>\n",
       "      <th>prediction</th>\n",
       "      <th>pred_95_high</th>\n",
       "    </tr>\n",
       "  </thead>\n",
       "  <tbody>\n",
       "    <tr>\n",
       "      <th>0</th>\n",
       "      <td>country_1</td>\n",
       "      <td>brand_121</td>\n",
       "      <td>0</td>\n",
       "      <td>2.333995e+07</td>\n",
       "      <td>2.948169e+07</td>\n",
       "      <td>3.694184e+07</td>\n",
       "    </tr>\n",
       "    <tr>\n",
       "      <th>1</th>\n",
       "      <td>country_1</td>\n",
       "      <td>brand_121</td>\n",
       "      <td>1</td>\n",
       "      <td>1.761050e+07</td>\n",
       "      <td>2.558073e+07</td>\n",
       "      <td>3.342574e+07</td>\n",
       "    </tr>\n",
       "    <tr>\n",
       "      <th>2</th>\n",
       "      <td>country_1</td>\n",
       "      <td>brand_121</td>\n",
       "      <td>2</td>\n",
       "      <td>1.462331e+07</td>\n",
       "      <td>2.286846e+07</td>\n",
       "      <td>3.101626e+07</td>\n",
       "    </tr>\n",
       "    <tr>\n",
       "      <th>3</th>\n",
       "      <td>country_1</td>\n",
       "      <td>brand_121</td>\n",
       "      <td>3</td>\n",
       "      <td>1.284896e+07</td>\n",
       "      <td>2.104600e+07</td>\n",
       "      <td>2.943673e+07</td>\n",
       "    </tr>\n",
       "    <tr>\n",
       "      <th>4</th>\n",
       "      <td>country_1</td>\n",
       "      <td>brand_121</td>\n",
       "      <td>4</td>\n",
       "      <td>1.171924e+07</td>\n",
       "      <td>1.981212e+07</td>\n",
       "      <td>2.837587e+07</td>\n",
       "    </tr>\n",
       "  </tbody>\n",
       "</table>\n",
       "</div>"
      ],
      "text/plain": [
       "     country      brand  month_num   pred_95_low    prediction  pred_95_high\n",
       "0  country_1  brand_121          0  2.333995e+07  2.948169e+07  3.694184e+07\n",
       "1  country_1  brand_121          1  1.761050e+07  2.558073e+07  3.342574e+07\n",
       "2  country_1  brand_121          2  1.462331e+07  2.286846e+07  3.101626e+07\n",
       "3  country_1  brand_121          3  1.284896e+07  2.104600e+07  2.943673e+07\n",
       "4  country_1  brand_121          4  1.171924e+07  1.981212e+07  2.837587e+07"
      ]
     },
     "execution_count": 45,
     "metadata": {},
     "output_type": "execute_result"
    }
   ],
   "source": [
    "df_preds = pd.DataFrame(predictions)\n",
    "df_preds.head()"
   ]
  },
  {
   "cell_type": "markdown",
   "metadata": {},
   "source": [
    "# Submission"
   ]
  },
  {
   "cell_type": "code",
   "execution_count": 46,
   "metadata": {},
   "outputs": [
    {
     "data": {
      "text/html": [
       "<div>\n",
       "<style scoped>\n",
       "    .dataframe tbody tr th:only-of-type {\n",
       "        vertical-align: middle;\n",
       "    }\n",
       "\n",
       "    .dataframe tbody tr th {\n",
       "        vertical-align: top;\n",
       "    }\n",
       "\n",
       "    .dataframe thead th {\n",
       "        text-align: right;\n",
       "    }\n",
       "</style>\n",
       "<table border=\"1\" class=\"dataframe\">\n",
       "  <thead>\n",
       "    <tr style=\"text-align: right;\">\n",
       "      <th></th>\n",
       "      <th>country</th>\n",
       "      <th>brand</th>\n",
       "      <th>month_num</th>\n",
       "      <th>pred_95_low</th>\n",
       "      <th>prediction</th>\n",
       "      <th>pred_95_high</th>\n",
       "    </tr>\n",
       "  </thead>\n",
       "  <tbody>\n",
       "    <tr>\n",
       "      <th>0</th>\n",
       "      <td>country_1</td>\n",
       "      <td>brand_121</td>\n",
       "      <td>0</td>\n",
       "      <td>2.333995e+07</td>\n",
       "      <td>2.948169e+07</td>\n",
       "      <td>3.694184e+07</td>\n",
       "    </tr>\n",
       "    <tr>\n",
       "      <th>1</th>\n",
       "      <td>country_1</td>\n",
       "      <td>brand_121</td>\n",
       "      <td>1</td>\n",
       "      <td>1.761050e+07</td>\n",
       "      <td>2.558073e+07</td>\n",
       "      <td>3.342574e+07</td>\n",
       "    </tr>\n",
       "    <tr>\n",
       "      <th>2</th>\n",
       "      <td>country_1</td>\n",
       "      <td>brand_121</td>\n",
       "      <td>2</td>\n",
       "      <td>1.462331e+07</td>\n",
       "      <td>2.286846e+07</td>\n",
       "      <td>3.101626e+07</td>\n",
       "    </tr>\n",
       "    <tr>\n",
       "      <th>3</th>\n",
       "      <td>country_1</td>\n",
       "      <td>brand_121</td>\n",
       "      <td>3</td>\n",
       "      <td>1.284896e+07</td>\n",
       "      <td>2.104600e+07</td>\n",
       "      <td>2.943673e+07</td>\n",
       "    </tr>\n",
       "    <tr>\n",
       "      <th>4</th>\n",
       "      <td>country_1</td>\n",
       "      <td>brand_121</td>\n",
       "      <td>4</td>\n",
       "      <td>1.171924e+07</td>\n",
       "      <td>1.981212e+07</td>\n",
       "      <td>2.837587e+07</td>\n",
       "    </tr>\n",
       "  </tbody>\n",
       "</table>\n",
       "</div>"
      ],
      "text/plain": [
       "     country      brand  month_num   pred_95_low    prediction  pred_95_high\n",
       "0  country_1  brand_121          0  2.333995e+07  2.948169e+07  3.694184e+07\n",
       "1  country_1  brand_121          1  1.761050e+07  2.558073e+07  3.342574e+07\n",
       "2  country_1  brand_121          2  1.462331e+07  2.286846e+07  3.101626e+07\n",
       "3  country_1  brand_121          3  1.284896e+07  2.104600e+07  2.943673e+07\n",
       "4  country_1  brand_121          4  1.171924e+07  1.981212e+07  2.837587e+07"
      ]
     },
     "execution_count": 46,
     "metadata": {},
     "output_type": "execute_result"
    }
   ],
   "source": [
    "# Add predictions to submissions\n",
    "merge_cols = [\"country\", \"brand\", \"month_num\"]\n",
    "final_submissions = submissions[merge_cols].merge(df_preds, on=merge_cols, how=\"left\")\n",
    "final_submissions.head()"
   ]
  },
  {
   "cell_type": "code",
   "execution_count": 47,
   "metadata": {},
   "outputs": [],
   "source": [
    "# Overwrite already know volumes to submissions\n",
    "df = df.set_index([\"country\", \"brand\", \"month_num\"])"
   ]
  },
  {
   "cell_type": "code",
   "execution_count": 48,
   "metadata": {
    "scrolled": true
   },
   "outputs": [],
   "source": [
    "for idx, _ in final_submissions.iterrows():\n",
    "    if idx in df.index:\n",
    "        final_submissions.loc[idx] = df.loc[idx, \"volume\"]"
   ]
  },
  {
   "cell_type": "raw",
   "metadata": {},
   "source": [
    "final_submissions.to_csv(\"data/submissions/sumbission_05.csv\", index=False)"
   ]
  },
  {
   "cell_type": "code",
   "execution_count": null,
   "metadata": {},
   "outputs": [],
   "source": []
  }
 ],
 "metadata": {
  "kernelspec": {
   "display_name": "Python 3",
   "language": "python",
   "name": "python3"
  },
  "language_info": {
   "codemirror_mode": {
    "name": "ipython",
    "version": 3
   },
   "file_extension": ".py",
   "mimetype": "text/x-python",
   "name": "python",
   "nbconvert_exporter": "python",
   "pygments_lexer": "ipython3",
   "version": "3.8.6"
  }
 },
 "nbformat": 4,
 "nbformat_minor": 4
}
